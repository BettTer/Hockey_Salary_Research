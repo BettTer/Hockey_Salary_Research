{
 "cells": [
  {
   "cell_type": "markdown",
   "metadata": {},
   "source": [
    "#### Sentiment analysis of players with more than 2 posts"
   ]
  },
  {
   "cell_type": "code",
   "execution_count": 38,
   "metadata": {},
   "outputs": [
    {
     "data": {
      "text/html": [
       "<div>\n",
       "<style scoped>\n",
       "    .dataframe tbody tr th:only-of-type {\n",
       "        vertical-align: middle;\n",
       "    }\n",
       "\n",
       "    .dataframe tbody tr th {\n",
       "        vertical-align: top;\n",
       "    }\n",
       "\n",
       "    .dataframe thead th {\n",
       "        text-align: right;\n",
       "    }\n",
       "</style>\n",
       "<table border=\"1\" class=\"dataframe\">\n",
       "  <thead>\n",
       "    <tr style=\"text-align: right;\">\n",
       "      <th></th>\n",
       "      <th>_id</th>\n",
       "      <th>created_date</th>\n",
       "      <th>score</th>\n",
       "      <th>combined_text</th>\n",
       "      <th>mentioned_players</th>\n",
       "      <th>mentioned_players_count</th>\n",
       "      <th>SENTIMENT</th>\n",
       "    </tr>\n",
       "  </thead>\n",
       "  <tbody>\n",
       "    <tr>\n",
       "      <th>0</th>\n",
       "      <td>6605c7cec120fd154e58655f</td>\n",
       "      <td>2024-03-28</td>\n",
       "      <td>0</td>\n",
       "      <td>McDavid's case for the Hart trophy\\nFirst off,...</td>\n",
       "      <td>johnny gaudreau</td>\n",
       "      <td>1</td>\n",
       "      <td>0.5</td>\n",
       "    </tr>\n",
       "    <tr>\n",
       "      <th>1</th>\n",
       "      <td>6605c7d07bcaf9812bb4a654</td>\n",
       "      <td>2024-03-27</td>\n",
       "      <td>1876</td>\n",
       "      <td>Sidney Crosby only made the NHL because his pa...</td>\n",
       "      <td>sidney crosby</td>\n",
       "      <td>1</td>\n",
       "      <td>-0.6</td>\n",
       "    </tr>\n",
       "    <tr>\n",
       "      <th>2</th>\n",
       "      <td>6605c7d07bcaf9812bb4a666</td>\n",
       "      <td>2024-03-27</td>\n",
       "      <td>51</td>\n",
       "      <td>As requested by my Oilers fans, Here’s my late...</td>\n",
       "      <td>zach hyman</td>\n",
       "      <td>1</td>\n",
       "      <td>1.0</td>\n",
       "    </tr>\n",
       "    <tr>\n",
       "      <th>3</th>\n",
       "      <td>6605c7d2193c784b94e387e9</td>\n",
       "      <td>2024-03-27</td>\n",
       "      <td>0</td>\n",
       "      <td>Really obscure stat\\nLogan Stanley played for ...</td>\n",
       "      <td>logan stanley</td>\n",
       "      <td>1</td>\n",
       "      <td>0.1</td>\n",
       "    </tr>\n",
       "    <tr>\n",
       "      <th>4</th>\n",
       "      <td>6605c7d2246827bb414386ae</td>\n",
       "      <td>2024-03-27</td>\n",
       "      <td>549</td>\n",
       "      <td>Jack Hughes buries the Leafs\\n</td>\n",
       "      <td>jack hughes</td>\n",
       "      <td>1</td>\n",
       "      <td>1.0</td>\n",
       "    </tr>\n",
       "    <tr>\n",
       "      <th>...</th>\n",
       "      <td>...</td>\n",
       "      <td>...</td>\n",
       "      <td>...</td>\n",
       "      <td>...</td>\n",
       "      <td>...</td>\n",
       "      <td>...</td>\n",
       "      <td>...</td>\n",
       "    </tr>\n",
       "    <tr>\n",
       "      <th>162</th>\n",
       "      <td>6614dc8e9c4b5e9f0b6885f0</td>\n",
       "      <td>2024-04-07</td>\n",
       "      <td>155</td>\n",
       "      <td>Brady Tkachuk sets record for most hits in 1 g...</td>\n",
       "      <td>brady tkachuk</td>\n",
       "      <td>1</td>\n",
       "      <td>1.0</td>\n",
       "    </tr>\n",
       "    <tr>\n",
       "      <th>163</th>\n",
       "      <td>6614dc8e9b0968b447f2dfd5</td>\n",
       "      <td>2024-04-07</td>\n",
       "      <td>46</td>\n",
       "      <td>Juraj Slafkovsky spectacular pass\\n</td>\n",
       "      <td>juraj slafkovsky</td>\n",
       "      <td>1</td>\n",
       "      <td>1.0</td>\n",
       "    </tr>\n",
       "    <tr>\n",
       "      <th>164</th>\n",
       "      <td>6614dc8f62576b69004bdbb3</td>\n",
       "      <td>2024-04-07</td>\n",
       "      <td>0</td>\n",
       "      <td>Evan Bouchard is the worst player in the leagu...</td>\n",
       "      <td>evan bouchard</td>\n",
       "      <td>1</td>\n",
       "      <td>-1.0</td>\n",
       "    </tr>\n",
       "    <tr>\n",
       "      <th>165</th>\n",
       "      <td>6614dc8f0668543a4f0419c3</td>\n",
       "      <td>2024-04-07</td>\n",
       "      <td>4782</td>\n",
       "      <td>Empty net etiquette expert Brady Tkachuk calml...</td>\n",
       "      <td>brady tkachuk</td>\n",
       "      <td>1</td>\n",
       "      <td>0.5</td>\n",
       "    </tr>\n",
       "    <tr>\n",
       "      <th>166</th>\n",
       "      <td>6614dc982e7759bb9b62b600</td>\n",
       "      <td>2024-04-06</td>\n",
       "      <td>260</td>\n",
       "      <td>Defenseman Haydn Fleury &amp; ref Steve Kozari dow...</td>\n",
       "      <td>haydn fleury</td>\n",
       "      <td>1</td>\n",
       "      <td>0.0</td>\n",
       "    </tr>\n",
       "  </tbody>\n",
       "</table>\n",
       "<p>133 rows × 7 columns</p>\n",
       "</div>"
      ],
      "text/plain": [
       "                          _id created_date  score  \\\n",
       "0    6605c7cec120fd154e58655f   2024-03-28      0   \n",
       "1    6605c7d07bcaf9812bb4a654   2024-03-27   1876   \n",
       "2    6605c7d07bcaf9812bb4a666   2024-03-27     51   \n",
       "3    6605c7d2193c784b94e387e9   2024-03-27      0   \n",
       "4    6605c7d2246827bb414386ae   2024-03-27    549   \n",
       "..                        ...          ...    ...   \n",
       "162  6614dc8e9c4b5e9f0b6885f0   2024-04-07    155   \n",
       "163  6614dc8e9b0968b447f2dfd5   2024-04-07     46   \n",
       "164  6614dc8f62576b69004bdbb3   2024-04-07      0   \n",
       "165  6614dc8f0668543a4f0419c3   2024-04-07   4782   \n",
       "166  6614dc982e7759bb9b62b600   2024-04-06    260   \n",
       "\n",
       "                                         combined_text mentioned_players  \\\n",
       "0    McDavid's case for the Hart trophy\\nFirst off,...   johnny gaudreau   \n",
       "1    Sidney Crosby only made the NHL because his pa...     sidney crosby   \n",
       "2    As requested by my Oilers fans, Here’s my late...        zach hyman   \n",
       "3    Really obscure stat\\nLogan Stanley played for ...     logan stanley   \n",
       "4                       Jack Hughes buries the Leafs\\n       jack hughes   \n",
       "..                                                 ...               ...   \n",
       "162  Brady Tkachuk sets record for most hits in 1 g...     brady tkachuk   \n",
       "163                Juraj Slafkovsky spectacular pass\\n  juraj slafkovsky   \n",
       "164  Evan Bouchard is the worst player in the leagu...     evan bouchard   \n",
       "165  Empty net etiquette expert Brady Tkachuk calml...     brady tkachuk   \n",
       "166  Defenseman Haydn Fleury & ref Steve Kozari dow...      haydn fleury   \n",
       "\n",
       "     mentioned_players_count  SENTIMENT  \n",
       "0                          1        0.5  \n",
       "1                          1       -0.6  \n",
       "2                          1        1.0  \n",
       "3                          1        0.1  \n",
       "4                          1        1.0  \n",
       "..                       ...        ...  \n",
       "162                        1        1.0  \n",
       "163                        1        1.0  \n",
       "164                        1       -1.0  \n",
       "165                        1        0.5  \n",
       "166                        1        0.0  \n",
       "\n",
       "[133 rows x 7 columns]"
      ]
     },
     "execution_count": 38,
     "metadata": {},
     "output_type": "execute_result"
    }
   ],
   "source": [
    "import pandas as pd\n",
    "import plotly.express as px\n",
    "import plotly.graph_objects as go\n",
    "\n",
    "\n",
    "df = pd.read_csv('../sentiment_result_raw.csv')\n",
    "df['created_date'] = pd.to_datetime(df['created_date'])\n",
    "df = df.query('created_date.dt.year >= 2024')\n",
    "df['mentioned_players'] = df['mentioned_players'].str.lower()\n",
    "df = df.rename(columns={'sentiment_result': 'SENTIMENT'})\n",
    "df"
   ]
  },
  {
   "cell_type": "code",
   "execution_count": 107,
   "metadata": {},
   "outputs": [
    {
     "data": {
      "text/html": [
       "<div>\n",
       "<style scoped>\n",
       "    .dataframe tbody tr th:only-of-type {\n",
       "        vertical-align: middle;\n",
       "    }\n",
       "\n",
       "    .dataframe tbody tr th {\n",
       "        vertical-align: top;\n",
       "    }\n",
       "\n",
       "    .dataframe thead th {\n",
       "        text-align: right;\n",
       "    }\n",
       "</style>\n",
       "<table border=\"1\" class=\"dataframe\">\n",
       "  <thead>\n",
       "    <tr style=\"text-align: right;\">\n",
       "      <th></th>\n",
       "      <th>name</th>\n",
       "      <th>count</th>\n",
       "      <th>SENTIMENT</th>\n",
       "    </tr>\n",
       "  </thead>\n",
       "  <tbody>\n",
       "    <tr>\n",
       "      <th>68</th>\n",
       "      <td>sidney crosby</td>\n",
       "      <td>14</td>\n",
       "      <td>0.407143</td>\n",
       "    </tr>\n",
       "    <tr>\n",
       "      <th>51</th>\n",
       "      <td>matt rempe</td>\n",
       "      <td>6</td>\n",
       "      <td>-0.100000</td>\n",
       "    </tr>\n",
       "    <tr>\n",
       "      <th>5</th>\n",
       "      <td>auston matthews</td>\n",
       "      <td>5</td>\n",
       "      <td>0.860000</td>\n",
       "    </tr>\n",
       "    <tr>\n",
       "      <th>57</th>\n",
       "      <td>nikita kucherov</td>\n",
       "      <td>4</td>\n",
       "      <td>0.275000</td>\n",
       "    </tr>\n",
       "    <tr>\n",
       "      <th>55</th>\n",
       "      <td>nick cousins</td>\n",
       "      <td>4</td>\n",
       "      <td>-0.775000</td>\n",
       "    </tr>\n",
       "    <tr>\n",
       "      <th>83</th>\n",
       "      <td>zach hyman</td>\n",
       "      <td>3</td>\n",
       "      <td>0.666667</td>\n",
       "    </tr>\n",
       "    <tr>\n",
       "      <th>64</th>\n",
       "      <td>ryan reaves</td>\n",
       "      <td>3</td>\n",
       "      <td>0.033333</td>\n",
       "    </tr>\n",
       "    <tr>\n",
       "      <th>8</th>\n",
       "      <td>brady tkachuk</td>\n",
       "      <td>3</td>\n",
       "      <td>0.833333</td>\n",
       "    </tr>\n",
       "    <tr>\n",
       "      <th>18</th>\n",
       "      <td>connor bedard</td>\n",
       "      <td>3</td>\n",
       "      <td>0.000000</td>\n",
       "    </tr>\n",
       "    <tr>\n",
       "      <th>36</th>\n",
       "      <td>jeff skinner</td>\n",
       "      <td>2</td>\n",
       "      <td>-0.100000</td>\n",
       "    </tr>\n",
       "    <tr>\n",
       "      <th>24</th>\n",
       "      <td>evan bouchard</td>\n",
       "      <td>2</td>\n",
       "      <td>-0.500000</td>\n",
       "    </tr>\n",
       "    <tr>\n",
       "      <th>26</th>\n",
       "      <td>evgeny kuznetsov</td>\n",
       "      <td>2</td>\n",
       "      <td>0.500000</td>\n",
       "    </tr>\n",
       "    <tr>\n",
       "      <th>34</th>\n",
       "      <td>jason robertson</td>\n",
       "      <td>2</td>\n",
       "      <td>0.150000</td>\n",
       "    </tr>\n",
       "    <tr>\n",
       "      <th>58</th>\n",
       "      <td>noah hanifin</td>\n",
       "      <td>2</td>\n",
       "      <td>0.000000</td>\n",
       "    </tr>\n",
       "    <tr>\n",
       "      <th>63</th>\n",
       "      <td>ryan hartman</td>\n",
       "      <td>2</td>\n",
       "      <td>-0.200000</td>\n",
       "    </tr>\n",
       "    <tr>\n",
       "      <th>71</th>\n",
       "      <td>tom wilson</td>\n",
       "      <td>2</td>\n",
       "      <td>-0.850000</td>\n",
       "    </tr>\n",
       "    <tr>\n",
       "      <th>72</th>\n",
       "      <td>tomas hertl</td>\n",
       "      <td>2</td>\n",
       "      <td>0.000000</td>\n",
       "    </tr>\n",
       "    <tr>\n",
       "      <th>19</th>\n",
       "      <td>connor mcdavid</td>\n",
       "      <td>2</td>\n",
       "      <td>1.000000</td>\n",
       "    </tr>\n",
       "    <tr>\n",
       "      <th>0</th>\n",
       "      <td>aaron ekblad</td>\n",
       "      <td>2</td>\n",
       "      <td>-0.600000</td>\n",
       "    </tr>\n",
       "    <tr>\n",
       "      <th>11</th>\n",
       "      <td>brayden schenn</td>\n",
       "      <td>2</td>\n",
       "      <td>0.400000</td>\n",
       "    </tr>\n",
       "    <tr>\n",
       "      <th>7</th>\n",
       "      <td>brad marchand</td>\n",
       "      <td>2</td>\n",
       "      <td>0.000000</td>\n",
       "    </tr>\n",
       "    <tr>\n",
       "      <th>15</th>\n",
       "      <td>claude giroux</td>\n",
       "      <td>2</td>\n",
       "      <td>-0.100000</td>\n",
       "    </tr>\n",
       "  </tbody>\n",
       "</table>\n",
       "</div>"
      ],
      "text/plain": [
       "                name  count  SENTIMENT\n",
       "68     sidney crosby     14   0.407143\n",
       "51        matt rempe      6  -0.100000\n",
       "5    auston matthews      5   0.860000\n",
       "57   nikita kucherov      4   0.275000\n",
       "55      nick cousins      4  -0.775000\n",
       "83        zach hyman      3   0.666667\n",
       "64       ryan reaves      3   0.033333\n",
       "8      brady tkachuk      3   0.833333\n",
       "18     connor bedard      3   0.000000\n",
       "36      jeff skinner      2  -0.100000\n",
       "24     evan bouchard      2  -0.500000\n",
       "26  evgeny kuznetsov      2   0.500000\n",
       "34   jason robertson      2   0.150000\n",
       "58      noah hanifin      2   0.000000\n",
       "63      ryan hartman      2  -0.200000\n",
       "71        tom wilson      2  -0.850000\n",
       "72       tomas hertl      2   0.000000\n",
       "19    connor mcdavid      2   1.000000\n",
       "0       aaron ekblad      2  -0.600000\n",
       "11    brayden schenn      2   0.400000\n",
       "7      brad marchand      2   0.000000\n",
       "15     claude giroux      2  -0.100000"
      ]
     },
     "execution_count": 107,
     "metadata": {},
     "output_type": "execute_result"
    }
   ],
   "source": [
    "player_grouped_df = df.groupby('mentioned_players').agg(\n",
    "    count=('SENTIMENT', 'size'),\n",
    "    average_sentiment=('SENTIMENT', 'mean')\n",
    ").reset_index().rename(columns={'mentioned_players': 'name', 'average_sentiment': 'SENTIMENT'}).sort_values(by='count', ascending=False)\n",
    "\n",
    "player_grouped_df = player_grouped_df.query('count > 1')\n",
    "player_grouped_df"
   ]
  },
  {
   "cell_type": "code",
   "execution_count": 108,
   "metadata": {},
   "outputs": [
    {
     "data": {
      "text/html": [
       "<div>\n",
       "<style scoped>\n",
       "    .dataframe tbody tr th:only-of-type {\n",
       "        vertical-align: middle;\n",
       "    }\n",
       "\n",
       "    .dataframe tbody tr th {\n",
       "        vertical-align: top;\n",
       "    }\n",
       "\n",
       "    .dataframe thead th {\n",
       "        text-align: right;\n",
       "    }\n",
       "</style>\n",
       "<table border=\"1\" class=\"dataframe\">\n",
       "  <thead>\n",
       "    <tr style=\"text-align: right;\">\n",
       "      <th></th>\n",
       "      <th>TEAM</th>\n",
       "      <th>PLAYER</th>\n",
       "      <th>POSITION</th>\n",
       "      <th>GP</th>\n",
       "      <th>TOI/GP</th>\n",
       "      <th>TOI</th>\n",
       "      <th>IPP</th>\n",
       "      <th>GOALS</th>\n",
       "      <th>TOTAL ASSISTS</th>\n",
       "      <th>FIRST ASSISTS</th>\n",
       "      <th>...</th>\n",
       "      <th>SALARY CAP</th>\n",
       "      <th>SALARY CAP PERCENTAGE</th>\n",
       "      <th>DECEASED</th>\n",
       "      <th>PRED_AAV</th>\n",
       "      <th>PRED_SALARY_PERCENTAGE</th>\n",
       "      <th>PRED/ACTUAL</th>\n",
       "      <th>TEAM_FULL_NAMES</th>\n",
       "      <th>name</th>\n",
       "      <th>count</th>\n",
       "      <th>SENTIMENT</th>\n",
       "    </tr>\n",
       "  </thead>\n",
       "  <tbody>\n",
       "    <tr>\n",
       "      <th>11406</th>\n",
       "      <td>fla</td>\n",
       "      <td>aaron ekblad</td>\n",
       "      <td>Defence</td>\n",
       "      <td>47</td>\n",
       "      <td>21.134397</td>\n",
       "      <td>993.316667</td>\n",
       "      <td>30.91</td>\n",
       "      <td>4</td>\n",
       "      <td>13</td>\n",
       "      <td>5</td>\n",
       "      <td>...</td>\n",
       "      <td>83500000</td>\n",
       "      <td>0.089820</td>\n",
       "      <td>0</td>\n",
       "      <td>6224222.0</td>\n",
       "      <td>0.074542</td>\n",
       "      <td>0.829896</td>\n",
       "      <td>Florida Panthers</td>\n",
       "      <td>aaron ekblad</td>\n",
       "      <td>2.0</td>\n",
       "      <td>-0.600000</td>\n",
       "    </tr>\n",
       "    <tr>\n",
       "      <th>11473</th>\n",
       "      <td>tor</td>\n",
       "      <td>auston matthews</td>\n",
       "      <td>Center</td>\n",
       "      <td>67</td>\n",
       "      <td>21.082587</td>\n",
       "      <td>1412.533333</td>\n",
       "      <td>71.20</td>\n",
       "      <td>57</td>\n",
       "      <td>32</td>\n",
       "      <td>20</td>\n",
       "      <td>...</td>\n",
       "      <td>83500000</td>\n",
       "      <td>0.139404</td>\n",
       "      <td>0</td>\n",
       "      <td>11450554.0</td>\n",
       "      <td>0.137132</td>\n",
       "      <td>0.983703</td>\n",
       "      <td>Toronto Maple Leafs</td>\n",
       "      <td>auston matthews</td>\n",
       "      <td>5.0</td>\n",
       "      <td>0.860000</td>\n",
       "    </tr>\n",
       "    <tr>\n",
       "      <th>11487</th>\n",
       "      <td>bos</td>\n",
       "      <td>brad marchand</td>\n",
       "      <td>Left Wing</td>\n",
       "      <td>71</td>\n",
       "      <td>19.286150</td>\n",
       "      <td>1369.316667</td>\n",
       "      <td>65.26</td>\n",
       "      <td>27</td>\n",
       "      <td>35</td>\n",
       "      <td>18</td>\n",
       "      <td>...</td>\n",
       "      <td>83500000</td>\n",
       "      <td>0.073353</td>\n",
       "      <td>0</td>\n",
       "      <td>6014291.0</td>\n",
       "      <td>0.072027</td>\n",
       "      <td>0.981925</td>\n",
       "      <td>Boston Bruins</td>\n",
       "      <td>brad marchand</td>\n",
       "      <td>2.0</td>\n",
       "      <td>0.000000</td>\n",
       "    </tr>\n",
       "    <tr>\n",
       "      <th>11490</th>\n",
       "      <td>ott</td>\n",
       "      <td>brady tkachuk</td>\n",
       "      <td>Left Wing</td>\n",
       "      <td>67</td>\n",
       "      <td>18.978358</td>\n",
       "      <td>1271.550000</td>\n",
       "      <td>69.51</td>\n",
       "      <td>31</td>\n",
       "      <td>26</td>\n",
       "      <td>21</td>\n",
       "      <td>...</td>\n",
       "      <td>83500000</td>\n",
       "      <td>0.098272</td>\n",
       "      <td>0</td>\n",
       "      <td>7887017.0</td>\n",
       "      <td>0.094455</td>\n",
       "      <td>0.961162</td>\n",
       "      <td>Ottawa Senators</td>\n",
       "      <td>brady tkachuk</td>\n",
       "      <td>3.0</td>\n",
       "      <td>0.833333</td>\n",
       "    </tr>\n",
       "    <tr>\n",
       "      <th>11503</th>\n",
       "      <td>stl</td>\n",
       "      <td>brayden schenn</td>\n",
       "      <td>Center</td>\n",
       "      <td>70</td>\n",
       "      <td>17.629286</td>\n",
       "      <td>1234.050000</td>\n",
       "      <td>53.97</td>\n",
       "      <td>15</td>\n",
       "      <td>19</td>\n",
       "      <td>14</td>\n",
       "      <td>...</td>\n",
       "      <td>83500000</td>\n",
       "      <td>0.077844</td>\n",
       "      <td>0</td>\n",
       "      <td>5365586.0</td>\n",
       "      <td>0.064259</td>\n",
       "      <td>0.825475</td>\n",
       "      <td>St. Louis Blues</td>\n",
       "      <td>brayden schenn</td>\n",
       "      <td>2.0</td>\n",
       "      <td>0.400000</td>\n",
       "    </tr>\n",
       "    <tr>\n",
       "      <th>11549</th>\n",
       "      <td>ott</td>\n",
       "      <td>claude giroux</td>\n",
       "      <td>Right Wing</td>\n",
       "      <td>68</td>\n",
       "      <td>20.020833</td>\n",
       "      <td>1361.416667</td>\n",
       "      <td>70.73</td>\n",
       "      <td>19</td>\n",
       "      <td>39</td>\n",
       "      <td>25</td>\n",
       "      <td>...</td>\n",
       "      <td>83500000</td>\n",
       "      <td>0.077844</td>\n",
       "      <td>0</td>\n",
       "      <td>6728253.0</td>\n",
       "      <td>0.080578</td>\n",
       "      <td>1.035116</td>\n",
       "      <td>Ottawa Senators</td>\n",
       "      <td>claude giroux</td>\n",
       "      <td>2.0</td>\n",
       "      <td>-0.100000</td>\n",
       "    </tr>\n",
       "    <tr>\n",
       "      <th>11566</th>\n",
       "      <td>chi</td>\n",
       "      <td>connor bedard</td>\n",
       "      <td>Center</td>\n",
       "      <td>56</td>\n",
       "      <td>19.603274</td>\n",
       "      <td>1097.783333</td>\n",
       "      <td>81.82</td>\n",
       "      <td>21</td>\n",
       "      <td>33</td>\n",
       "      <td>24</td>\n",
       "      <td>...</td>\n",
       "      <td>83500000</td>\n",
       "      <td>0.011377</td>\n",
       "      <td>0</td>\n",
       "      <td>2578278.0</td>\n",
       "      <td>0.030878</td>\n",
       "      <td>2.713977</td>\n",
       "      <td>Chicago Blackhawks</td>\n",
       "      <td>connor bedard</td>\n",
       "      <td>3.0</td>\n",
       "      <td>0.000000</td>\n",
       "    </tr>\n",
       "    <tr>\n",
       "      <th>11570</th>\n",
       "      <td>edm</td>\n",
       "      <td>connor mcdavid</td>\n",
       "      <td>Center</td>\n",
       "      <td>65</td>\n",
       "      <td>21.573333</td>\n",
       "      <td>1402.266667</td>\n",
       "      <td>78.32</td>\n",
       "      <td>26</td>\n",
       "      <td>86</td>\n",
       "      <td>54</td>\n",
       "      <td>...</td>\n",
       "      <td>83500000</td>\n",
       "      <td>0.149701</td>\n",
       "      <td>0</td>\n",
       "      <td>12157337.0</td>\n",
       "      <td>0.145597</td>\n",
       "      <td>0.972587</td>\n",
       "      <td>Edmonton Oilers</td>\n",
       "      <td>connor mcdavid</td>\n",
       "      <td>2.0</td>\n",
       "      <td>1.000000</td>\n",
       "    </tr>\n",
       "    <tr>\n",
       "      <th>11630</th>\n",
       "      <td>edm</td>\n",
       "      <td>evan bouchard</td>\n",
       "      <td>Defence</td>\n",
       "      <td>67</td>\n",
       "      <td>23.006716</td>\n",
       "      <td>1541.450000</td>\n",
       "      <td>47.52</td>\n",
       "      <td>15</td>\n",
       "      <td>52</td>\n",
       "      <td>22</td>\n",
       "      <td>...</td>\n",
       "      <td>83500000</td>\n",
       "      <td>0.046707</td>\n",
       "      <td>0</td>\n",
       "      <td>4086031.0</td>\n",
       "      <td>0.048935</td>\n",
       "      <td>1.047700</td>\n",
       "      <td>Edmonton Oilers</td>\n",
       "      <td>evan bouchard</td>\n",
       "      <td>2.0</td>\n",
       "      <td>-0.500000</td>\n",
       "    </tr>\n",
       "    <tr>\n",
       "      <th>11634</th>\n",
       "      <td>car, wsh</td>\n",
       "      <td>evgeny kuznetsov</td>\n",
       "      <td>Center</td>\n",
       "      <td>51</td>\n",
       "      <td>18.328758</td>\n",
       "      <td>934.766667</td>\n",
       "      <td>61.11</td>\n",
       "      <td>8</td>\n",
       "      <td>14</td>\n",
       "      <td>9</td>\n",
       "      <td>...</td>\n",
       "      <td>83500000</td>\n",
       "      <td>0.093413</td>\n",
       "      <td>0</td>\n",
       "      <td>7306411.0</td>\n",
       "      <td>0.087502</td>\n",
       "      <td>0.936719</td>\n",
       "      <td>Carolina Hurricanes, Washington Capitals</td>\n",
       "      <td>evgeny kuznetsov</td>\n",
       "      <td>2.0</td>\n",
       "      <td>0.500000</td>\n",
       "    </tr>\n",
       "    <tr>\n",
       "      <th>11713</th>\n",
       "      <td>dal</td>\n",
       "      <td>jason robertson</td>\n",
       "      <td>Left Wing</td>\n",
       "      <td>70</td>\n",
       "      <td>18.381429</td>\n",
       "      <td>1286.700000</td>\n",
       "      <td>69.31</td>\n",
       "      <td>24</td>\n",
       "      <td>46</td>\n",
       "      <td>21</td>\n",
       "      <td>...</td>\n",
       "      <td>83500000</td>\n",
       "      <td>0.092814</td>\n",
       "      <td>0</td>\n",
       "      <td>7435906.0</td>\n",
       "      <td>0.089053</td>\n",
       "      <td>0.959472</td>\n",
       "      <td>Dallas Stars</td>\n",
       "      <td>jason robertson</td>\n",
       "      <td>2.0</td>\n",
       "      <td>0.150000</td>\n",
       "    </tr>\n",
       "    <tr>\n",
       "      <th>11721</th>\n",
       "      <td>buf</td>\n",
       "      <td>jeff skinner</td>\n",
       "      <td>Left Wing</td>\n",
       "      <td>63</td>\n",
       "      <td>16.400000</td>\n",
       "      <td>1033.200000</td>\n",
       "      <td>65.22</td>\n",
       "      <td>24</td>\n",
       "      <td>21</td>\n",
       "      <td>12</td>\n",
       "      <td>...</td>\n",
       "      <td>83500000</td>\n",
       "      <td>0.107784</td>\n",
       "      <td>0</td>\n",
       "      <td>6028423.0</td>\n",
       "      <td>0.072197</td>\n",
       "      <td>0.669825</td>\n",
       "      <td>Buffalo Sabres</td>\n",
       "      <td>jeff skinner</td>\n",
       "      <td>2.0</td>\n",
       "      <td>-0.100000</td>\n",
       "    </tr>\n",
       "    <tr>\n",
       "      <th>11866</th>\n",
       "      <td>nyr</td>\n",
       "      <td>matt rempe</td>\n",
       "      <td>Center</td>\n",
       "      <td>11</td>\n",
       "      <td>5.604545</td>\n",
       "      <td>61.650000</td>\n",
       "      <td>50.00</td>\n",
       "      <td>1</td>\n",
       "      <td>1</td>\n",
       "      <td>1</td>\n",
       "      <td>...</td>\n",
       "      <td>83500000</td>\n",
       "      <td>0.009820</td>\n",
       "      <td>0</td>\n",
       "      <td>994677.0</td>\n",
       "      <td>0.011912</td>\n",
       "      <td>1.213022</td>\n",
       "      <td>New York Rangers</td>\n",
       "      <td>matt rempe</td>\n",
       "      <td>6.0</td>\n",
       "      <td>-0.100000</td>\n",
       "    </tr>\n",
       "    <tr>\n",
       "      <th>11920</th>\n",
       "      <td>fla</td>\n",
       "      <td>nick cousins</td>\n",
       "      <td>Center</td>\n",
       "      <td>57</td>\n",
       "      <td>12.464035</td>\n",
       "      <td>710.450000</td>\n",
       "      <td>62.50</td>\n",
       "      <td>5</td>\n",
       "      <td>5</td>\n",
       "      <td>2</td>\n",
       "      <td>...</td>\n",
       "      <td>83500000</td>\n",
       "      <td>0.013174</td>\n",
       "      <td>0</td>\n",
       "      <td>1233852.0</td>\n",
       "      <td>0.014777</td>\n",
       "      <td>1.121684</td>\n",
       "      <td>Florida Panthers</td>\n",
       "      <td>nick cousins</td>\n",
       "      <td>4.0</td>\n",
       "      <td>-0.775000</td>\n",
       "    </tr>\n",
       "    <tr>\n",
       "      <th>11935</th>\n",
       "      <td>t.b</td>\n",
       "      <td>nikita kucherov</td>\n",
       "      <td>Right Wing</td>\n",
       "      <td>68</td>\n",
       "      <td>21.726471</td>\n",
       "      <td>1477.400000</td>\n",
       "      <td>81.88</td>\n",
       "      <td>41</td>\n",
       "      <td>81</td>\n",
       "      <td>48</td>\n",
       "      <td>...</td>\n",
       "      <td>83500000</td>\n",
       "      <td>0.113772</td>\n",
       "      <td>0</td>\n",
       "      <td>9636822.0</td>\n",
       "      <td>0.115411</td>\n",
       "      <td>1.014402</td>\n",
       "      <td>Tampa Bay Lightning</td>\n",
       "      <td>nikita kucherov</td>\n",
       "      <td>4.0</td>\n",
       "      <td>0.275000</td>\n",
       "    </tr>\n",
       "    <tr>\n",
       "      <th>11947</th>\n",
       "      <td>cgy, vgk</td>\n",
       "      <td>noah hanifin</td>\n",
       "      <td>Defence</td>\n",
       "      <td>68</td>\n",
       "      <td>23.603431</td>\n",
       "      <td>1605.033333</td>\n",
       "      <td>41.49</td>\n",
       "      <td>11</td>\n",
       "      <td>28</td>\n",
       "      <td>15</td>\n",
       "      <td>...</td>\n",
       "      <td>83500000</td>\n",
       "      <td>0.059281</td>\n",
       "      <td>0</td>\n",
       "      <td>5283542.0</td>\n",
       "      <td>0.063276</td>\n",
       "      <td>1.067382</td>\n",
       "      <td>Calgary Flames, Vegas Golden Knights</td>\n",
       "      <td>noah hanifin</td>\n",
       "      <td>2.0</td>\n",
       "      <td>0.000000</td>\n",
       "    </tr>\n",
       "    <tr>\n",
       "      <th>12011</th>\n",
       "      <td>min</td>\n",
       "      <td>ryan hartman</td>\n",
       "      <td>Right Wing</td>\n",
       "      <td>65</td>\n",
       "      <td>16.401282</td>\n",
       "      <td>1066.083333</td>\n",
       "      <td>64.52</td>\n",
       "      <td>18</td>\n",
       "      <td>22</td>\n",
       "      <td>11</td>\n",
       "      <td>...</td>\n",
       "      <td>83500000</td>\n",
       "      <td>0.020359</td>\n",
       "      <td>0</td>\n",
       "      <td>3126601.0</td>\n",
       "      <td>0.037444</td>\n",
       "      <td>1.839177</td>\n",
       "      <td>Minnesota Wild</td>\n",
       "      <td>ryan hartman</td>\n",
       "      <td>2.0</td>\n",
       "      <td>-0.200000</td>\n",
       "    </tr>\n",
       "    <tr>\n",
       "      <th>12021</th>\n",
       "      <td>tor</td>\n",
       "      <td>ryan reaves</td>\n",
       "      <td>Right Wing</td>\n",
       "      <td>39</td>\n",
       "      <td>7.994017</td>\n",
       "      <td>311.766667</td>\n",
       "      <td>57.14</td>\n",
       "      <td>3</td>\n",
       "      <td>1</td>\n",
       "      <td>1</td>\n",
       "      <td>...</td>\n",
       "      <td>83500000</td>\n",
       "      <td>0.016168</td>\n",
       "      <td>0</td>\n",
       "      <td>1102126.0</td>\n",
       "      <td>0.013199</td>\n",
       "      <td>0.816390</td>\n",
       "      <td>Toronto Maple Leafs</td>\n",
       "      <td>ryan reaves</td>\n",
       "      <td>3.0</td>\n",
       "      <td>0.033333</td>\n",
       "    </tr>\n",
       "    <tr>\n",
       "      <th>12055</th>\n",
       "      <td>pit</td>\n",
       "      <td>sidney crosby</td>\n",
       "      <td>Center</td>\n",
       "      <td>68</td>\n",
       "      <td>19.981863</td>\n",
       "      <td>1358.766667</td>\n",
       "      <td>66.99</td>\n",
       "      <td>33</td>\n",
       "      <td>36</td>\n",
       "      <td>22</td>\n",
       "      <td>...</td>\n",
       "      <td>83500000</td>\n",
       "      <td>0.104192</td>\n",
       "      <td>0</td>\n",
       "      <td>10280645.0</td>\n",
       "      <td>0.123122</td>\n",
       "      <td>1.181683</td>\n",
       "      <td>Pittsburgh Penguins</td>\n",
       "      <td>sidney crosby</td>\n",
       "      <td>14.0</td>\n",
       "      <td>0.407143</td>\n",
       "    </tr>\n",
       "    <tr>\n",
       "      <th>12076</th>\n",
       "      <td>wsh</td>\n",
       "      <td>tom wilson</td>\n",
       "      <td>Right Wing</td>\n",
       "      <td>66</td>\n",
       "      <td>18.056818</td>\n",
       "      <td>1191.750000</td>\n",
       "      <td>62.75</td>\n",
       "      <td>17</td>\n",
       "      <td>15</td>\n",
       "      <td>5</td>\n",
       "      <td>...</td>\n",
       "      <td>83500000</td>\n",
       "      <td>0.061876</td>\n",
       "      <td>0</td>\n",
       "      <td>5096610.0</td>\n",
       "      <td>0.061037</td>\n",
       "      <td>0.986441</td>\n",
       "      <td>Washington Capitals</td>\n",
       "      <td>tom wilson</td>\n",
       "      <td>2.0</td>\n",
       "      <td>-0.850000</td>\n",
       "    </tr>\n",
       "    <tr>\n",
       "      <th>12077</th>\n",
       "      <td>s.j</td>\n",
       "      <td>tomas hertl</td>\n",
       "      <td>Center</td>\n",
       "      <td>48</td>\n",
       "      <td>20.900694</td>\n",
       "      <td>1003.233333</td>\n",
       "      <td>79.07</td>\n",
       "      <td>15</td>\n",
       "      <td>19</td>\n",
       "      <td>13</td>\n",
       "      <td>...</td>\n",
       "      <td>83500000</td>\n",
       "      <td>0.097455</td>\n",
       "      <td>0</td>\n",
       "      <td>7883589.0</td>\n",
       "      <td>0.094414</td>\n",
       "      <td>0.968797</td>\n",
       "      <td>San Jose Sharks</td>\n",
       "      <td>tomas hertl</td>\n",
       "      <td>2.0</td>\n",
       "      <td>0.000000</td>\n",
       "    </tr>\n",
       "    <tr>\n",
       "      <th>12143</th>\n",
       "      <td>edm</td>\n",
       "      <td>zach hyman</td>\n",
       "      <td>Left Wing</td>\n",
       "      <td>66</td>\n",
       "      <td>19.587121</td>\n",
       "      <td>1292.750000</td>\n",
       "      <td>50.00</td>\n",
       "      <td>48</td>\n",
       "      <td>19</td>\n",
       "      <td>10</td>\n",
       "      <td>...</td>\n",
       "      <td>83500000</td>\n",
       "      <td>0.065868</td>\n",
       "      <td>0</td>\n",
       "      <td>7950048.0</td>\n",
       "      <td>0.095210</td>\n",
       "      <td>1.445463</td>\n",
       "      <td>Edmonton Oilers</td>\n",
       "      <td>zach hyman</td>\n",
       "      <td>3.0</td>\n",
       "      <td>0.666667</td>\n",
       "    </tr>\n",
       "  </tbody>\n",
       "</table>\n",
       "<p>22 rows × 180 columns</p>\n",
       "</div>"
      ],
      "text/plain": [
       "           TEAM            PLAYER    POSITION  GP     TOI/GP          TOI  \\\n",
       "11406       fla      aaron ekblad     Defence  47  21.134397   993.316667   \n",
       "11473       tor   auston matthews      Center  67  21.082587  1412.533333   \n",
       "11487       bos     brad marchand   Left Wing  71  19.286150  1369.316667   \n",
       "11490       ott     brady tkachuk   Left Wing  67  18.978358  1271.550000   \n",
       "11503       stl    brayden schenn      Center  70  17.629286  1234.050000   \n",
       "11549       ott     claude giroux  Right Wing  68  20.020833  1361.416667   \n",
       "11566       chi     connor bedard      Center  56  19.603274  1097.783333   \n",
       "11570       edm    connor mcdavid      Center  65  21.573333  1402.266667   \n",
       "11630       edm     evan bouchard     Defence  67  23.006716  1541.450000   \n",
       "11634  car, wsh  evgeny kuznetsov      Center  51  18.328758   934.766667   \n",
       "11713       dal   jason robertson   Left Wing  70  18.381429  1286.700000   \n",
       "11721       buf      jeff skinner   Left Wing  63  16.400000  1033.200000   \n",
       "11866       nyr        matt rempe      Center  11   5.604545    61.650000   \n",
       "11920       fla      nick cousins      Center  57  12.464035   710.450000   \n",
       "11935       t.b   nikita kucherov  Right Wing  68  21.726471  1477.400000   \n",
       "11947  cgy, vgk      noah hanifin     Defence  68  23.603431  1605.033333   \n",
       "12011       min      ryan hartman  Right Wing  65  16.401282  1066.083333   \n",
       "12021       tor       ryan reaves  Right Wing  39   7.994017   311.766667   \n",
       "12055       pit     sidney crosby      Center  68  19.981863  1358.766667   \n",
       "12076       wsh        tom wilson  Right Wing  66  18.056818  1191.750000   \n",
       "12077       s.j       tomas hertl      Center  48  20.900694  1003.233333   \n",
       "12143       edm        zach hyman   Left Wing  66  19.587121  1292.750000   \n",
       "\n",
       "         IPP  GOALS  TOTAL ASSISTS  FIRST ASSISTS  ...  SALARY CAP  \\\n",
       "11406  30.91      4             13              5  ...    83500000   \n",
       "11473  71.20     57             32             20  ...    83500000   \n",
       "11487  65.26     27             35             18  ...    83500000   \n",
       "11490  69.51     31             26             21  ...    83500000   \n",
       "11503  53.97     15             19             14  ...    83500000   \n",
       "11549  70.73     19             39             25  ...    83500000   \n",
       "11566  81.82     21             33             24  ...    83500000   \n",
       "11570  78.32     26             86             54  ...    83500000   \n",
       "11630  47.52     15             52             22  ...    83500000   \n",
       "11634  61.11      8             14              9  ...    83500000   \n",
       "11713  69.31     24             46             21  ...    83500000   \n",
       "11721  65.22     24             21             12  ...    83500000   \n",
       "11866  50.00      1              1              1  ...    83500000   \n",
       "11920  62.50      5              5              2  ...    83500000   \n",
       "11935  81.88     41             81             48  ...    83500000   \n",
       "11947  41.49     11             28             15  ...    83500000   \n",
       "12011  64.52     18             22             11  ...    83500000   \n",
       "12021  57.14      3              1              1  ...    83500000   \n",
       "12055  66.99     33             36             22  ...    83500000   \n",
       "12076  62.75     17             15              5  ...    83500000   \n",
       "12077  79.07     15             19             13  ...    83500000   \n",
       "12143  50.00     48             19             10  ...    83500000   \n",
       "\n",
       "       SALARY CAP PERCENTAGE  DECEASED    PRED_AAV  PRED_SALARY_PERCENTAGE  \\\n",
       "11406               0.089820         0   6224222.0                0.074542   \n",
       "11473               0.139404         0  11450554.0                0.137132   \n",
       "11487               0.073353         0   6014291.0                0.072027   \n",
       "11490               0.098272         0   7887017.0                0.094455   \n",
       "11503               0.077844         0   5365586.0                0.064259   \n",
       "11549               0.077844         0   6728253.0                0.080578   \n",
       "11566               0.011377         0   2578278.0                0.030878   \n",
       "11570               0.149701         0  12157337.0                0.145597   \n",
       "11630               0.046707         0   4086031.0                0.048935   \n",
       "11634               0.093413         0   7306411.0                0.087502   \n",
       "11713               0.092814         0   7435906.0                0.089053   \n",
       "11721               0.107784         0   6028423.0                0.072197   \n",
       "11866               0.009820         0    994677.0                0.011912   \n",
       "11920               0.013174         0   1233852.0                0.014777   \n",
       "11935               0.113772         0   9636822.0                0.115411   \n",
       "11947               0.059281         0   5283542.0                0.063276   \n",
       "12011               0.020359         0   3126601.0                0.037444   \n",
       "12021               0.016168         0   1102126.0                0.013199   \n",
       "12055               0.104192         0  10280645.0                0.123122   \n",
       "12076               0.061876         0   5096610.0                0.061037   \n",
       "12077               0.097455         0   7883589.0                0.094414   \n",
       "12143               0.065868         0   7950048.0                0.095210   \n",
       "\n",
       "       PRED/ACTUAL                           TEAM_FULL_NAMES  \\\n",
       "11406     0.829896                          Florida Panthers   \n",
       "11473     0.983703                       Toronto Maple Leafs   \n",
       "11487     0.981925                             Boston Bruins   \n",
       "11490     0.961162                           Ottawa Senators   \n",
       "11503     0.825475                           St. Louis Blues   \n",
       "11549     1.035116                           Ottawa Senators   \n",
       "11566     2.713977                        Chicago Blackhawks   \n",
       "11570     0.972587                           Edmonton Oilers   \n",
       "11630     1.047700                           Edmonton Oilers   \n",
       "11634     0.936719  Carolina Hurricanes, Washington Capitals   \n",
       "11713     0.959472                              Dallas Stars   \n",
       "11721     0.669825                            Buffalo Sabres   \n",
       "11866     1.213022                          New York Rangers   \n",
       "11920     1.121684                          Florida Panthers   \n",
       "11935     1.014402                       Tampa Bay Lightning   \n",
       "11947     1.067382      Calgary Flames, Vegas Golden Knights   \n",
       "12011     1.839177                            Minnesota Wild   \n",
       "12021     0.816390                       Toronto Maple Leafs   \n",
       "12055     1.181683                       Pittsburgh Penguins   \n",
       "12076     0.986441                       Washington Capitals   \n",
       "12077     0.968797                           San Jose Sharks   \n",
       "12143     1.445463                           Edmonton Oilers   \n",
       "\n",
       "                   name  count  SENTIMENT  \n",
       "11406      aaron ekblad    2.0  -0.600000  \n",
       "11473   auston matthews    5.0   0.860000  \n",
       "11487     brad marchand    2.0   0.000000  \n",
       "11490     brady tkachuk    3.0   0.833333  \n",
       "11503    brayden schenn    2.0   0.400000  \n",
       "11549     claude giroux    2.0  -0.100000  \n",
       "11566     connor bedard    3.0   0.000000  \n",
       "11570    connor mcdavid    2.0   1.000000  \n",
       "11630     evan bouchard    2.0  -0.500000  \n",
       "11634  evgeny kuznetsov    2.0   0.500000  \n",
       "11713   jason robertson    2.0   0.150000  \n",
       "11721      jeff skinner    2.0  -0.100000  \n",
       "11866        matt rempe    6.0  -0.100000  \n",
       "11920      nick cousins    4.0  -0.775000  \n",
       "11935   nikita kucherov    4.0   0.275000  \n",
       "11947      noah hanifin    2.0   0.000000  \n",
       "12011      ryan hartman    2.0  -0.200000  \n",
       "12021       ryan reaves    3.0   0.033333  \n",
       "12055     sidney crosby   14.0   0.407143  \n",
       "12076        tom wilson    2.0  -0.850000  \n",
       "12077       tomas hertl    2.0   0.000000  \n",
       "12143        zach hyman    3.0   0.666667  \n",
       "\n",
       "[22 rows x 180 columns]"
      ]
     },
     "execution_count": 108,
     "metadata": {},
     "output_type": "execute_result"
    }
   ],
   "source": [
    "df_player = pd.read_csv('../front_end_data.csv')\n",
    "# df_player\n",
    "final_df = df_player.merge(player_grouped_df, left_on='PLAYER', right_on='name', how='left')\n",
    "# final_df = final_df.drop(columns=['name'], inplace=True)\n",
    "final_df = final_df.query('SEASON == \"2023-24\"')\n",
    "final_df = final_df.dropna(subset=['SENTIMENT'])\n",
    "final_df['PRED_AAV'] = final_df['PRED_AAV'].replace('[\\$,]', '', regex=True).astype(float)\n",
    "\n",
    "final_df"
   ]
  },
  {
   "cell_type": "code",
   "execution_count": 109,
   "metadata": {},
   "outputs": [
    {
     "data": {
      "application/vnd.plotly.v1+json": {
       "config": {
        "plotlyServerURL": "https://plot.ly"
       },
       "data": [
        {
         "hovertemplate": "<b>%{hovertext}</b><br><br>AAV=%{x}<br>SENTIMENT=%{y}<extra></extra>",
         "hovertext": [
          "aaron ekblad",
          "auston matthews",
          "brad marchand",
          "brady tkachuk",
          "brayden schenn",
          "claude giroux",
          "connor bedard",
          "connor mcdavid",
          "evan bouchard",
          "evgeny kuznetsov",
          "jason robertson",
          "jeff skinner",
          "matt rempe",
          "nick cousins",
          "nikita kucherov",
          "noah hanifin",
          "ryan hartman",
          "ryan reaves",
          "sidney crosby",
          "tom wilson",
          "tomas hertl",
          "zach hyman"
         ],
         "legendgroup": "",
         "marker": {
          "color": "#636efa",
          "symbol": "circle"
         },
         "mode": "markers",
         "name": "",
         "orientation": "v",
         "showlegend": false,
         "type": "scatter",
         "x": [
          7500000,
          11640250,
          6125000,
          8205714,
          6500000,
          6500000,
          4450000,
          12500000,
          3900000,
          7800000,
          7750000,
          9000000,
          820000,
          1100000,
          9500000,
          4950000,
          1700000,
          1350000,
          8700000,
          5166667,
          8137500,
          5500000
         ],
         "xaxis": "x",
         "y": [
          -0.6,
          0.86,
          0,
          0.8333333333333334,
          0.4,
          -0.09999999999999998,
          0,
          1,
          -0.5,
          0.5,
          0.15000000000000002,
          -0.1,
          -0.09999999999999998,
          -0.775,
          0.275,
          0,
          -0.19999999999999998,
          0.03333333333333333,
          0.40714285714285714,
          -0.85,
          0,
          0.6666666666666666
         ],
         "yaxis": "y"
        },
        {
         "hovertemplate": "<b>OLS trendline</b><br>SENTIMENT = 9.69814e-08 * AAV + -0.525458<br>R<sup>2</sup>=0.381662<br><br>AAV=%{x}<br>SENTIMENT=%{y} <b>(trend)</b><extra></extra>",
         "legendgroup": "",
         "line": {
          "color": "#e377c2",
          "dash": "dot"
         },
         "marker": {
          "color": "#636efa",
          "symbol": "circle"
         },
         "mode": "lines",
         "name": "",
         "showlegend": false,
         "type": "scatter",
         "x": [
          820000,
          1100000,
          1350000,
          1700000,
          3900000,
          4450000,
          4950000,
          5166667,
          5500000,
          6125000,
          6500000,
          6500000,
          7500000,
          7750000,
          7800000,
          8137500,
          8205714,
          8700000,
          9000000,
          9500000,
          11640250,
          12500000
         ],
         "xaxis": "x",
         "y": [
          -0.44593324312490834,
          -0.41877843749612914,
          -0.39453307532757625,
          -0.36058956829160227,
          -0.14723038120833717,
          -0.09389058443752091,
          -0.0453998601004152,
          -0.024387180560519833,
          0.007939936670401077,
          0.06855334209178321,
          0.10492138534461248,
          0.10492138534461248,
          0.2019028340188239,
          0.22614819618737675,
          0.23099726862108733,
          0.2637285075486337,
          0.27034400008849635,
          0.3182805724278776,
          0.347375007030141,
          0.39586573136724673,
          0.6034302768922277,
          0.686810077389881
         ],
         "yaxis": "y"
        }
       ],
       "layout": {
        "height": 600,
        "legend": {
         "tracegroupgap": 0
        },
        "showlegend": true,
        "template": {
         "data": {
          "bar": [
           {
            "error_x": {
             "color": "#2a3f5f"
            },
            "error_y": {
             "color": "#2a3f5f"
            },
            "marker": {
             "line": {
              "color": "#E5ECF6",
              "width": 0.5
             },
             "pattern": {
              "fillmode": "overlay",
              "size": 10,
              "solidity": 0.2
             }
            },
            "type": "bar"
           }
          ],
          "barpolar": [
           {
            "marker": {
             "line": {
              "color": "#E5ECF6",
              "width": 0.5
             },
             "pattern": {
              "fillmode": "overlay",
              "size": 10,
              "solidity": 0.2
             }
            },
            "type": "barpolar"
           }
          ],
          "carpet": [
           {
            "aaxis": {
             "endlinecolor": "#2a3f5f",
             "gridcolor": "white",
             "linecolor": "white",
             "minorgridcolor": "white",
             "startlinecolor": "#2a3f5f"
            },
            "baxis": {
             "endlinecolor": "#2a3f5f",
             "gridcolor": "white",
             "linecolor": "white",
             "minorgridcolor": "white",
             "startlinecolor": "#2a3f5f"
            },
            "type": "carpet"
           }
          ],
          "choropleth": [
           {
            "colorbar": {
             "outlinewidth": 0,
             "ticks": ""
            },
            "type": "choropleth"
           }
          ],
          "contour": [
           {
            "colorbar": {
             "outlinewidth": 0,
             "ticks": ""
            },
            "colorscale": [
             [
              0,
              "#0d0887"
             ],
             [
              0.1111111111111111,
              "#46039f"
             ],
             [
              0.2222222222222222,
              "#7201a8"
             ],
             [
              0.3333333333333333,
              "#9c179e"
             ],
             [
              0.4444444444444444,
              "#bd3786"
             ],
             [
              0.5555555555555556,
              "#d8576b"
             ],
             [
              0.6666666666666666,
              "#ed7953"
             ],
             [
              0.7777777777777778,
              "#fb9f3a"
             ],
             [
              0.8888888888888888,
              "#fdca26"
             ],
             [
              1,
              "#f0f921"
             ]
            ],
            "type": "contour"
           }
          ],
          "contourcarpet": [
           {
            "colorbar": {
             "outlinewidth": 0,
             "ticks": ""
            },
            "type": "contourcarpet"
           }
          ],
          "heatmap": [
           {
            "colorbar": {
             "outlinewidth": 0,
             "ticks": ""
            },
            "colorscale": [
             [
              0,
              "#0d0887"
             ],
             [
              0.1111111111111111,
              "#46039f"
             ],
             [
              0.2222222222222222,
              "#7201a8"
             ],
             [
              0.3333333333333333,
              "#9c179e"
             ],
             [
              0.4444444444444444,
              "#bd3786"
             ],
             [
              0.5555555555555556,
              "#d8576b"
             ],
             [
              0.6666666666666666,
              "#ed7953"
             ],
             [
              0.7777777777777778,
              "#fb9f3a"
             ],
             [
              0.8888888888888888,
              "#fdca26"
             ],
             [
              1,
              "#f0f921"
             ]
            ],
            "type": "heatmap"
           }
          ],
          "heatmapgl": [
           {
            "colorbar": {
             "outlinewidth": 0,
             "ticks": ""
            },
            "colorscale": [
             [
              0,
              "#0d0887"
             ],
             [
              0.1111111111111111,
              "#46039f"
             ],
             [
              0.2222222222222222,
              "#7201a8"
             ],
             [
              0.3333333333333333,
              "#9c179e"
             ],
             [
              0.4444444444444444,
              "#bd3786"
             ],
             [
              0.5555555555555556,
              "#d8576b"
             ],
             [
              0.6666666666666666,
              "#ed7953"
             ],
             [
              0.7777777777777778,
              "#fb9f3a"
             ],
             [
              0.8888888888888888,
              "#fdca26"
             ],
             [
              1,
              "#f0f921"
             ]
            ],
            "type": "heatmapgl"
           }
          ],
          "histogram": [
           {
            "marker": {
             "pattern": {
              "fillmode": "overlay",
              "size": 10,
              "solidity": 0.2
             }
            },
            "type": "histogram"
           }
          ],
          "histogram2d": [
           {
            "colorbar": {
             "outlinewidth": 0,
             "ticks": ""
            },
            "colorscale": [
             [
              0,
              "#0d0887"
             ],
             [
              0.1111111111111111,
              "#46039f"
             ],
             [
              0.2222222222222222,
              "#7201a8"
             ],
             [
              0.3333333333333333,
              "#9c179e"
             ],
             [
              0.4444444444444444,
              "#bd3786"
             ],
             [
              0.5555555555555556,
              "#d8576b"
             ],
             [
              0.6666666666666666,
              "#ed7953"
             ],
             [
              0.7777777777777778,
              "#fb9f3a"
             ],
             [
              0.8888888888888888,
              "#fdca26"
             ],
             [
              1,
              "#f0f921"
             ]
            ],
            "type": "histogram2d"
           }
          ],
          "histogram2dcontour": [
           {
            "colorbar": {
             "outlinewidth": 0,
             "ticks": ""
            },
            "colorscale": [
             [
              0,
              "#0d0887"
             ],
             [
              0.1111111111111111,
              "#46039f"
             ],
             [
              0.2222222222222222,
              "#7201a8"
             ],
             [
              0.3333333333333333,
              "#9c179e"
             ],
             [
              0.4444444444444444,
              "#bd3786"
             ],
             [
              0.5555555555555556,
              "#d8576b"
             ],
             [
              0.6666666666666666,
              "#ed7953"
             ],
             [
              0.7777777777777778,
              "#fb9f3a"
             ],
             [
              0.8888888888888888,
              "#fdca26"
             ],
             [
              1,
              "#f0f921"
             ]
            ],
            "type": "histogram2dcontour"
           }
          ],
          "mesh3d": [
           {
            "colorbar": {
             "outlinewidth": 0,
             "ticks": ""
            },
            "type": "mesh3d"
           }
          ],
          "parcoords": [
           {
            "line": {
             "colorbar": {
              "outlinewidth": 0,
              "ticks": ""
             }
            },
            "type": "parcoords"
           }
          ],
          "pie": [
           {
            "automargin": true,
            "type": "pie"
           }
          ],
          "scatter": [
           {
            "fillpattern": {
             "fillmode": "overlay",
             "size": 10,
             "solidity": 0.2
            },
            "type": "scatter"
           }
          ],
          "scatter3d": [
           {
            "line": {
             "colorbar": {
              "outlinewidth": 0,
              "ticks": ""
             }
            },
            "marker": {
             "colorbar": {
              "outlinewidth": 0,
              "ticks": ""
             }
            },
            "type": "scatter3d"
           }
          ],
          "scattercarpet": [
           {
            "marker": {
             "colorbar": {
              "outlinewidth": 0,
              "ticks": ""
             }
            },
            "type": "scattercarpet"
           }
          ],
          "scattergeo": [
           {
            "marker": {
             "colorbar": {
              "outlinewidth": 0,
              "ticks": ""
             }
            },
            "type": "scattergeo"
           }
          ],
          "scattergl": [
           {
            "marker": {
             "colorbar": {
              "outlinewidth": 0,
              "ticks": ""
             }
            },
            "type": "scattergl"
           }
          ],
          "scattermapbox": [
           {
            "marker": {
             "colorbar": {
              "outlinewidth": 0,
              "ticks": ""
             }
            },
            "type": "scattermapbox"
           }
          ],
          "scatterpolar": [
           {
            "marker": {
             "colorbar": {
              "outlinewidth": 0,
              "ticks": ""
             }
            },
            "type": "scatterpolar"
           }
          ],
          "scatterpolargl": [
           {
            "marker": {
             "colorbar": {
              "outlinewidth": 0,
              "ticks": ""
             }
            },
            "type": "scatterpolargl"
           }
          ],
          "scatterternary": [
           {
            "marker": {
             "colorbar": {
              "outlinewidth": 0,
              "ticks": ""
             }
            },
            "type": "scatterternary"
           }
          ],
          "surface": [
           {
            "colorbar": {
             "outlinewidth": 0,
             "ticks": ""
            },
            "colorscale": [
             [
              0,
              "#0d0887"
             ],
             [
              0.1111111111111111,
              "#46039f"
             ],
             [
              0.2222222222222222,
              "#7201a8"
             ],
             [
              0.3333333333333333,
              "#9c179e"
             ],
             [
              0.4444444444444444,
              "#bd3786"
             ],
             [
              0.5555555555555556,
              "#d8576b"
             ],
             [
              0.6666666666666666,
              "#ed7953"
             ],
             [
              0.7777777777777778,
              "#fb9f3a"
             ],
             [
              0.8888888888888888,
              "#fdca26"
             ],
             [
              1,
              "#f0f921"
             ]
            ],
            "type": "surface"
           }
          ],
          "table": [
           {
            "cells": {
             "fill": {
              "color": "#EBF0F8"
             },
             "line": {
              "color": "white"
             }
            },
            "header": {
             "fill": {
              "color": "#C8D4E3"
             },
             "line": {
              "color": "white"
             }
            },
            "type": "table"
           }
          ]
         },
         "layout": {
          "annotationdefaults": {
           "arrowcolor": "#2a3f5f",
           "arrowhead": 0,
           "arrowwidth": 1
          },
          "autotypenumbers": "strict",
          "coloraxis": {
           "colorbar": {
            "outlinewidth": 0,
            "ticks": ""
           }
          },
          "colorscale": {
           "diverging": [
            [
             0,
             "#8e0152"
            ],
            [
             0.1,
             "#c51b7d"
            ],
            [
             0.2,
             "#de77ae"
            ],
            [
             0.3,
             "#f1b6da"
            ],
            [
             0.4,
             "#fde0ef"
            ],
            [
             0.5,
             "#f7f7f7"
            ],
            [
             0.6,
             "#e6f5d0"
            ],
            [
             0.7,
             "#b8e186"
            ],
            [
             0.8,
             "#7fbc41"
            ],
            [
             0.9,
             "#4d9221"
            ],
            [
             1,
             "#276419"
            ]
           ],
           "sequential": [
            [
             0,
             "#0d0887"
            ],
            [
             0.1111111111111111,
             "#46039f"
            ],
            [
             0.2222222222222222,
             "#7201a8"
            ],
            [
             0.3333333333333333,
             "#9c179e"
            ],
            [
             0.4444444444444444,
             "#bd3786"
            ],
            [
             0.5555555555555556,
             "#d8576b"
            ],
            [
             0.6666666666666666,
             "#ed7953"
            ],
            [
             0.7777777777777778,
             "#fb9f3a"
            ],
            [
             0.8888888888888888,
             "#fdca26"
            ],
            [
             1,
             "#f0f921"
            ]
           ],
           "sequentialminus": [
            [
             0,
             "#0d0887"
            ],
            [
             0.1111111111111111,
             "#46039f"
            ],
            [
             0.2222222222222222,
             "#7201a8"
            ],
            [
             0.3333333333333333,
             "#9c179e"
            ],
            [
             0.4444444444444444,
             "#bd3786"
            ],
            [
             0.5555555555555556,
             "#d8576b"
            ],
            [
             0.6666666666666666,
             "#ed7953"
            ],
            [
             0.7777777777777778,
             "#fb9f3a"
            ],
            [
             0.8888888888888888,
             "#fdca26"
            ],
            [
             1,
             "#f0f921"
            ]
           ]
          },
          "colorway": [
           "#636efa",
           "#EF553B",
           "#00cc96",
           "#ab63fa",
           "#FFA15A",
           "#19d3f3",
           "#FF6692",
           "#B6E880",
           "#FF97FF",
           "#FECB52"
          ],
          "font": {
           "color": "#2a3f5f"
          },
          "geo": {
           "bgcolor": "white",
           "lakecolor": "white",
           "landcolor": "#E5ECF6",
           "showlakes": true,
           "showland": true,
           "subunitcolor": "white"
          },
          "hoverlabel": {
           "align": "left"
          },
          "hovermode": "closest",
          "mapbox": {
           "style": "light"
          },
          "paper_bgcolor": "white",
          "plot_bgcolor": "#E5ECF6",
          "polar": {
           "angularaxis": {
            "gridcolor": "white",
            "linecolor": "white",
            "ticks": ""
           },
           "bgcolor": "#E5ECF6",
           "radialaxis": {
            "gridcolor": "white",
            "linecolor": "white",
            "ticks": ""
           }
          },
          "scene": {
           "xaxis": {
            "backgroundcolor": "#E5ECF6",
            "gridcolor": "white",
            "gridwidth": 2,
            "linecolor": "white",
            "showbackground": true,
            "ticks": "",
            "zerolinecolor": "white"
           },
           "yaxis": {
            "backgroundcolor": "#E5ECF6",
            "gridcolor": "white",
            "gridwidth": 2,
            "linecolor": "white",
            "showbackground": true,
            "ticks": "",
            "zerolinecolor": "white"
           },
           "zaxis": {
            "backgroundcolor": "#E5ECF6",
            "gridcolor": "white",
            "gridwidth": 2,
            "linecolor": "white",
            "showbackground": true,
            "ticks": "",
            "zerolinecolor": "white"
           }
          },
          "shapedefaults": {
           "line": {
            "color": "#2a3f5f"
           }
          },
          "ternary": {
           "aaxis": {
            "gridcolor": "white",
            "linecolor": "white",
            "ticks": ""
           },
           "baxis": {
            "gridcolor": "white",
            "linecolor": "white",
            "ticks": ""
           },
           "bgcolor": "#E5ECF6",
           "caxis": {
            "gridcolor": "white",
            "linecolor": "white",
            "ticks": ""
           }
          },
          "title": {
           "x": 0.05
          },
          "xaxis": {
           "automargin": true,
           "gridcolor": "white",
           "linecolor": "white",
           "ticks": "",
           "title": {
            "standoff": 15
           },
           "zerolinecolor": "white",
           "zerolinewidth": 2
          },
          "yaxis": {
           "automargin": true,
           "gridcolor": "white",
           "linecolor": "white",
           "ticks": "",
           "title": {
            "standoff": 15
           },
           "zerolinecolor": "white",
           "zerolinewidth": 2
          }
         }
        },
        "title": {
         "text": "Scatter Plot of SENTIMENT vs. SALARY"
        },
        "width": 600,
        "xaxis": {
         "anchor": "y",
         "domain": [
          0,
          1
         ],
         "title": {
          "text": "SALARY"
         }
        },
        "yaxis": {
         "anchor": "x",
         "domain": [
          0,
          1
         ],
         "title": {
          "text": "SENTIMENT"
         }
        }
       }
      }
     },
     "metadata": {},
     "output_type": "display_data"
    },
    {
     "name": "stdout",
     "output_type": "stream",
     "text": [
      "Correlation Coefficient r =  0.5060760657664793\n"
     ]
    }
   ],
   "source": [
    "fig = px.scatter(\n",
    "    final_df,\n",
    "    x='AAV',\n",
    "    y='SENTIMENT',\n",
    "    title='Scatter Plot of SENTIMENT vs. SALARY',\n",
    "    hover_name='PLAYER',\n",
    "    trendline='ols',\n",
    "    trendline_color_override='#e377c2'\n",
    ")\n",
    "\n",
    "trendline_trace = fig.data[-1]\n",
    "trendline_trace.line.dash = 'dot'\n",
    "\n",
    "fig.update_layout(\n",
    "    xaxis_title='SALARY',\n",
    "    yaxis_title='SENTIMENT',\n",
    "    width=600,\n",
    "    height=600,\n",
    "    showlegend=True\n",
    ")\n",
    "\n",
    "fig.show()\n",
    "\n",
    "correlation_coefficient = final_df['SENTIMENT'].corr(final_df['SALARY'])\n",
    "print(\"Correlation Coefficient r = \", correlation_coefficient)"
   ]
  },
  {
   "cell_type": "code",
   "execution_count": 110,
   "metadata": {},
   "outputs": [
    {
     "data": {
      "application/vnd.plotly.v1+json": {
       "config": {
        "plotlyServerURL": "https://plot.ly"
       },
       "data": [
        {
         "hovertemplate": "<b>%{hovertext}</b><br><br>PRED_AAV=%{x}<br>SENTIMENT=%{y}<extra></extra>",
         "hovertext": [
          "aaron ekblad",
          "auston matthews",
          "brad marchand",
          "brady tkachuk",
          "brayden schenn",
          "claude giroux",
          "connor bedard",
          "connor mcdavid",
          "evan bouchard",
          "evgeny kuznetsov",
          "jason robertson",
          "jeff skinner",
          "matt rempe",
          "nick cousins",
          "nikita kucherov",
          "noah hanifin",
          "ryan hartman",
          "ryan reaves",
          "sidney crosby",
          "tom wilson",
          "tomas hertl",
          "zach hyman"
         ],
         "legendgroup": "",
         "marker": {
          "color": "#636efa",
          "symbol": "circle"
         },
         "mode": "markers",
         "name": "",
         "orientation": "v",
         "showlegend": false,
         "type": "scatter",
         "x": [
          6224222,
          11450554,
          6014291,
          7887017,
          5365586,
          6728253,
          2578278,
          12157337,
          4086031,
          7306411,
          7435906,
          6028423,
          994677,
          1233852,
          9636822,
          5283542,
          3126601,
          1102126,
          10280645,
          5096610,
          7883589,
          7950048
         ],
         "xaxis": "x",
         "y": [
          -0.6,
          0.86,
          0,
          0.8333333333333334,
          0.4,
          -0.09999999999999998,
          0,
          1,
          -0.5,
          0.5,
          0.15000000000000002,
          -0.1,
          -0.09999999999999998,
          -0.775,
          0.275,
          0,
          -0.19999999999999998,
          0.03333333333333333,
          0.40714285714285714,
          -0.85,
          0,
          0.6666666666666666
         ],
         "yaxis": "y"
        },
        {
         "hovertemplate": "<b>OLS trendline</b><br>SENTIMENT = 1.08418e-07 * PRED_AAV + -0.583098<br>R<sup>2</sup>=0.459669<br><br>PRED_AAV=%{x}<br>SENTIMENT=%{y} <b>(trend)</b><extra></extra>",
         "legendgroup": "",
         "line": {
          "color": "#e377c2",
          "dash": "dot"
         },
         "marker": {
          "color": "#636efa",
          "symbol": "circle"
         },
         "mode": "lines",
         "name": "",
         "showlegend": false,
         "type": "scatter",
         "x": [
          994677,
          1102126,
          1233852,
          2578278,
          3126601,
          4086031,
          5096610,
          5283542,
          5365586,
          6014291,
          6028423,
          6224222,
          6728253,
          7306411,
          7435906,
          7883589,
          7887017,
          7950048,
          9636822,
          10280645,
          11450554,
          12157337
         ],
         "xaxis": "x",
         "y": [
          -0.47525740801439276,
          -0.4636080358420559,
          -0.44932660745488384,
          -0.3035670486673082,
          -0.2441191366564725,
          -0.14009995412983017,
          -0.030535315272809147,
          -0.01026857999449775,
          -0.0013735591892114407,
          0.06895753719191644,
          0.07048969596062964,
          0.09171777087962742,
          0.14636364664762097,
          0.209046200383942,
          0.22308574890888655,
          0.27162250478589145,
          0.27199416062081566,
          0.2788278359216055,
          0.46170397340656494,
          0.5315057746342214,
          0.6583446037416723,
          0.734972382614261
         ],
         "yaxis": "y"
        }
       ],
       "layout": {
        "height": 600,
        "legend": {
         "tracegroupgap": 0
        },
        "showlegend": true,
        "template": {
         "data": {
          "bar": [
           {
            "error_x": {
             "color": "#2a3f5f"
            },
            "error_y": {
             "color": "#2a3f5f"
            },
            "marker": {
             "line": {
              "color": "#E5ECF6",
              "width": 0.5
             },
             "pattern": {
              "fillmode": "overlay",
              "size": 10,
              "solidity": 0.2
             }
            },
            "type": "bar"
           }
          ],
          "barpolar": [
           {
            "marker": {
             "line": {
              "color": "#E5ECF6",
              "width": 0.5
             },
             "pattern": {
              "fillmode": "overlay",
              "size": 10,
              "solidity": 0.2
             }
            },
            "type": "barpolar"
           }
          ],
          "carpet": [
           {
            "aaxis": {
             "endlinecolor": "#2a3f5f",
             "gridcolor": "white",
             "linecolor": "white",
             "minorgridcolor": "white",
             "startlinecolor": "#2a3f5f"
            },
            "baxis": {
             "endlinecolor": "#2a3f5f",
             "gridcolor": "white",
             "linecolor": "white",
             "minorgridcolor": "white",
             "startlinecolor": "#2a3f5f"
            },
            "type": "carpet"
           }
          ],
          "choropleth": [
           {
            "colorbar": {
             "outlinewidth": 0,
             "ticks": ""
            },
            "type": "choropleth"
           }
          ],
          "contour": [
           {
            "colorbar": {
             "outlinewidth": 0,
             "ticks": ""
            },
            "colorscale": [
             [
              0,
              "#0d0887"
             ],
             [
              0.1111111111111111,
              "#46039f"
             ],
             [
              0.2222222222222222,
              "#7201a8"
             ],
             [
              0.3333333333333333,
              "#9c179e"
             ],
             [
              0.4444444444444444,
              "#bd3786"
             ],
             [
              0.5555555555555556,
              "#d8576b"
             ],
             [
              0.6666666666666666,
              "#ed7953"
             ],
             [
              0.7777777777777778,
              "#fb9f3a"
             ],
             [
              0.8888888888888888,
              "#fdca26"
             ],
             [
              1,
              "#f0f921"
             ]
            ],
            "type": "contour"
           }
          ],
          "contourcarpet": [
           {
            "colorbar": {
             "outlinewidth": 0,
             "ticks": ""
            },
            "type": "contourcarpet"
           }
          ],
          "heatmap": [
           {
            "colorbar": {
             "outlinewidth": 0,
             "ticks": ""
            },
            "colorscale": [
             [
              0,
              "#0d0887"
             ],
             [
              0.1111111111111111,
              "#46039f"
             ],
             [
              0.2222222222222222,
              "#7201a8"
             ],
             [
              0.3333333333333333,
              "#9c179e"
             ],
             [
              0.4444444444444444,
              "#bd3786"
             ],
             [
              0.5555555555555556,
              "#d8576b"
             ],
             [
              0.6666666666666666,
              "#ed7953"
             ],
             [
              0.7777777777777778,
              "#fb9f3a"
             ],
             [
              0.8888888888888888,
              "#fdca26"
             ],
             [
              1,
              "#f0f921"
             ]
            ],
            "type": "heatmap"
           }
          ],
          "heatmapgl": [
           {
            "colorbar": {
             "outlinewidth": 0,
             "ticks": ""
            },
            "colorscale": [
             [
              0,
              "#0d0887"
             ],
             [
              0.1111111111111111,
              "#46039f"
             ],
             [
              0.2222222222222222,
              "#7201a8"
             ],
             [
              0.3333333333333333,
              "#9c179e"
             ],
             [
              0.4444444444444444,
              "#bd3786"
             ],
             [
              0.5555555555555556,
              "#d8576b"
             ],
             [
              0.6666666666666666,
              "#ed7953"
             ],
             [
              0.7777777777777778,
              "#fb9f3a"
             ],
             [
              0.8888888888888888,
              "#fdca26"
             ],
             [
              1,
              "#f0f921"
             ]
            ],
            "type": "heatmapgl"
           }
          ],
          "histogram": [
           {
            "marker": {
             "pattern": {
              "fillmode": "overlay",
              "size": 10,
              "solidity": 0.2
             }
            },
            "type": "histogram"
           }
          ],
          "histogram2d": [
           {
            "colorbar": {
             "outlinewidth": 0,
             "ticks": ""
            },
            "colorscale": [
             [
              0,
              "#0d0887"
             ],
             [
              0.1111111111111111,
              "#46039f"
             ],
             [
              0.2222222222222222,
              "#7201a8"
             ],
             [
              0.3333333333333333,
              "#9c179e"
             ],
             [
              0.4444444444444444,
              "#bd3786"
             ],
             [
              0.5555555555555556,
              "#d8576b"
             ],
             [
              0.6666666666666666,
              "#ed7953"
             ],
             [
              0.7777777777777778,
              "#fb9f3a"
             ],
             [
              0.8888888888888888,
              "#fdca26"
             ],
             [
              1,
              "#f0f921"
             ]
            ],
            "type": "histogram2d"
           }
          ],
          "histogram2dcontour": [
           {
            "colorbar": {
             "outlinewidth": 0,
             "ticks": ""
            },
            "colorscale": [
             [
              0,
              "#0d0887"
             ],
             [
              0.1111111111111111,
              "#46039f"
             ],
             [
              0.2222222222222222,
              "#7201a8"
             ],
             [
              0.3333333333333333,
              "#9c179e"
             ],
             [
              0.4444444444444444,
              "#bd3786"
             ],
             [
              0.5555555555555556,
              "#d8576b"
             ],
             [
              0.6666666666666666,
              "#ed7953"
             ],
             [
              0.7777777777777778,
              "#fb9f3a"
             ],
             [
              0.8888888888888888,
              "#fdca26"
             ],
             [
              1,
              "#f0f921"
             ]
            ],
            "type": "histogram2dcontour"
           }
          ],
          "mesh3d": [
           {
            "colorbar": {
             "outlinewidth": 0,
             "ticks": ""
            },
            "type": "mesh3d"
           }
          ],
          "parcoords": [
           {
            "line": {
             "colorbar": {
              "outlinewidth": 0,
              "ticks": ""
             }
            },
            "type": "parcoords"
           }
          ],
          "pie": [
           {
            "automargin": true,
            "type": "pie"
           }
          ],
          "scatter": [
           {
            "fillpattern": {
             "fillmode": "overlay",
             "size": 10,
             "solidity": 0.2
            },
            "type": "scatter"
           }
          ],
          "scatter3d": [
           {
            "line": {
             "colorbar": {
              "outlinewidth": 0,
              "ticks": ""
             }
            },
            "marker": {
             "colorbar": {
              "outlinewidth": 0,
              "ticks": ""
             }
            },
            "type": "scatter3d"
           }
          ],
          "scattercarpet": [
           {
            "marker": {
             "colorbar": {
              "outlinewidth": 0,
              "ticks": ""
             }
            },
            "type": "scattercarpet"
           }
          ],
          "scattergeo": [
           {
            "marker": {
             "colorbar": {
              "outlinewidth": 0,
              "ticks": ""
             }
            },
            "type": "scattergeo"
           }
          ],
          "scattergl": [
           {
            "marker": {
             "colorbar": {
              "outlinewidth": 0,
              "ticks": ""
             }
            },
            "type": "scattergl"
           }
          ],
          "scattermapbox": [
           {
            "marker": {
             "colorbar": {
              "outlinewidth": 0,
              "ticks": ""
             }
            },
            "type": "scattermapbox"
           }
          ],
          "scatterpolar": [
           {
            "marker": {
             "colorbar": {
              "outlinewidth": 0,
              "ticks": ""
             }
            },
            "type": "scatterpolar"
           }
          ],
          "scatterpolargl": [
           {
            "marker": {
             "colorbar": {
              "outlinewidth": 0,
              "ticks": ""
             }
            },
            "type": "scatterpolargl"
           }
          ],
          "scatterternary": [
           {
            "marker": {
             "colorbar": {
              "outlinewidth": 0,
              "ticks": ""
             }
            },
            "type": "scatterternary"
           }
          ],
          "surface": [
           {
            "colorbar": {
             "outlinewidth": 0,
             "ticks": ""
            },
            "colorscale": [
             [
              0,
              "#0d0887"
             ],
             [
              0.1111111111111111,
              "#46039f"
             ],
             [
              0.2222222222222222,
              "#7201a8"
             ],
             [
              0.3333333333333333,
              "#9c179e"
             ],
             [
              0.4444444444444444,
              "#bd3786"
             ],
             [
              0.5555555555555556,
              "#d8576b"
             ],
             [
              0.6666666666666666,
              "#ed7953"
             ],
             [
              0.7777777777777778,
              "#fb9f3a"
             ],
             [
              0.8888888888888888,
              "#fdca26"
             ],
             [
              1,
              "#f0f921"
             ]
            ],
            "type": "surface"
           }
          ],
          "table": [
           {
            "cells": {
             "fill": {
              "color": "#EBF0F8"
             },
             "line": {
              "color": "white"
             }
            },
            "header": {
             "fill": {
              "color": "#C8D4E3"
             },
             "line": {
              "color": "white"
             }
            },
            "type": "table"
           }
          ]
         },
         "layout": {
          "annotationdefaults": {
           "arrowcolor": "#2a3f5f",
           "arrowhead": 0,
           "arrowwidth": 1
          },
          "autotypenumbers": "strict",
          "coloraxis": {
           "colorbar": {
            "outlinewidth": 0,
            "ticks": ""
           }
          },
          "colorscale": {
           "diverging": [
            [
             0,
             "#8e0152"
            ],
            [
             0.1,
             "#c51b7d"
            ],
            [
             0.2,
             "#de77ae"
            ],
            [
             0.3,
             "#f1b6da"
            ],
            [
             0.4,
             "#fde0ef"
            ],
            [
             0.5,
             "#f7f7f7"
            ],
            [
             0.6,
             "#e6f5d0"
            ],
            [
             0.7,
             "#b8e186"
            ],
            [
             0.8,
             "#7fbc41"
            ],
            [
             0.9,
             "#4d9221"
            ],
            [
             1,
             "#276419"
            ]
           ],
           "sequential": [
            [
             0,
             "#0d0887"
            ],
            [
             0.1111111111111111,
             "#46039f"
            ],
            [
             0.2222222222222222,
             "#7201a8"
            ],
            [
             0.3333333333333333,
             "#9c179e"
            ],
            [
             0.4444444444444444,
             "#bd3786"
            ],
            [
             0.5555555555555556,
             "#d8576b"
            ],
            [
             0.6666666666666666,
             "#ed7953"
            ],
            [
             0.7777777777777778,
             "#fb9f3a"
            ],
            [
             0.8888888888888888,
             "#fdca26"
            ],
            [
             1,
             "#f0f921"
            ]
           ],
           "sequentialminus": [
            [
             0,
             "#0d0887"
            ],
            [
             0.1111111111111111,
             "#46039f"
            ],
            [
             0.2222222222222222,
             "#7201a8"
            ],
            [
             0.3333333333333333,
             "#9c179e"
            ],
            [
             0.4444444444444444,
             "#bd3786"
            ],
            [
             0.5555555555555556,
             "#d8576b"
            ],
            [
             0.6666666666666666,
             "#ed7953"
            ],
            [
             0.7777777777777778,
             "#fb9f3a"
            ],
            [
             0.8888888888888888,
             "#fdca26"
            ],
            [
             1,
             "#f0f921"
            ]
           ]
          },
          "colorway": [
           "#636efa",
           "#EF553B",
           "#00cc96",
           "#ab63fa",
           "#FFA15A",
           "#19d3f3",
           "#FF6692",
           "#B6E880",
           "#FF97FF",
           "#FECB52"
          ],
          "font": {
           "color": "#2a3f5f"
          },
          "geo": {
           "bgcolor": "white",
           "lakecolor": "white",
           "landcolor": "#E5ECF6",
           "showlakes": true,
           "showland": true,
           "subunitcolor": "white"
          },
          "hoverlabel": {
           "align": "left"
          },
          "hovermode": "closest",
          "mapbox": {
           "style": "light"
          },
          "paper_bgcolor": "white",
          "plot_bgcolor": "#E5ECF6",
          "polar": {
           "angularaxis": {
            "gridcolor": "white",
            "linecolor": "white",
            "ticks": ""
           },
           "bgcolor": "#E5ECF6",
           "radialaxis": {
            "gridcolor": "white",
            "linecolor": "white",
            "ticks": ""
           }
          },
          "scene": {
           "xaxis": {
            "backgroundcolor": "#E5ECF6",
            "gridcolor": "white",
            "gridwidth": 2,
            "linecolor": "white",
            "showbackground": true,
            "ticks": "",
            "zerolinecolor": "white"
           },
           "yaxis": {
            "backgroundcolor": "#E5ECF6",
            "gridcolor": "white",
            "gridwidth": 2,
            "linecolor": "white",
            "showbackground": true,
            "ticks": "",
            "zerolinecolor": "white"
           },
           "zaxis": {
            "backgroundcolor": "#E5ECF6",
            "gridcolor": "white",
            "gridwidth": 2,
            "linecolor": "white",
            "showbackground": true,
            "ticks": "",
            "zerolinecolor": "white"
           }
          },
          "shapedefaults": {
           "line": {
            "color": "#2a3f5f"
           }
          },
          "ternary": {
           "aaxis": {
            "gridcolor": "white",
            "linecolor": "white",
            "ticks": ""
           },
           "baxis": {
            "gridcolor": "white",
            "linecolor": "white",
            "ticks": ""
           },
           "bgcolor": "#E5ECF6",
           "caxis": {
            "gridcolor": "white",
            "linecolor": "white",
            "ticks": ""
           }
          },
          "title": {
           "x": 0.05
          },
          "xaxis": {
           "automargin": true,
           "gridcolor": "white",
           "linecolor": "white",
           "ticks": "",
           "title": {
            "standoff": 15
           },
           "zerolinecolor": "white",
           "zerolinewidth": 2
          },
          "yaxis": {
           "automargin": true,
           "gridcolor": "white",
           "linecolor": "white",
           "ticks": "",
           "title": {
            "standoff": 15
           },
           "zerolinecolor": "white",
           "zerolinewidth": 2
          }
         }
        },
        "title": {
         "text": "Scatter Plot of SENTIMENT vs. PREDICTED SALARY"
        },
        "width": 600,
        "xaxis": {
         "anchor": "y",
         "domain": [
          0,
          1
         ],
         "title": {
          "text": "PREDICTED SALARY"
         }
        },
        "yaxis": {
         "anchor": "x",
         "domain": [
          0,
          1
         ],
         "title": {
          "text": "SENTIMENT"
         }
        }
       }
      }
     },
     "metadata": {},
     "output_type": "display_data"
    },
    {
     "name": "stdout",
     "output_type": "stream",
     "text": [
      "Correlation Coefficient r =  0.6779890896243749\n"
     ]
    }
   ],
   "source": [
    "fig = px.scatter(\n",
    "    final_df,\n",
    "    x='PRED_AAV',\n",
    "    y='SENTIMENT',\n",
    "    title='Scatter Plot of SENTIMENT vs. PREDICTED SALARY',\n",
    "    hover_name='PLAYER',\n",
    "    trendline='ols',\n",
    "    trendline_color_override='#e377c2'\n",
    ")\n",
    "\n",
    "trendline_trace = fig.data[-1]\n",
    "trendline_trace.line.dash = 'dot'\n",
    "\n",
    "fig.update_layout(\n",
    "    xaxis_title='PREDICTED SALARY',\n",
    "    yaxis_title='SENTIMENT',\n",
    "    width=600,\n",
    "    height=600,\n",
    "    showlegend=True\n",
    ")\n",
    "\n",
    "fig.show()\n",
    "\n",
    "correlation_coefficient = final_df['SENTIMENT'].corr(final_df['PRED_AAV'])\n",
    "print(\"Correlation Coefficient r = \", correlation_coefficient)"
   ]
  },
  {
   "cell_type": "code",
   "execution_count": 114,
   "metadata": {},
   "outputs": [
    {
     "data": {
      "application/vnd.plotly.v1+json": {
       "config": {
        "plotlyServerURL": "https://plot.ly"
       },
       "data": [
        {
         "hovertemplate": "<b>%{hovertext}</b><br><br>PLAYER=aaron ekblad<br>PRED/ACTUAL=%{x}<br>SENTIMENT=%{y}<br>AAV=%{marker.size}<extra></extra>",
         "hovertext": [
          "aaron ekblad"
         ],
         "legendgroup": "aaron ekblad",
         "marker": {
          "color": "#636efa",
          "size": [
           7500000
          ],
          "sizemode": "area",
          "sizeref": 31250,
          "symbol": "circle"
         },
         "mode": "markers",
         "name": "aaron ekblad",
         "orientation": "v",
         "showlegend": true,
         "type": "scatter",
         "x": [
          0.8298962573333335
         ],
         "xaxis": "x",
         "y": [
          -0.6
         ],
         "yaxis": "y"
        },
        {
         "hovertemplate": "<b>%{hovertext}</b><br><br>PLAYER=auston matthews<br>PRED/ACTUAL=%{x}<br>SENTIMENT=%{y}<br>AAV=%{marker.size}<extra></extra>",
         "hovertext": [
          "auston matthews"
         ],
         "legendgroup": "auston matthews",
         "marker": {
          "color": "#EF553B",
          "size": [
           11640250
          ],
          "sizemode": "area",
          "sizeref": 31250,
          "symbol": "circle"
         },
         "mode": "markers",
         "name": "auston matthews",
         "orientation": "v",
         "showlegend": true,
         "type": "scatter",
         "x": [
          0.9837034913339494
         ],
         "xaxis": "x",
         "y": [
          0.86
         ],
         "yaxis": "y"
        },
        {
         "hovertemplate": "<b>%{hovertext}</b><br><br>PLAYER=brad marchand<br>PRED/ACTUAL=%{x}<br>SENTIMENT=%{y}<br>AAV=%{marker.size}<extra></extra>",
         "hovertext": [
          "brad marchand"
         ],
         "legendgroup": "brad marchand",
         "marker": {
          "color": "#00cc96",
          "size": [
           6125000
          ],
          "sizemode": "area",
          "sizeref": 31250,
          "symbol": "circle"
         },
         "mode": "markers",
         "name": "brad marchand",
         "orientation": "v",
         "showlegend": true,
         "type": "scatter",
         "x": [
          0.9819251685714292
         ],
         "xaxis": "x",
         "y": [
          0
         ],
         "yaxis": "y"
        },
        {
         "hovertemplate": "<b>%{hovertext}</b><br><br>PLAYER=brady tkachuk<br>PRED/ACTUAL=%{x}<br>SENTIMENT=%{y}<br>AAV=%{marker.size}<extra></extra>",
         "hovertext": [
          "brady tkachuk"
         ],
         "legendgroup": "brady tkachuk",
         "marker": {
          "color": "#ab63fa",
          "size": [
           8205714
          ],
          "sizemode": "area",
          "sizeref": 31250,
          "symbol": "circle"
         },
         "mode": "markers",
         "name": "brady tkachuk",
         "orientation": "v",
         "showlegend": true,
         "type": "scatter",
         "x": [
          0.9611616429722022
         ],
         "xaxis": "x",
         "y": [
          0.8333333333333334
         ],
         "yaxis": "y"
        },
        {
         "hovertemplate": "<b>%{hovertext}</b><br><br>PLAYER=brayden schenn<br>PRED/ACTUAL=%{x}<br>SENTIMENT=%{y}<br>AAV=%{marker.size}<extra></extra>",
         "hovertext": [
          "brayden schenn"
         ],
         "legendgroup": "brayden schenn",
         "marker": {
          "color": "#FFA15A",
          "size": [
           6500000
          ],
          "sizemode": "area",
          "sizeref": 31250,
          "symbol": "circle"
         },
         "mode": "markers",
         "name": "brayden schenn",
         "orientation": "v",
         "showlegend": true,
         "type": "scatter",
         "x": [
          0.8254747824615386
         ],
         "xaxis": "x",
         "y": [
          0.4
         ],
         "yaxis": "y"
        },
        {
         "hovertemplate": "<b>%{hovertext}</b><br><br>PLAYER=claude giroux<br>PRED/ACTUAL=%{x}<br>SENTIMENT=%{y}<br>AAV=%{marker.size}<extra></extra>",
         "hovertext": [
          "claude giroux"
         ],
         "legendgroup": "claude giroux",
         "marker": {
          "color": "#19d3f3",
          "size": [
           6500000
          ],
          "sizemode": "area",
          "sizeref": 31250,
          "symbol": "circle"
         },
         "mode": "markers",
         "name": "claude giroux",
         "orientation": "v",
         "showlegend": true,
         "type": "scatter",
         "x": [
          1.0351159715384617
         ],
         "xaxis": "x",
         "y": [
          -0.09999999999999998
         ],
         "yaxis": "y"
        },
        {
         "hovertemplate": "<b>%{hovertext}</b><br><br>PLAYER=connor bedard<br>PRED/ACTUAL=%{x}<br>SENTIMENT=%{y}<br>AAV=%{marker.size}<extra></extra>",
         "hovertext": [
          "connor bedard"
         ],
         "legendgroup": "connor bedard",
         "marker": {
          "color": "#FF6692",
          "size": [
           4450000
          ],
          "sizemode": "area",
          "sizeref": 31250,
          "symbol": "circle"
         },
         "mode": "markers",
         "name": "connor bedard",
         "orientation": "v",
         "showlegend": true,
         "type": "scatter",
         "x": [
          2.713977295789482
         ],
         "xaxis": "x",
         "y": [
          0
         ],
         "yaxis": "y"
        },
        {
         "hovertemplate": "<b>%{hovertext}</b><br><br>PLAYER=connor mcdavid<br>PRED/ACTUAL=%{x}<br>SENTIMENT=%{y}<br>AAV=%{marker.size}<extra></extra>",
         "hovertext": [
          "connor mcdavid"
         ],
         "legendgroup": "connor mcdavid",
         "marker": {
          "color": "#B6E880",
          "size": [
           12500000
          ],
          "sizemode": "area",
          "sizeref": 31250,
          "symbol": "circle"
         },
         "mode": "markers",
         "name": "connor mcdavid",
         "orientation": "v",
         "showlegend": true,
         "type": "scatter",
         "x": [
          0.9725870248
         ],
         "xaxis": "x",
         "y": [
          1
         ],
         "yaxis": "y"
        },
        {
         "hovertemplate": "<b>%{hovertext}</b><br><br>PLAYER=evan bouchard<br>PRED/ACTUAL=%{x}<br>SENTIMENT=%{y}<br>AAV=%{marker.size}<extra></extra>",
         "hovertext": [
          "evan bouchard"
         ],
         "legendgroup": "evan bouchard",
         "marker": {
          "color": "#FF97FF",
          "size": [
           3900000
          ],
          "sizemode": "area",
          "sizeref": 31250,
          "symbol": "circle"
         },
         "mode": "markers",
         "name": "evan bouchard",
         "orientation": "v",
         "showlegend": true,
         "type": "scatter",
         "x": [
          1.0477003635897435
         ],
         "xaxis": "x",
         "y": [
          -0.5
         ],
         "yaxis": "y"
        },
        {
         "hovertemplate": "<b>%{hovertext}</b><br><br>PLAYER=evgeny kuznetsov<br>PRED/ACTUAL=%{x}<br>SENTIMENT=%{y}<br>AAV=%{marker.size}<extra></extra>",
         "hovertext": [
          "evgeny kuznetsov"
         ],
         "legendgroup": "evgeny kuznetsov",
         "marker": {
          "color": "#FECB52",
          "size": [
           7800000
          ],
          "sizemode": "area",
          "sizeref": 31250,
          "symbol": "circle"
         },
         "mode": "markers",
         "name": "evgeny kuznetsov",
         "orientation": "v",
         "showlegend": true,
         "type": "scatter",
         "x": [
          0.936719378846154
         ],
         "xaxis": "x",
         "y": [
          0.5
         ],
         "yaxis": "y"
        },
        {
         "hovertemplate": "<b>%{hovertext}</b><br><br>PLAYER=jason robertson<br>PRED/ACTUAL=%{x}<br>SENTIMENT=%{y}<br>AAV=%{marker.size}<extra></extra>",
         "hovertext": [
          "jason robertson"
         ],
         "legendgroup": "jason robertson",
         "marker": {
          "color": "#636efa",
          "size": [
           7750000
          ],
          "sizemode": "area",
          "sizeref": 31250,
          "symbol": "circle"
         },
         "mode": "markers",
         "name": "jason robertson",
         "orientation": "v",
         "showlegend": true,
         "type": "scatter",
         "x": [
          0.9594718230967744
         ],
         "xaxis": "x",
         "y": [
          0.15000000000000002
         ],
         "yaxis": "y"
        },
        {
         "hovertemplate": "<b>%{hovertext}</b><br><br>PLAYER=jeff skinner<br>PRED/ACTUAL=%{x}<br>SENTIMENT=%{y}<br>AAV=%{marker.size}<extra></extra>",
         "hovertext": [
          "jeff skinner"
         ],
         "legendgroup": "jeff skinner",
         "marker": {
          "color": "#EF553B",
          "size": [
           9000000
          ],
          "sizemode": "area",
          "sizeref": 31250,
          "symbol": "circle"
         },
         "mode": "markers",
         "name": "jeff skinner",
         "orientation": "v",
         "showlegend": true,
         "type": "scatter",
         "x": [
          0.6698247997222225
         ],
         "xaxis": "x",
         "y": [
          -0.1
         ],
         "yaxis": "y"
        },
        {
         "hovertemplate": "<b>%{hovertext}</b><br><br>PLAYER=matt rempe<br>PRED/ACTUAL=%{x}<br>SENTIMENT=%{y}<br>AAV=%{marker.size}<extra></extra>",
         "hovertext": [
          "matt rempe"
         ],
         "legendgroup": "matt rempe",
         "marker": {
          "color": "#00cc96",
          "size": [
           820000
          ],
          "sizemode": "area",
          "sizeref": 31250,
          "symbol": "circle"
         },
         "mode": "markers",
         "name": "matt rempe",
         "orientation": "v",
         "showlegend": true,
         "type": "scatter",
         "x": [
          1.2130215054878082
         ],
         "xaxis": "x",
         "y": [
          -0.09999999999999998
         ],
         "yaxis": "y"
        },
        {
         "hovertemplate": "<b>%{hovertext}</b><br><br>PLAYER=nick cousins<br>PRED/ACTUAL=%{x}<br>SENTIMENT=%{y}<br>AAV=%{marker.size}<extra></extra>",
         "hovertext": [
          "nick cousins"
         ],
         "legendgroup": "nick cousins",
         "marker": {
          "color": "#ab63fa",
          "size": [
           1100000
          ],
          "sizemode": "area",
          "sizeref": 31250,
          "symbol": "circle"
         },
         "mode": "markers",
         "name": "nick cousins",
         "orientation": "v",
         "showlegend": true,
         "type": "scatter",
         "x": [
          1.1216842695454612
         ],
         "xaxis": "x",
         "y": [
          -0.775
         ],
         "yaxis": "y"
        },
        {
         "hovertemplate": "<b>%{hovertext}</b><br><br>PLAYER=nikita kucherov<br>PRED/ACTUAL=%{x}<br>SENTIMENT=%{y}<br>AAV=%{marker.size}<extra></extra>",
         "hovertext": [
          "nikita kucherov"
         ],
         "legendgroup": "nikita kucherov",
         "marker": {
          "color": "#FFA15A",
          "size": [
           9500000
          ],
          "sizemode": "area",
          "sizeref": 31250,
          "symbol": "circle"
         },
         "mode": "markers",
         "name": "nikita kucherov",
         "orientation": "v",
         "showlegend": true,
         "type": "scatter",
         "x": [
          1.014402298947369
         ],
         "xaxis": "x",
         "y": [
          0.275
         ],
         "yaxis": "y"
        },
        {
         "hovertemplate": "<b>%{hovertext}</b><br><br>PLAYER=noah hanifin<br>PRED/ACTUAL=%{x}<br>SENTIMENT=%{y}<br>AAV=%{marker.size}<extra></extra>",
         "hovertext": [
          "noah hanifin"
         ],
         "legendgroup": "noah hanifin",
         "marker": {
          "color": "#19d3f3",
          "size": [
           4950000
          ],
          "sizemode": "area",
          "sizeref": 31250,
          "symbol": "circle"
         },
         "mode": "markers",
         "name": "noah hanifin",
         "orientation": "v",
         "showlegend": true,
         "type": "scatter",
         "x": [
          1.067382288080808
         ],
         "xaxis": "x",
         "y": [
          0
         ],
         "yaxis": "y"
        },
        {
         "hovertemplate": "<b>%{hovertext}</b><br><br>PLAYER=ryan hartman<br>PRED/ACTUAL=%{x}<br>SENTIMENT=%{y}<br>AAV=%{marker.size}<extra></extra>",
         "hovertext": [
          "ryan hartman"
         ],
         "legendgroup": "ryan hartman",
         "marker": {
          "color": "#FF6692",
          "size": [
           1700000
          ],
          "sizemode": "area",
          "sizeref": 31250,
          "symbol": "circle"
         },
         "mode": "markers",
         "name": "ryan hartman",
         "orientation": "v",
         "showlegend": true,
         "type": "scatter",
         "x": [
          1.8391772379411808
         ],
         "xaxis": "x",
         "y": [
          -0.19999999999999998
         ],
         "yaxis": "y"
        },
        {
         "hovertemplate": "<b>%{hovertext}</b><br><br>PLAYER=ryan reaves<br>PRED/ACTUAL=%{x}<br>SENTIMENT=%{y}<br>AAV=%{marker.size}<extra></extra>",
         "hovertext": [
          "ryan reaves"
         ],
         "legendgroup": "ryan reaves",
         "marker": {
          "color": "#B6E880",
          "size": [
           1350000
          ],
          "sizemode": "area",
          "sizeref": 31250,
          "symbol": "circle"
         },
         "mode": "markers",
         "name": "ryan reaves",
         "orientation": "v",
         "showlegend": true,
         "type": "scatter",
         "x": [
          0.8163903240740783
         ],
         "xaxis": "x",
         "y": [
          0.03333333333333333
         ],
         "yaxis": "y"
        },
        {
         "hovertemplate": "<b>%{hovertext}</b><br><br>PLAYER=sidney crosby<br>PRED/ACTUAL=%{x}<br>SENTIMENT=%{y}<br>AAV=%{marker.size}<extra></extra>",
         "hovertext": [
          "sidney crosby"
         ],
         "legendgroup": "sidney crosby",
         "marker": {
          "color": "#FF97FF",
          "size": [
           8700000
          ],
          "sizemode": "area",
          "sizeref": 31250,
          "symbol": "circle"
         },
         "mode": "markers",
         "name": "sidney crosby",
         "orientation": "v",
         "showlegend": true,
         "type": "scatter",
         "x": [
          1.181683458045978
         ],
         "xaxis": "x",
         "y": [
          0.40714285714285714
         ],
         "yaxis": "y"
        },
        {
         "hovertemplate": "<b>%{hovertext}</b><br><br>PLAYER=tom wilson<br>PRED/ACTUAL=%{x}<br>SENTIMENT=%{y}<br>AAV=%{marker.size}<extra></extra>",
         "hovertext": [
          "tom wilson"
         ],
         "legendgroup": "tom wilson",
         "marker": {
          "color": "#FECB52",
          "size": [
           5166667
          ],
          "sizemode": "area",
          "sizeref": 31250,
          "symbol": "circle"
         },
         "mode": "markers",
         "name": "tom wilson",
         "orientation": "v",
         "showlegend": true,
         "type": "scatter",
         "x": [
          0.9864407672296291
         ],
         "xaxis": "x",
         "y": [
          -0.85
         ],
         "yaxis": "y"
        },
        {
         "hovertemplate": "<b>%{hovertext}</b><br><br>PLAYER=tomas hertl<br>PRED/ACTUAL=%{x}<br>SENTIMENT=%{y}<br>AAV=%{marker.size}<extra></extra>",
         "hovertext": [
          "tomas hertl"
         ],
         "legendgroup": "tomas hertl",
         "marker": {
          "color": "#636efa",
          "size": [
           8137500
          ],
          "sizemode": "area",
          "sizeref": 31250,
          "symbol": "circle"
         },
         "mode": "markers",
         "name": "tomas hertl",
         "orientation": "v",
         "showlegend": true,
         "type": "scatter",
         "x": [
          0.968797424270354
         ],
         "xaxis": "x",
         "y": [
          0
         ],
         "yaxis": "y"
        },
        {
         "hovertemplate": "<b>%{hovertext}</b><br><br>PLAYER=zach hyman<br>PRED/ACTUAL=%{x}<br>SENTIMENT=%{y}<br>AAV=%{marker.size}<extra></extra>",
         "hovertext": [
          "zach hyman"
         ],
         "legendgroup": "zach hyman",
         "marker": {
          "color": "#EF553B",
          "size": [
           5500000
          ],
          "sizemode": "area",
          "sizeref": 31250,
          "symbol": "circle"
         },
         "mode": "markers",
         "name": "zach hyman",
         "orientation": "v",
         "showlegend": true,
         "type": "scatter",
         "x": [
          1.445463338181818
         ],
         "xaxis": "x",
         "y": [
          0.6666666666666666
         ],
         "yaxis": "y"
        }
       ],
       "layout": {
        "height": 600,
        "legend": {
         "itemsizing": "constant",
         "title": {
          "text": "PLAYER"
         },
         "tracegroupgap": 0
        },
        "showlegend": true,
        "template": {
         "data": {
          "bar": [
           {
            "error_x": {
             "color": "#2a3f5f"
            },
            "error_y": {
             "color": "#2a3f5f"
            },
            "marker": {
             "line": {
              "color": "#E5ECF6",
              "width": 0.5
             },
             "pattern": {
              "fillmode": "overlay",
              "size": 10,
              "solidity": 0.2
             }
            },
            "type": "bar"
           }
          ],
          "barpolar": [
           {
            "marker": {
             "line": {
              "color": "#E5ECF6",
              "width": 0.5
             },
             "pattern": {
              "fillmode": "overlay",
              "size": 10,
              "solidity": 0.2
             }
            },
            "type": "barpolar"
           }
          ],
          "carpet": [
           {
            "aaxis": {
             "endlinecolor": "#2a3f5f",
             "gridcolor": "white",
             "linecolor": "white",
             "minorgridcolor": "white",
             "startlinecolor": "#2a3f5f"
            },
            "baxis": {
             "endlinecolor": "#2a3f5f",
             "gridcolor": "white",
             "linecolor": "white",
             "minorgridcolor": "white",
             "startlinecolor": "#2a3f5f"
            },
            "type": "carpet"
           }
          ],
          "choropleth": [
           {
            "colorbar": {
             "outlinewidth": 0,
             "ticks": ""
            },
            "type": "choropleth"
           }
          ],
          "contour": [
           {
            "colorbar": {
             "outlinewidth": 0,
             "ticks": ""
            },
            "colorscale": [
             [
              0,
              "#0d0887"
             ],
             [
              0.1111111111111111,
              "#46039f"
             ],
             [
              0.2222222222222222,
              "#7201a8"
             ],
             [
              0.3333333333333333,
              "#9c179e"
             ],
             [
              0.4444444444444444,
              "#bd3786"
             ],
             [
              0.5555555555555556,
              "#d8576b"
             ],
             [
              0.6666666666666666,
              "#ed7953"
             ],
             [
              0.7777777777777778,
              "#fb9f3a"
             ],
             [
              0.8888888888888888,
              "#fdca26"
             ],
             [
              1,
              "#f0f921"
             ]
            ],
            "type": "contour"
           }
          ],
          "contourcarpet": [
           {
            "colorbar": {
             "outlinewidth": 0,
             "ticks": ""
            },
            "type": "contourcarpet"
           }
          ],
          "heatmap": [
           {
            "colorbar": {
             "outlinewidth": 0,
             "ticks": ""
            },
            "colorscale": [
             [
              0,
              "#0d0887"
             ],
             [
              0.1111111111111111,
              "#46039f"
             ],
             [
              0.2222222222222222,
              "#7201a8"
             ],
             [
              0.3333333333333333,
              "#9c179e"
             ],
             [
              0.4444444444444444,
              "#bd3786"
             ],
             [
              0.5555555555555556,
              "#d8576b"
             ],
             [
              0.6666666666666666,
              "#ed7953"
             ],
             [
              0.7777777777777778,
              "#fb9f3a"
             ],
             [
              0.8888888888888888,
              "#fdca26"
             ],
             [
              1,
              "#f0f921"
             ]
            ],
            "type": "heatmap"
           }
          ],
          "heatmapgl": [
           {
            "colorbar": {
             "outlinewidth": 0,
             "ticks": ""
            },
            "colorscale": [
             [
              0,
              "#0d0887"
             ],
             [
              0.1111111111111111,
              "#46039f"
             ],
             [
              0.2222222222222222,
              "#7201a8"
             ],
             [
              0.3333333333333333,
              "#9c179e"
             ],
             [
              0.4444444444444444,
              "#bd3786"
             ],
             [
              0.5555555555555556,
              "#d8576b"
             ],
             [
              0.6666666666666666,
              "#ed7953"
             ],
             [
              0.7777777777777778,
              "#fb9f3a"
             ],
             [
              0.8888888888888888,
              "#fdca26"
             ],
             [
              1,
              "#f0f921"
             ]
            ],
            "type": "heatmapgl"
           }
          ],
          "histogram": [
           {
            "marker": {
             "pattern": {
              "fillmode": "overlay",
              "size": 10,
              "solidity": 0.2
             }
            },
            "type": "histogram"
           }
          ],
          "histogram2d": [
           {
            "colorbar": {
             "outlinewidth": 0,
             "ticks": ""
            },
            "colorscale": [
             [
              0,
              "#0d0887"
             ],
             [
              0.1111111111111111,
              "#46039f"
             ],
             [
              0.2222222222222222,
              "#7201a8"
             ],
             [
              0.3333333333333333,
              "#9c179e"
             ],
             [
              0.4444444444444444,
              "#bd3786"
             ],
             [
              0.5555555555555556,
              "#d8576b"
             ],
             [
              0.6666666666666666,
              "#ed7953"
             ],
             [
              0.7777777777777778,
              "#fb9f3a"
             ],
             [
              0.8888888888888888,
              "#fdca26"
             ],
             [
              1,
              "#f0f921"
             ]
            ],
            "type": "histogram2d"
           }
          ],
          "histogram2dcontour": [
           {
            "colorbar": {
             "outlinewidth": 0,
             "ticks": ""
            },
            "colorscale": [
             [
              0,
              "#0d0887"
             ],
             [
              0.1111111111111111,
              "#46039f"
             ],
             [
              0.2222222222222222,
              "#7201a8"
             ],
             [
              0.3333333333333333,
              "#9c179e"
             ],
             [
              0.4444444444444444,
              "#bd3786"
             ],
             [
              0.5555555555555556,
              "#d8576b"
             ],
             [
              0.6666666666666666,
              "#ed7953"
             ],
             [
              0.7777777777777778,
              "#fb9f3a"
             ],
             [
              0.8888888888888888,
              "#fdca26"
             ],
             [
              1,
              "#f0f921"
             ]
            ],
            "type": "histogram2dcontour"
           }
          ],
          "mesh3d": [
           {
            "colorbar": {
             "outlinewidth": 0,
             "ticks": ""
            },
            "type": "mesh3d"
           }
          ],
          "parcoords": [
           {
            "line": {
             "colorbar": {
              "outlinewidth": 0,
              "ticks": ""
             }
            },
            "type": "parcoords"
           }
          ],
          "pie": [
           {
            "automargin": true,
            "type": "pie"
           }
          ],
          "scatter": [
           {
            "fillpattern": {
             "fillmode": "overlay",
             "size": 10,
             "solidity": 0.2
            },
            "type": "scatter"
           }
          ],
          "scatter3d": [
           {
            "line": {
             "colorbar": {
              "outlinewidth": 0,
              "ticks": ""
             }
            },
            "marker": {
             "colorbar": {
              "outlinewidth": 0,
              "ticks": ""
             }
            },
            "type": "scatter3d"
           }
          ],
          "scattercarpet": [
           {
            "marker": {
             "colorbar": {
              "outlinewidth": 0,
              "ticks": ""
             }
            },
            "type": "scattercarpet"
           }
          ],
          "scattergeo": [
           {
            "marker": {
             "colorbar": {
              "outlinewidth": 0,
              "ticks": ""
             }
            },
            "type": "scattergeo"
           }
          ],
          "scattergl": [
           {
            "marker": {
             "colorbar": {
              "outlinewidth": 0,
              "ticks": ""
             }
            },
            "type": "scattergl"
           }
          ],
          "scattermapbox": [
           {
            "marker": {
             "colorbar": {
              "outlinewidth": 0,
              "ticks": ""
             }
            },
            "type": "scattermapbox"
           }
          ],
          "scatterpolar": [
           {
            "marker": {
             "colorbar": {
              "outlinewidth": 0,
              "ticks": ""
             }
            },
            "type": "scatterpolar"
           }
          ],
          "scatterpolargl": [
           {
            "marker": {
             "colorbar": {
              "outlinewidth": 0,
              "ticks": ""
             }
            },
            "type": "scatterpolargl"
           }
          ],
          "scatterternary": [
           {
            "marker": {
             "colorbar": {
              "outlinewidth": 0,
              "ticks": ""
             }
            },
            "type": "scatterternary"
           }
          ],
          "surface": [
           {
            "colorbar": {
             "outlinewidth": 0,
             "ticks": ""
            },
            "colorscale": [
             [
              0,
              "#0d0887"
             ],
             [
              0.1111111111111111,
              "#46039f"
             ],
             [
              0.2222222222222222,
              "#7201a8"
             ],
             [
              0.3333333333333333,
              "#9c179e"
             ],
             [
              0.4444444444444444,
              "#bd3786"
             ],
             [
              0.5555555555555556,
              "#d8576b"
             ],
             [
              0.6666666666666666,
              "#ed7953"
             ],
             [
              0.7777777777777778,
              "#fb9f3a"
             ],
             [
              0.8888888888888888,
              "#fdca26"
             ],
             [
              1,
              "#f0f921"
             ]
            ],
            "type": "surface"
           }
          ],
          "table": [
           {
            "cells": {
             "fill": {
              "color": "#EBF0F8"
             },
             "line": {
              "color": "white"
             }
            },
            "header": {
             "fill": {
              "color": "#C8D4E3"
             },
             "line": {
              "color": "white"
             }
            },
            "type": "table"
           }
          ]
         },
         "layout": {
          "annotationdefaults": {
           "arrowcolor": "#2a3f5f",
           "arrowhead": 0,
           "arrowwidth": 1
          },
          "autotypenumbers": "strict",
          "coloraxis": {
           "colorbar": {
            "outlinewidth": 0,
            "ticks": ""
           }
          },
          "colorscale": {
           "diverging": [
            [
             0,
             "#8e0152"
            ],
            [
             0.1,
             "#c51b7d"
            ],
            [
             0.2,
             "#de77ae"
            ],
            [
             0.3,
             "#f1b6da"
            ],
            [
             0.4,
             "#fde0ef"
            ],
            [
             0.5,
             "#f7f7f7"
            ],
            [
             0.6,
             "#e6f5d0"
            ],
            [
             0.7,
             "#b8e186"
            ],
            [
             0.8,
             "#7fbc41"
            ],
            [
             0.9,
             "#4d9221"
            ],
            [
             1,
             "#276419"
            ]
           ],
           "sequential": [
            [
             0,
             "#0d0887"
            ],
            [
             0.1111111111111111,
             "#46039f"
            ],
            [
             0.2222222222222222,
             "#7201a8"
            ],
            [
             0.3333333333333333,
             "#9c179e"
            ],
            [
             0.4444444444444444,
             "#bd3786"
            ],
            [
             0.5555555555555556,
             "#d8576b"
            ],
            [
             0.6666666666666666,
             "#ed7953"
            ],
            [
             0.7777777777777778,
             "#fb9f3a"
            ],
            [
             0.8888888888888888,
             "#fdca26"
            ],
            [
             1,
             "#f0f921"
            ]
           ],
           "sequentialminus": [
            [
             0,
             "#0d0887"
            ],
            [
             0.1111111111111111,
             "#46039f"
            ],
            [
             0.2222222222222222,
             "#7201a8"
            ],
            [
             0.3333333333333333,
             "#9c179e"
            ],
            [
             0.4444444444444444,
             "#bd3786"
            ],
            [
             0.5555555555555556,
             "#d8576b"
            ],
            [
             0.6666666666666666,
             "#ed7953"
            ],
            [
             0.7777777777777778,
             "#fb9f3a"
            ],
            [
             0.8888888888888888,
             "#fdca26"
            ],
            [
             1,
             "#f0f921"
            ]
           ]
          },
          "colorway": [
           "#636efa",
           "#EF553B",
           "#00cc96",
           "#ab63fa",
           "#FFA15A",
           "#19d3f3",
           "#FF6692",
           "#B6E880",
           "#FF97FF",
           "#FECB52"
          ],
          "font": {
           "color": "#2a3f5f"
          },
          "geo": {
           "bgcolor": "white",
           "lakecolor": "white",
           "landcolor": "#E5ECF6",
           "showlakes": true,
           "showland": true,
           "subunitcolor": "white"
          },
          "hoverlabel": {
           "align": "left"
          },
          "hovermode": "closest",
          "mapbox": {
           "style": "light"
          },
          "paper_bgcolor": "white",
          "plot_bgcolor": "#E5ECF6",
          "polar": {
           "angularaxis": {
            "gridcolor": "white",
            "linecolor": "white",
            "ticks": ""
           },
           "bgcolor": "#E5ECF6",
           "radialaxis": {
            "gridcolor": "white",
            "linecolor": "white",
            "ticks": ""
           }
          },
          "scene": {
           "xaxis": {
            "backgroundcolor": "#E5ECF6",
            "gridcolor": "white",
            "gridwidth": 2,
            "linecolor": "white",
            "showbackground": true,
            "ticks": "",
            "zerolinecolor": "white"
           },
           "yaxis": {
            "backgroundcolor": "#E5ECF6",
            "gridcolor": "white",
            "gridwidth": 2,
            "linecolor": "white",
            "showbackground": true,
            "ticks": "",
            "zerolinecolor": "white"
           },
           "zaxis": {
            "backgroundcolor": "#E5ECF6",
            "gridcolor": "white",
            "gridwidth": 2,
            "linecolor": "white",
            "showbackground": true,
            "ticks": "",
            "zerolinecolor": "white"
           }
          },
          "shapedefaults": {
           "line": {
            "color": "#2a3f5f"
           }
          },
          "ternary": {
           "aaxis": {
            "gridcolor": "white",
            "linecolor": "white",
            "ticks": ""
           },
           "baxis": {
            "gridcolor": "white",
            "linecolor": "white",
            "ticks": ""
           },
           "bgcolor": "#E5ECF6",
           "caxis": {
            "gridcolor": "white",
            "linecolor": "white",
            "ticks": ""
           }
          },
          "title": {
           "x": 0.05
          },
          "xaxis": {
           "automargin": true,
           "gridcolor": "white",
           "linecolor": "white",
           "ticks": "",
           "title": {
            "standoff": 15
           },
           "zerolinecolor": "white",
           "zerolinewidth": 2
          },
          "yaxis": {
           "automargin": true,
           "gridcolor": "white",
           "linecolor": "white",
           "ticks": "",
           "title": {
            "standoff": 15
           },
           "zerolinecolor": "white",
           "zerolinewidth": 2
          }
         }
        },
        "title": {
         "text": "Scatter Plot of SENTIMENT vs. SALARY"
        },
        "width": 800,
        "xaxis": {
         "anchor": "y",
         "domain": [
          0,
          1
         ],
         "range": [
          0,
          2
         ],
         "title": {
          "text": "PREDICTION / ACTUAL"
         }
        },
        "yaxis": {
         "anchor": "x",
         "domain": [
          0,
          1
         ],
         "title": {
          "text": "SENTIMENT"
         }
        }
       }
      }
     },
     "metadata": {},
     "output_type": "display_data"
    }
   ],
   "source": [
    "fig = px.scatter(\n",
    "    final_df,\n",
    "    x='PRED/ACTUAL',\n",
    "    y='SENTIMENT',\n",
    "    title='Scatter Plot of SENTIMENT vs. SALARY',\n",
    "    hover_name='PLAYER',\n",
    "    size = 'AAV',\n",
    "    color='PLAYER'\n",
    ")\n",
    "\n",
    "fig.update_layout(\n",
    "    xaxis_title='PREDICTION / ACTUAL',\n",
    "    yaxis_title='SENTIMENT',\n",
    "    width=800,\n",
    "    height=600,\n",
    "    showlegend=True\n",
    ")\n",
    "fig.update_xaxes(range=[0, 2])\n",
    "\n",
    "fig.show()"
   ]
  },
  {
   "cell_type": "code",
   "execution_count": null,
   "metadata": {},
   "outputs": [],
   "source": []
  }
 ],
 "metadata": {
  "kernelspec": {
   "display_name": "py310",
   "language": "python",
   "name": "python3"
  },
  "language_info": {
   "codemirror_mode": {
    "name": "ipython",
    "version": 3
   },
   "file_extension": ".py",
   "mimetype": "text/x-python",
   "name": "python",
   "nbconvert_exporter": "python",
   "pygments_lexer": "ipython3",
   "version": "3.10.14"
  }
 },
 "nbformat": 4,
 "nbformat_minor": 2
}
