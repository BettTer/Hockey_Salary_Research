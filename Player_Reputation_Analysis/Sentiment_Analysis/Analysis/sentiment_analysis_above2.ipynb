{
 "cells": [
  {
   "cell_type": "markdown",
   "metadata": {},
   "source": [
    "### Analysis of player sentiment data with more than 1 per player"
   ]
  },
  {
   "cell_type": "code",
   "execution_count": 4,
   "metadata": {},
   "outputs": [
    {
     "data": {
      "text/html": [
       "<div>\n",
       "<style scoped>\n",
       "    .dataframe tbody tr th:only-of-type {\n",
       "        vertical-align: middle;\n",
       "    }\n",
       "\n",
       "    .dataframe tbody tr th {\n",
       "        vertical-align: top;\n",
       "    }\n",
       "\n",
       "    .dataframe thead th {\n",
       "        text-align: right;\n",
       "    }\n",
       "</style>\n",
       "<table border=\"1\" class=\"dataframe\">\n",
       "  <thead>\n",
       "    <tr style=\"text-align: right;\">\n",
       "      <th></th>\n",
       "      <th>mentioned_players</th>\n",
       "      <th>SENTIMENT</th>\n",
       "      <th>COUNT</th>\n",
       "    </tr>\n",
       "  </thead>\n",
       "  <tbody>\n",
       "    <tr>\n",
       "      <th>0</th>\n",
       "      <td>aaron ekblad</td>\n",
       "      <td>-0.600000</td>\n",
       "      <td>2</td>\n",
       "    </tr>\n",
       "    <tr>\n",
       "      <th>1</th>\n",
       "      <td>adam larsson</td>\n",
       "      <td>0.000000</td>\n",
       "      <td>1</td>\n",
       "    </tr>\n",
       "    <tr>\n",
       "      <th>2</th>\n",
       "      <td>andrew peeke</td>\n",
       "      <td>0.000000</td>\n",
       "      <td>1</td>\n",
       "    </tr>\n",
       "    <tr>\n",
       "      <th>3</th>\n",
       "      <td>artemi panarin</td>\n",
       "      <td>0.000000</td>\n",
       "      <td>1</td>\n",
       "    </tr>\n",
       "    <tr>\n",
       "      <th>4</th>\n",
       "      <td>auston matthews</td>\n",
       "      <td>0.880000</td>\n",
       "      <td>5</td>\n",
       "    </tr>\n",
       "    <tr>\n",
       "      <th>...</th>\n",
       "      <td>...</td>\n",
       "      <td>...</td>\n",
       "      <td>...</td>\n",
       "    </tr>\n",
       "    <tr>\n",
       "      <th>74</th>\n",
       "      <td>vladimir tarasenko</td>\n",
       "      <td>0.000000</td>\n",
       "      <td>1</td>\n",
       "    </tr>\n",
       "    <tr>\n",
       "      <th>75</th>\n",
       "      <td>yakov trenin</td>\n",
       "      <td>0.000000</td>\n",
       "      <td>1</td>\n",
       "    </tr>\n",
       "    <tr>\n",
       "      <th>76</th>\n",
       "      <td>yanni gourde</td>\n",
       "      <td>0.000000</td>\n",
       "      <td>1</td>\n",
       "    </tr>\n",
       "    <tr>\n",
       "      <th>77</th>\n",
       "      <td>zach benson</td>\n",
       "      <td>-0.200000</td>\n",
       "      <td>1</td>\n",
       "    </tr>\n",
       "    <tr>\n",
       "      <th>78</th>\n",
       "      <td>zach hyman</td>\n",
       "      <td>0.666667</td>\n",
       "      <td>3</td>\n",
       "    </tr>\n",
       "  </tbody>\n",
       "</table>\n",
       "<p>79 rows × 3 columns</p>\n",
       "</div>"
      ],
      "text/plain": [
       "     mentioned_players  SENTIMENT  COUNT\n",
       "0         aaron ekblad  -0.600000      2\n",
       "1         adam larsson   0.000000      1\n",
       "2         andrew peeke   0.000000      1\n",
       "3       artemi panarin   0.000000      1\n",
       "4      auston matthews   0.880000      5\n",
       "..                 ...        ...    ...\n",
       "74  vladimir tarasenko   0.000000      1\n",
       "75        yakov trenin   0.000000      1\n",
       "76        yanni gourde   0.000000      1\n",
       "77         zach benson  -0.200000      1\n",
       "78          zach hyman   0.666667      3\n",
       "\n",
       "[79 rows x 3 columns]"
      ]
     },
     "execution_count": 4,
     "metadata": {},
     "output_type": "execute_result"
    }
   ],
   "source": [
    "import pandas as pd\n",
    "import matplotlib.pyplot as plt\n",
    "import numpy as np\n",
    "import plotly.express as px\n",
    "\n",
    "\n",
    "sentiment_df = pd.read_csv('../sentiment_result_raw.csv')\n",
    "sentiment_df['mentioned_players'] = sentiment_df['mentioned_players'].str.lower()\n",
    "sentiment_df = (\n",
    "    pd.to_datetime(sentiment_df['created_date'])\n",
    "    .pipe(lambda x: sentiment_df.assign(created_date=x))\n",
    "    .query('created_date.dt.year >= 2024')\n",
    "    .groupby('mentioned_players')\n",
    "    .agg(\n",
    "        SENTIMENT=('sentiment_result', 'mean'),\n",
    "        COUNT=('sentiment_result', 'count')\n",
    "        )\n",
    "    .reset_index()\n",
    ")\n",
    "\n",
    "sentiment_df"
   ]
  },
  {
   "cell_type": "code",
   "execution_count": 34,
   "metadata": {},
   "outputs": [],
   "source": [
    "filtered_df = sentiment_df.query('COUNT > 1').copy()\n",
    "# filtered_df = sentiment_df\n"
   ]
  },
  {
   "cell_type": "code",
   "execution_count": 35,
   "metadata": {},
   "outputs": [
    {
     "data": {
      "text/html": [
       "<div>\n",
       "<style scoped>\n",
       "    .dataframe tbody tr th:only-of-type {\n",
       "        vertical-align: middle;\n",
       "    }\n",
       "\n",
       "    .dataframe tbody tr th {\n",
       "        vertical-align: top;\n",
       "    }\n",
       "\n",
       "    .dataframe thead th {\n",
       "        text-align: right;\n",
       "    }\n",
       "</style>\n",
       "<table border=\"1\" class=\"dataframe\">\n",
       "  <thead>\n",
       "    <tr style=\"text-align: right;\">\n",
       "      <th></th>\n",
       "      <th>TEAM</th>\n",
       "      <th>PLAYER</th>\n",
       "      <th>POSITION</th>\n",
       "      <th>GP</th>\n",
       "      <th>TOI/GP</th>\n",
       "      <th>TOI</th>\n",
       "      <th>IPP</th>\n",
       "      <th>GOALS</th>\n",
       "      <th>TOTAL ASSISTS</th>\n",
       "      <th>FIRST ASSISTS</th>\n",
       "      <th>...</th>\n",
       "      <th>P.BONUS</th>\n",
       "      <th>SEASON</th>\n",
       "      <th>SALARY CAP</th>\n",
       "      <th>SALARY CAP PERCENTAGE</th>\n",
       "      <th>DECEASED</th>\n",
       "      <th>PRED_SALARY_PERCENTAGE</th>\n",
       "      <th>PRED/ACTUAL</th>\n",
       "      <th>TEAM_FULL_NAMES</th>\n",
       "      <th>SENTIMENT</th>\n",
       "      <th>COUNT</th>\n",
       "    </tr>\n",
       "  </thead>\n",
       "  <tbody>\n",
       "    <tr>\n",
       "      <th>11406</th>\n",
       "      <td>fla</td>\n",
       "      <td>aaron ekblad</td>\n",
       "      <td>Defence</td>\n",
       "      <td>47</td>\n",
       "      <td>21.134397</td>\n",
       "      <td>993.316667</td>\n",
       "      <td>30.91</td>\n",
       "      <td>4</td>\n",
       "      <td>13</td>\n",
       "      <td>5</td>\n",
       "      <td>...</td>\n",
       "      <td>0</td>\n",
       "      <td>2023-24</td>\n",
       "      <td>83500000</td>\n",
       "      <td>0.089820</td>\n",
       "      <td>0</td>\n",
       "      <td>0.080131</td>\n",
       "      <td>0.892121</td>\n",
       "      <td>Florida Panthers</td>\n",
       "      <td>-0.600000</td>\n",
       "      <td>2.0</td>\n",
       "    </tr>\n",
       "    <tr>\n",
       "      <th>11473</th>\n",
       "      <td>tor</td>\n",
       "      <td>auston matthews</td>\n",
       "      <td>Center</td>\n",
       "      <td>67</td>\n",
       "      <td>21.082587</td>\n",
       "      <td>1412.533333</td>\n",
       "      <td>71.20</td>\n",
       "      <td>57</td>\n",
       "      <td>32</td>\n",
       "      <td>20</td>\n",
       "      <td>...</td>\n",
       "      <td>0</td>\n",
       "      <td>2023-24</td>\n",
       "      <td>83500000</td>\n",
       "      <td>0.139404</td>\n",
       "      <td>0</td>\n",
       "      <td>0.136533</td>\n",
       "      <td>0.979402</td>\n",
       "      <td>Toronto Maple Leafs</td>\n",
       "      <td>0.880000</td>\n",
       "      <td>5.0</td>\n",
       "    </tr>\n",
       "    <tr>\n",
       "      <th>11487</th>\n",
       "      <td>bos</td>\n",
       "      <td>brad marchand</td>\n",
       "      <td>Left Wing</td>\n",
       "      <td>71</td>\n",
       "      <td>19.286150</td>\n",
       "      <td>1369.316667</td>\n",
       "      <td>65.26</td>\n",
       "      <td>27</td>\n",
       "      <td>35</td>\n",
       "      <td>18</td>\n",
       "      <td>...</td>\n",
       "      <td>0</td>\n",
       "      <td>2023-24</td>\n",
       "      <td>83500000</td>\n",
       "      <td>0.073353</td>\n",
       "      <td>0</td>\n",
       "      <td>0.075274</td>\n",
       "      <td>1.026183</td>\n",
       "      <td>Boston Bruins</td>\n",
       "      <td>0.050000</td>\n",
       "      <td>2.0</td>\n",
       "    </tr>\n",
       "    <tr>\n",
       "      <th>11503</th>\n",
       "      <td>stl</td>\n",
       "      <td>brayden schenn</td>\n",
       "      <td>Center</td>\n",
       "      <td>70</td>\n",
       "      <td>17.629286</td>\n",
       "      <td>1234.050000</td>\n",
       "      <td>53.97</td>\n",
       "      <td>15</td>\n",
       "      <td>19</td>\n",
       "      <td>14</td>\n",
       "      <td>...</td>\n",
       "      <td>0</td>\n",
       "      <td>2023-24</td>\n",
       "      <td>83500000</td>\n",
       "      <td>0.077844</td>\n",
       "      <td>0</td>\n",
       "      <td>0.072220</td>\n",
       "      <td>0.927749</td>\n",
       "      <td>St. Louis Blues</td>\n",
       "      <td>0.400000</td>\n",
       "      <td>2.0</td>\n",
       "    </tr>\n",
       "    <tr>\n",
       "      <th>11549</th>\n",
       "      <td>ott</td>\n",
       "      <td>claude giroux</td>\n",
       "      <td>Right Wing</td>\n",
       "      <td>68</td>\n",
       "      <td>20.020833</td>\n",
       "      <td>1361.416667</td>\n",
       "      <td>70.73</td>\n",
       "      <td>19</td>\n",
       "      <td>39</td>\n",
       "      <td>25</td>\n",
       "      <td>...</td>\n",
       "      <td>0</td>\n",
       "      <td>2023-24</td>\n",
       "      <td>83500000</td>\n",
       "      <td>0.077844</td>\n",
       "      <td>0</td>\n",
       "      <td>0.075431</td>\n",
       "      <td>0.969001</td>\n",
       "      <td>Ottawa Senators</td>\n",
       "      <td>-0.100000</td>\n",
       "      <td>2.0</td>\n",
       "    </tr>\n",
       "    <tr>\n",
       "      <th>11566</th>\n",
       "      <td>chi</td>\n",
       "      <td>connor bedard</td>\n",
       "      <td>Center</td>\n",
       "      <td>56</td>\n",
       "      <td>19.603274</td>\n",
       "      <td>1097.783333</td>\n",
       "      <td>81.82</td>\n",
       "      <td>21</td>\n",
       "      <td>33</td>\n",
       "      <td>24</td>\n",
       "      <td>...</td>\n",
       "      <td>3500000</td>\n",
       "      <td>2023-24</td>\n",
       "      <td>83500000</td>\n",
       "      <td>0.011377</td>\n",
       "      <td>0</td>\n",
       "      <td>0.032421</td>\n",
       "      <td>2.849596</td>\n",
       "      <td>Chicago Blackhawks</td>\n",
       "      <td>-0.266667</td>\n",
       "      <td>3.0</td>\n",
       "    </tr>\n",
       "    <tr>\n",
       "      <th>11570</th>\n",
       "      <td>edm</td>\n",
       "      <td>connor mcdavid</td>\n",
       "      <td>Center</td>\n",
       "      <td>65</td>\n",
       "      <td>21.573333</td>\n",
       "      <td>1402.266667</td>\n",
       "      <td>78.32</td>\n",
       "      <td>26</td>\n",
       "      <td>86</td>\n",
       "      <td>54</td>\n",
       "      <td>...</td>\n",
       "      <td>0</td>\n",
       "      <td>2023-24</td>\n",
       "      <td>83500000</td>\n",
       "      <td>0.149701</td>\n",
       "      <td>0</td>\n",
       "      <td>0.119931</td>\n",
       "      <td>0.801139</td>\n",
       "      <td>Edmonton Oilers</td>\n",
       "      <td>1.000000</td>\n",
       "      <td>2.0</td>\n",
       "    </tr>\n",
       "    <tr>\n",
       "      <th>11634</th>\n",
       "      <td>car, wsh</td>\n",
       "      <td>evgeny kuznetsov</td>\n",
       "      <td>Center</td>\n",
       "      <td>51</td>\n",
       "      <td>18.328758</td>\n",
       "      <td>934.766667</td>\n",
       "      <td>61.11</td>\n",
       "      <td>8</td>\n",
       "      <td>14</td>\n",
       "      <td>9</td>\n",
       "      <td>...</td>\n",
       "      <td>0</td>\n",
       "      <td>2023-24</td>\n",
       "      <td>83500000</td>\n",
       "      <td>0.093413</td>\n",
       "      <td>0</td>\n",
       "      <td>0.086294</td>\n",
       "      <td>0.923785</td>\n",
       "      <td>Carolina Hurricanes, Washington Capitals</td>\n",
       "      <td>0.500000</td>\n",
       "      <td>2.0</td>\n",
       "    </tr>\n",
       "    <tr>\n",
       "      <th>11713</th>\n",
       "      <td>dal</td>\n",
       "      <td>jason robertson</td>\n",
       "      <td>Left Wing</td>\n",
       "      <td>70</td>\n",
       "      <td>18.381429</td>\n",
       "      <td>1286.700000</td>\n",
       "      <td>69.31</td>\n",
       "      <td>24</td>\n",
       "      <td>46</td>\n",
       "      <td>21</td>\n",
       "      <td>...</td>\n",
       "      <td>0</td>\n",
       "      <td>2023-24</td>\n",
       "      <td>83500000</td>\n",
       "      <td>0.092814</td>\n",
       "      <td>0</td>\n",
       "      <td>0.090520</td>\n",
       "      <td>0.975280</td>\n",
       "      <td>Dallas Stars</td>\n",
       "      <td>0.100000</td>\n",
       "      <td>2.0</td>\n",
       "    </tr>\n",
       "    <tr>\n",
       "      <th>11721</th>\n",
       "      <td>buf</td>\n",
       "      <td>jeff skinner</td>\n",
       "      <td>Left Wing</td>\n",
       "      <td>63</td>\n",
       "      <td>16.400000</td>\n",
       "      <td>1033.200000</td>\n",
       "      <td>65.22</td>\n",
       "      <td>24</td>\n",
       "      <td>21</td>\n",
       "      <td>12</td>\n",
       "      <td>...</td>\n",
       "      <td>0</td>\n",
       "      <td>2023-24</td>\n",
       "      <td>83500000</td>\n",
       "      <td>0.107784</td>\n",
       "      <td>0</td>\n",
       "      <td>0.092773</td>\n",
       "      <td>0.860727</td>\n",
       "      <td>Buffalo Sabres</td>\n",
       "      <td>-0.100000</td>\n",
       "      <td>2.0</td>\n",
       "    </tr>\n",
       "    <tr>\n",
       "      <th>11866</th>\n",
       "      <td>nyr</td>\n",
       "      <td>matt rempe</td>\n",
       "      <td>Center</td>\n",
       "      <td>11</td>\n",
       "      <td>5.604545</td>\n",
       "      <td>61.650000</td>\n",
       "      <td>50.00</td>\n",
       "      <td>1</td>\n",
       "      <td>1</td>\n",
       "      <td>1</td>\n",
       "      <td>...</td>\n",
       "      <td>0</td>\n",
       "      <td>2023-24</td>\n",
       "      <td>83500000</td>\n",
       "      <td>0.009820</td>\n",
       "      <td>0</td>\n",
       "      <td>0.011884</td>\n",
       "      <td>1.210127</td>\n",
       "      <td>New York Rangers</td>\n",
       "      <td>-0.100000</td>\n",
       "      <td>5.0</td>\n",
       "    </tr>\n",
       "    <tr>\n",
       "      <th>11920</th>\n",
       "      <td>fla</td>\n",
       "      <td>nick cousins</td>\n",
       "      <td>Center</td>\n",
       "      <td>57</td>\n",
       "      <td>12.464035</td>\n",
       "      <td>710.450000</td>\n",
       "      <td>62.50</td>\n",
       "      <td>5</td>\n",
       "      <td>5</td>\n",
       "      <td>2</td>\n",
       "      <td>...</td>\n",
       "      <td>0</td>\n",
       "      <td>2023-24</td>\n",
       "      <td>83500000</td>\n",
       "      <td>0.013174</td>\n",
       "      <td>0</td>\n",
       "      <td>0.028391</td>\n",
       "      <td>2.155138</td>\n",
       "      <td>Florida Panthers</td>\n",
       "      <td>-0.775000</td>\n",
       "      <td>4.0</td>\n",
       "    </tr>\n",
       "    <tr>\n",
       "      <th>11935</th>\n",
       "      <td>t.b</td>\n",
       "      <td>nikita kucherov</td>\n",
       "      <td>Right Wing</td>\n",
       "      <td>68</td>\n",
       "      <td>21.726471</td>\n",
       "      <td>1477.400000</td>\n",
       "      <td>81.88</td>\n",
       "      <td>41</td>\n",
       "      <td>81</td>\n",
       "      <td>48</td>\n",
       "      <td>...</td>\n",
       "      <td>0</td>\n",
       "      <td>2023-24</td>\n",
       "      <td>83500000</td>\n",
       "      <td>0.113772</td>\n",
       "      <td>0</td>\n",
       "      <td>0.116577</td>\n",
       "      <td>1.024649</td>\n",
       "      <td>Tampa Bay Lightning</td>\n",
       "      <td>0.275000</td>\n",
       "      <td>4.0</td>\n",
       "    </tr>\n",
       "    <tr>\n",
       "      <th>11947</th>\n",
       "      <td>cgy, vgk</td>\n",
       "      <td>noah hanifin</td>\n",
       "      <td>Defence</td>\n",
       "      <td>68</td>\n",
       "      <td>23.603431</td>\n",
       "      <td>1605.033333</td>\n",
       "      <td>41.49</td>\n",
       "      <td>11</td>\n",
       "      <td>28</td>\n",
       "      <td>15</td>\n",
       "      <td>...</td>\n",
       "      <td>0</td>\n",
       "      <td>2023-24</td>\n",
       "      <td>83500000</td>\n",
       "      <td>0.059281</td>\n",
       "      <td>0</td>\n",
       "      <td>0.060319</td>\n",
       "      <td>1.017502</td>\n",
       "      <td>Calgary Flames, Vegas Golden Knights</td>\n",
       "      <td>0.000000</td>\n",
       "      <td>2.0</td>\n",
       "    </tr>\n",
       "    <tr>\n",
       "      <th>12011</th>\n",
       "      <td>min</td>\n",
       "      <td>ryan hartman</td>\n",
       "      <td>Right Wing</td>\n",
       "      <td>65</td>\n",
       "      <td>16.401282</td>\n",
       "      <td>1066.083333</td>\n",
       "      <td>64.52</td>\n",
       "      <td>18</td>\n",
       "      <td>22</td>\n",
       "      <td>11</td>\n",
       "      <td>...</td>\n",
       "      <td>0</td>\n",
       "      <td>2023-24</td>\n",
       "      <td>83500000</td>\n",
       "      <td>0.020359</td>\n",
       "      <td>0</td>\n",
       "      <td>0.033733</td>\n",
       "      <td>1.656885</td>\n",
       "      <td>Minnesota Wild</td>\n",
       "      <td>-0.200000</td>\n",
       "      <td>2.0</td>\n",
       "    </tr>\n",
       "    <tr>\n",
       "      <th>12021</th>\n",
       "      <td>tor</td>\n",
       "      <td>ryan reaves</td>\n",
       "      <td>Right Wing</td>\n",
       "      <td>39</td>\n",
       "      <td>7.994017</td>\n",
       "      <td>311.766667</td>\n",
       "      <td>57.14</td>\n",
       "      <td>3</td>\n",
       "      <td>1</td>\n",
       "      <td>1</td>\n",
       "      <td>...</td>\n",
       "      <td>0</td>\n",
       "      <td>2023-24</td>\n",
       "      <td>83500000</td>\n",
       "      <td>0.016168</td>\n",
       "      <td>0</td>\n",
       "      <td>0.014667</td>\n",
       "      <td>0.907205</td>\n",
       "      <td>Toronto Maple Leafs</td>\n",
       "      <td>0.050000</td>\n",
       "      <td>2.0</td>\n",
       "    </tr>\n",
       "    <tr>\n",
       "      <th>12055</th>\n",
       "      <td>pit</td>\n",
       "      <td>sidney crosby</td>\n",
       "      <td>Center</td>\n",
       "      <td>68</td>\n",
       "      <td>19.981863</td>\n",
       "      <td>1358.766667</td>\n",
       "      <td>66.99</td>\n",
       "      <td>33</td>\n",
       "      <td>36</td>\n",
       "      <td>22</td>\n",
       "      <td>...</td>\n",
       "      <td>0</td>\n",
       "      <td>2023-24</td>\n",
       "      <td>83500000</td>\n",
       "      <td>0.104192</td>\n",
       "      <td>0</td>\n",
       "      <td>0.104149</td>\n",
       "      <td>0.999589</td>\n",
       "      <td>Pittsburgh Penguins</td>\n",
       "      <td>0.392857</td>\n",
       "      <td>14.0</td>\n",
       "    </tr>\n",
       "    <tr>\n",
       "      <th>12076</th>\n",
       "      <td>wsh</td>\n",
       "      <td>tom wilson</td>\n",
       "      <td>Right Wing</td>\n",
       "      <td>66</td>\n",
       "      <td>18.056818</td>\n",
       "      <td>1191.750000</td>\n",
       "      <td>62.75</td>\n",
       "      <td>17</td>\n",
       "      <td>15</td>\n",
       "      <td>5</td>\n",
       "      <td>...</td>\n",
       "      <td>0</td>\n",
       "      <td>2023-24</td>\n",
       "      <td>83500000</td>\n",
       "      <td>0.061876</td>\n",
       "      <td>0</td>\n",
       "      <td>0.056294</td>\n",
       "      <td>0.909788</td>\n",
       "      <td>Washington Capitals</td>\n",
       "      <td>-0.850000</td>\n",
       "      <td>2.0</td>\n",
       "    </tr>\n",
       "    <tr>\n",
       "      <th>12077</th>\n",
       "      <td>s.j</td>\n",
       "      <td>tomas hertl</td>\n",
       "      <td>Center</td>\n",
       "      <td>48</td>\n",
       "      <td>20.900694</td>\n",
       "      <td>1003.233333</td>\n",
       "      <td>79.07</td>\n",
       "      <td>15</td>\n",
       "      <td>19</td>\n",
       "      <td>13</td>\n",
       "      <td>...</td>\n",
       "      <td>0</td>\n",
       "      <td>2023-24</td>\n",
       "      <td>83500000</td>\n",
       "      <td>0.097455</td>\n",
       "      <td>0</td>\n",
       "      <td>0.093148</td>\n",
       "      <td>0.955807</td>\n",
       "      <td>San Jose Sharks</td>\n",
       "      <td>0.000000</td>\n",
       "      <td>2.0</td>\n",
       "    </tr>\n",
       "    <tr>\n",
       "      <th>12143</th>\n",
       "      <td>edm</td>\n",
       "      <td>zach hyman</td>\n",
       "      <td>Left Wing</td>\n",
       "      <td>66</td>\n",
       "      <td>19.587121</td>\n",
       "      <td>1292.750000</td>\n",
       "      <td>50.00</td>\n",
       "      <td>48</td>\n",
       "      <td>19</td>\n",
       "      <td>10</td>\n",
       "      <td>...</td>\n",
       "      <td>0</td>\n",
       "      <td>2023-24</td>\n",
       "      <td>83500000</td>\n",
       "      <td>0.065868</td>\n",
       "      <td>0</td>\n",
       "      <td>0.069825</td>\n",
       "      <td>1.060071</td>\n",
       "      <td>Edmonton Oilers</td>\n",
       "      <td>0.666667</td>\n",
       "      <td>3.0</td>\n",
       "    </tr>\n",
       "  </tbody>\n",
       "</table>\n",
       "<p>20 rows × 178 columns</p>\n",
       "</div>"
      ],
      "text/plain": [
       "           TEAM            PLAYER    POSITION  GP     TOI/GP          TOI  \\\n",
       "11406       fla      aaron ekblad     Defence  47  21.134397   993.316667   \n",
       "11473       tor   auston matthews      Center  67  21.082587  1412.533333   \n",
       "11487       bos     brad marchand   Left Wing  71  19.286150  1369.316667   \n",
       "11503       stl    brayden schenn      Center  70  17.629286  1234.050000   \n",
       "11549       ott     claude giroux  Right Wing  68  20.020833  1361.416667   \n",
       "11566       chi     connor bedard      Center  56  19.603274  1097.783333   \n",
       "11570       edm    connor mcdavid      Center  65  21.573333  1402.266667   \n",
       "11634  car, wsh  evgeny kuznetsov      Center  51  18.328758   934.766667   \n",
       "11713       dal   jason robertson   Left Wing  70  18.381429  1286.700000   \n",
       "11721       buf      jeff skinner   Left Wing  63  16.400000  1033.200000   \n",
       "11866       nyr        matt rempe      Center  11   5.604545    61.650000   \n",
       "11920       fla      nick cousins      Center  57  12.464035   710.450000   \n",
       "11935       t.b   nikita kucherov  Right Wing  68  21.726471  1477.400000   \n",
       "11947  cgy, vgk      noah hanifin     Defence  68  23.603431  1605.033333   \n",
       "12011       min      ryan hartman  Right Wing  65  16.401282  1066.083333   \n",
       "12021       tor       ryan reaves  Right Wing  39   7.994017   311.766667   \n",
       "12055       pit     sidney crosby      Center  68  19.981863  1358.766667   \n",
       "12076       wsh        tom wilson  Right Wing  66  18.056818  1191.750000   \n",
       "12077       s.j       tomas hertl      Center  48  20.900694  1003.233333   \n",
       "12143       edm        zach hyman   Left Wing  66  19.587121  1292.750000   \n",
       "\n",
       "         IPP  GOALS  TOTAL ASSISTS  FIRST ASSISTS  ...  P.BONUS   SEASON  \\\n",
       "11406  30.91      4             13              5  ...        0  2023-24   \n",
       "11473  71.20     57             32             20  ...        0  2023-24   \n",
       "11487  65.26     27             35             18  ...        0  2023-24   \n",
       "11503  53.97     15             19             14  ...        0  2023-24   \n",
       "11549  70.73     19             39             25  ...        0  2023-24   \n",
       "11566  81.82     21             33             24  ...  3500000  2023-24   \n",
       "11570  78.32     26             86             54  ...        0  2023-24   \n",
       "11634  61.11      8             14              9  ...        0  2023-24   \n",
       "11713  69.31     24             46             21  ...        0  2023-24   \n",
       "11721  65.22     24             21             12  ...        0  2023-24   \n",
       "11866  50.00      1              1              1  ...        0  2023-24   \n",
       "11920  62.50      5              5              2  ...        0  2023-24   \n",
       "11935  81.88     41             81             48  ...        0  2023-24   \n",
       "11947  41.49     11             28             15  ...        0  2023-24   \n",
       "12011  64.52     18             22             11  ...        0  2023-24   \n",
       "12021  57.14      3              1              1  ...        0  2023-24   \n",
       "12055  66.99     33             36             22  ...        0  2023-24   \n",
       "12076  62.75     17             15              5  ...        0  2023-24   \n",
       "12077  79.07     15             19             13  ...        0  2023-24   \n",
       "12143  50.00     48             19             10  ...        0  2023-24   \n",
       "\n",
       "       SALARY CAP  SALARY CAP PERCENTAGE  DECEASED  PRED_SALARY_PERCENTAGE  \\\n",
       "11406    83500000               0.089820         0                0.080131   \n",
       "11473    83500000               0.139404         0                0.136533   \n",
       "11487    83500000               0.073353         0                0.075274   \n",
       "11503    83500000               0.077844         0                0.072220   \n",
       "11549    83500000               0.077844         0                0.075431   \n",
       "11566    83500000               0.011377         0                0.032421   \n",
       "11570    83500000               0.149701         0                0.119931   \n",
       "11634    83500000               0.093413         0                0.086294   \n",
       "11713    83500000               0.092814         0                0.090520   \n",
       "11721    83500000               0.107784         0                0.092773   \n",
       "11866    83500000               0.009820         0                0.011884   \n",
       "11920    83500000               0.013174         0                0.028391   \n",
       "11935    83500000               0.113772         0                0.116577   \n",
       "11947    83500000               0.059281         0                0.060319   \n",
       "12011    83500000               0.020359         0                0.033733   \n",
       "12021    83500000               0.016168         0                0.014667   \n",
       "12055    83500000               0.104192         0                0.104149   \n",
       "12076    83500000               0.061876         0                0.056294   \n",
       "12077    83500000               0.097455         0                0.093148   \n",
       "12143    83500000               0.065868         0                0.069825   \n",
       "\n",
       "       PRED/ACTUAL                           TEAM_FULL_NAMES  SENTIMENT  COUNT  \n",
       "11406     0.892121                          Florida Panthers  -0.600000    2.0  \n",
       "11473     0.979402                       Toronto Maple Leafs   0.880000    5.0  \n",
       "11487     1.026183                             Boston Bruins   0.050000    2.0  \n",
       "11503     0.927749                           St. Louis Blues   0.400000    2.0  \n",
       "11549     0.969001                           Ottawa Senators  -0.100000    2.0  \n",
       "11566     2.849596                        Chicago Blackhawks  -0.266667    3.0  \n",
       "11570     0.801139                           Edmonton Oilers   1.000000    2.0  \n",
       "11634     0.923785  Carolina Hurricanes, Washington Capitals   0.500000    2.0  \n",
       "11713     0.975280                              Dallas Stars   0.100000    2.0  \n",
       "11721     0.860727                            Buffalo Sabres  -0.100000    2.0  \n",
       "11866     1.210127                          New York Rangers  -0.100000    5.0  \n",
       "11920     2.155138                          Florida Panthers  -0.775000    4.0  \n",
       "11935     1.024649                       Tampa Bay Lightning   0.275000    4.0  \n",
       "11947     1.017502      Calgary Flames, Vegas Golden Knights   0.000000    2.0  \n",
       "12011     1.656885                            Minnesota Wild  -0.200000    2.0  \n",
       "12021     0.907205                       Toronto Maple Leafs   0.050000    2.0  \n",
       "12055     0.999589                       Pittsburgh Penguins   0.392857   14.0  \n",
       "12076     0.909788                       Washington Capitals  -0.850000    2.0  \n",
       "12077     0.955807                           San Jose Sharks   0.000000    2.0  \n",
       "12143     1.060071                           Edmonton Oilers   0.666667    3.0  \n",
       "\n",
       "[20 rows x 178 columns]"
      ]
     },
     "execution_count": 35,
     "metadata": {},
     "output_type": "execute_result"
    }
   ],
   "source": [
    "final_df = pd.read_csv('../front_end_data.csv')\n",
    "\n",
    "merged_df = pd.merge(\n",
    "    final_df,\n",
    "    filtered_df,\n",
    "    left_on='PLAYER',\n",
    "    right_on='mentioned_players',\n",
    "    how='left'\n",
    ")\n",
    "merged_df.drop(columns=['mentioned_players'], inplace=True)\n",
    "merged_df.loc[merged_df['SEASON'] != '2023-24', 'SENTIMENT'] = np.nan\n",
    "\n",
    "merged_df[merged_df['SENTIMENT'].isnull()==False]\n",
    "# merged_df"
   ]
  },
  {
   "cell_type": "code",
   "execution_count": 36,
   "metadata": {},
   "outputs": [
    {
     "data": {
      "text/html": [
       "<div>\n",
       "<style scoped>\n",
       "    .dataframe tbody tr th:only-of-type {\n",
       "        vertical-align: middle;\n",
       "    }\n",
       "\n",
       "    .dataframe tbody tr th {\n",
       "        vertical-align: top;\n",
       "    }\n",
       "\n",
       "    .dataframe thead th {\n",
       "        text-align: right;\n",
       "    }\n",
       "</style>\n",
       "<table border=\"1\" class=\"dataframe\">\n",
       "  <thead>\n",
       "    <tr style=\"text-align: right;\">\n",
       "      <th></th>\n",
       "      <th>PLAYER</th>\n",
       "      <th>SEASON</th>\n",
       "      <th>AAV</th>\n",
       "      <th>PRED/ACTUAL</th>\n",
       "      <th>SENTIMENT</th>\n",
       "      <th>COUNT</th>\n",
       "      <th>PREDICTION</th>\n",
       "      <th>ACTUAL/PRED</th>\n",
       "    </tr>\n",
       "  </thead>\n",
       "  <tbody>\n",
       "    <tr>\n",
       "      <th>11570</th>\n",
       "      <td>connor mcdavid</td>\n",
       "      <td>2023-24</td>\n",
       "      <td>12500000</td>\n",
       "      <td>0.801139</td>\n",
       "      <td>1.000000</td>\n",
       "      <td>2.0</td>\n",
       "      <td>1.001424e+07</td>\n",
       "      <td>1.248223</td>\n",
       "    </tr>\n",
       "    <tr>\n",
       "      <th>11473</th>\n",
       "      <td>auston matthews</td>\n",
       "      <td>2023-24</td>\n",
       "      <td>11640250</td>\n",
       "      <td>0.979402</td>\n",
       "      <td>0.880000</td>\n",
       "      <td>5.0</td>\n",
       "      <td>1.140048e+07</td>\n",
       "      <td>1.021032</td>\n",
       "    </tr>\n",
       "    <tr>\n",
       "      <th>12143</th>\n",
       "      <td>zach hyman</td>\n",
       "      <td>2023-24</td>\n",
       "      <td>5500000</td>\n",
       "      <td>1.060071</td>\n",
       "      <td>0.666667</td>\n",
       "      <td>3.0</td>\n",
       "      <td>5.830388e+06</td>\n",
       "      <td>0.943333</td>\n",
       "    </tr>\n",
       "    <tr>\n",
       "      <th>11634</th>\n",
       "      <td>evgeny kuznetsov</td>\n",
       "      <td>2023-24</td>\n",
       "      <td>7800000</td>\n",
       "      <td>0.923785</td>\n",
       "      <td>0.500000</td>\n",
       "      <td>2.0</td>\n",
       "      <td>7.205521e+06</td>\n",
       "      <td>1.082503</td>\n",
       "    </tr>\n",
       "    <tr>\n",
       "      <th>11503</th>\n",
       "      <td>brayden schenn</td>\n",
       "      <td>2023-24</td>\n",
       "      <td>6500000</td>\n",
       "      <td>0.927749</td>\n",
       "      <td>0.400000</td>\n",
       "      <td>2.0</td>\n",
       "      <td>6.030369e+06</td>\n",
       "      <td>1.077878</td>\n",
       "    </tr>\n",
       "    <tr>\n",
       "      <th>12055</th>\n",
       "      <td>sidney crosby</td>\n",
       "      <td>2023-24</td>\n",
       "      <td>8700000</td>\n",
       "      <td>0.999589</td>\n",
       "      <td>0.392857</td>\n",
       "      <td>14.0</td>\n",
       "      <td>8.696421e+06</td>\n",
       "      <td>1.000412</td>\n",
       "    </tr>\n",
       "    <tr>\n",
       "      <th>11935</th>\n",
       "      <td>nikita kucherov</td>\n",
       "      <td>2023-24</td>\n",
       "      <td>9500000</td>\n",
       "      <td>1.024649</td>\n",
       "      <td>0.275000</td>\n",
       "      <td>4.0</td>\n",
       "      <td>9.734169e+06</td>\n",
       "      <td>0.975944</td>\n",
       "    </tr>\n",
       "    <tr>\n",
       "      <th>11713</th>\n",
       "      <td>jason robertson</td>\n",
       "      <td>2023-24</td>\n",
       "      <td>7750000</td>\n",
       "      <td>0.975280</td>\n",
       "      <td>0.100000</td>\n",
       "      <td>2.0</td>\n",
       "      <td>7.558423e+06</td>\n",
       "      <td>1.025346</td>\n",
       "    </tr>\n",
       "    <tr>\n",
       "      <th>12021</th>\n",
       "      <td>ryan reaves</td>\n",
       "      <td>2023-24</td>\n",
       "      <td>1350000</td>\n",
       "      <td>0.907205</td>\n",
       "      <td>0.050000</td>\n",
       "      <td>2.0</td>\n",
       "      <td>1.224727e+06</td>\n",
       "      <td>1.102286</td>\n",
       "    </tr>\n",
       "    <tr>\n",
       "      <th>11487</th>\n",
       "      <td>brad marchand</td>\n",
       "      <td>2023-24</td>\n",
       "      <td>6125000</td>\n",
       "      <td>1.026183</td>\n",
       "      <td>0.050000</td>\n",
       "      <td>2.0</td>\n",
       "      <td>6.285370e+06</td>\n",
       "      <td>0.974485</td>\n",
       "    </tr>\n",
       "    <tr>\n",
       "      <th>11947</th>\n",
       "      <td>noah hanifin</td>\n",
       "      <td>2023-24</td>\n",
       "      <td>4950000</td>\n",
       "      <td>1.017502</td>\n",
       "      <td>0.000000</td>\n",
       "      <td>2.0</td>\n",
       "      <td>5.036635e+06</td>\n",
       "      <td>0.982799</td>\n",
       "    </tr>\n",
       "    <tr>\n",
       "      <th>12077</th>\n",
       "      <td>tomas hertl</td>\n",
       "      <td>2023-24</td>\n",
       "      <td>8137500</td>\n",
       "      <td>0.955807</td>\n",
       "      <td>0.000000</td>\n",
       "      <td>2.0</td>\n",
       "      <td>7.777883e+06</td>\n",
       "      <td>1.046236</td>\n",
       "    </tr>\n",
       "    <tr>\n",
       "      <th>11549</th>\n",
       "      <td>claude giroux</td>\n",
       "      <td>2023-24</td>\n",
       "      <td>6500000</td>\n",
       "      <td>0.969001</td>\n",
       "      <td>-0.100000</td>\n",
       "      <td>2.0</td>\n",
       "      <td>6.298504e+06</td>\n",
       "      <td>1.031991</td>\n",
       "    </tr>\n",
       "    <tr>\n",
       "      <th>11866</th>\n",
       "      <td>matt rempe</td>\n",
       "      <td>2023-24</td>\n",
       "      <td>820000</td>\n",
       "      <td>1.210127</td>\n",
       "      <td>-0.100000</td>\n",
       "      <td>5.0</td>\n",
       "      <td>9.923041e+05</td>\n",
       "      <td>0.826360</td>\n",
       "    </tr>\n",
       "    <tr>\n",
       "      <th>11721</th>\n",
       "      <td>jeff skinner</td>\n",
       "      <td>2023-24</td>\n",
       "      <td>9000000</td>\n",
       "      <td>0.860727</td>\n",
       "      <td>-0.100000</td>\n",
       "      <td>2.0</td>\n",
       "      <td>7.746546e+06</td>\n",
       "      <td>1.161808</td>\n",
       "    </tr>\n",
       "    <tr>\n",
       "      <th>12011</th>\n",
       "      <td>ryan hartman</td>\n",
       "      <td>2023-24</td>\n",
       "      <td>1700000</td>\n",
       "      <td>1.656885</td>\n",
       "      <td>-0.200000</td>\n",
       "      <td>2.0</td>\n",
       "      <td>2.816705e+06</td>\n",
       "      <td>0.603542</td>\n",
       "    </tr>\n",
       "    <tr>\n",
       "      <th>11566</th>\n",
       "      <td>connor bedard</td>\n",
       "      <td>2023-24</td>\n",
       "      <td>4450000</td>\n",
       "      <td>2.849596</td>\n",
       "      <td>-0.266667</td>\n",
       "      <td>3.0</td>\n",
       "      <td>1.268070e+07</td>\n",
       "      <td>0.350927</td>\n",
       "    </tr>\n",
       "    <tr>\n",
       "      <th>11406</th>\n",
       "      <td>aaron ekblad</td>\n",
       "      <td>2023-24</td>\n",
       "      <td>7500000</td>\n",
       "      <td>0.892121</td>\n",
       "      <td>-0.600000</td>\n",
       "      <td>2.0</td>\n",
       "      <td>6.690905e+06</td>\n",
       "      <td>1.120925</td>\n",
       "    </tr>\n",
       "    <tr>\n",
       "      <th>11920</th>\n",
       "      <td>nick cousins</td>\n",
       "      <td>2023-24</td>\n",
       "      <td>1100000</td>\n",
       "      <td>2.155138</td>\n",
       "      <td>-0.775000</td>\n",
       "      <td>4.0</td>\n",
       "      <td>2.370651e+06</td>\n",
       "      <td>0.464007</td>\n",
       "    </tr>\n",
       "    <tr>\n",
       "      <th>12076</th>\n",
       "      <td>tom wilson</td>\n",
       "      <td>2023-24</td>\n",
       "      <td>5166667</td>\n",
       "      <td>0.909788</td>\n",
       "      <td>-0.850000</td>\n",
       "      <td>2.0</td>\n",
       "      <td>4.700574e+06</td>\n",
       "      <td>1.099157</td>\n",
       "    </tr>\n",
       "  </tbody>\n",
       "</table>\n",
       "</div>"
      ],
      "text/plain": [
       "                 PLAYER   SEASON       AAV  PRED/ACTUAL  SENTIMENT  COUNT  \\\n",
       "11570    connor mcdavid  2023-24  12500000     0.801139   1.000000    2.0   \n",
       "11473   auston matthews  2023-24  11640250     0.979402   0.880000    5.0   \n",
       "12143        zach hyman  2023-24   5500000     1.060071   0.666667    3.0   \n",
       "11634  evgeny kuznetsov  2023-24   7800000     0.923785   0.500000    2.0   \n",
       "11503    brayden schenn  2023-24   6500000     0.927749   0.400000    2.0   \n",
       "12055     sidney crosby  2023-24   8700000     0.999589   0.392857   14.0   \n",
       "11935   nikita kucherov  2023-24   9500000     1.024649   0.275000    4.0   \n",
       "11713   jason robertson  2023-24   7750000     0.975280   0.100000    2.0   \n",
       "12021       ryan reaves  2023-24   1350000     0.907205   0.050000    2.0   \n",
       "11487     brad marchand  2023-24   6125000     1.026183   0.050000    2.0   \n",
       "11947      noah hanifin  2023-24   4950000     1.017502   0.000000    2.0   \n",
       "12077       tomas hertl  2023-24   8137500     0.955807   0.000000    2.0   \n",
       "11549     claude giroux  2023-24   6500000     0.969001  -0.100000    2.0   \n",
       "11866        matt rempe  2023-24    820000     1.210127  -0.100000    5.0   \n",
       "11721      jeff skinner  2023-24   9000000     0.860727  -0.100000    2.0   \n",
       "12011      ryan hartman  2023-24   1700000     1.656885  -0.200000    2.0   \n",
       "11566     connor bedard  2023-24   4450000     2.849596  -0.266667    3.0   \n",
       "11406      aaron ekblad  2023-24   7500000     0.892121  -0.600000    2.0   \n",
       "11920      nick cousins  2023-24   1100000     2.155138  -0.775000    4.0   \n",
       "12076        tom wilson  2023-24   5166667     0.909788  -0.850000    2.0   \n",
       "\n",
       "         PREDICTION  ACTUAL/PRED  \n",
       "11570  1.001424e+07     1.248223  \n",
       "11473  1.140048e+07     1.021032  \n",
       "12143  5.830388e+06     0.943333  \n",
       "11634  7.205521e+06     1.082503  \n",
       "11503  6.030369e+06     1.077878  \n",
       "12055  8.696421e+06     1.000412  \n",
       "11935  9.734169e+06     0.975944  \n",
       "11713  7.558423e+06     1.025346  \n",
       "12021  1.224727e+06     1.102286  \n",
       "11487  6.285370e+06     0.974485  \n",
       "11947  5.036635e+06     0.982799  \n",
       "12077  7.777883e+06     1.046236  \n",
       "11549  6.298504e+06     1.031991  \n",
       "11866  9.923041e+05     0.826360  \n",
       "11721  7.746546e+06     1.161808  \n",
       "12011  2.816705e+06     0.603542  \n",
       "11566  1.268070e+07     0.350927  \n",
       "11406  6.690905e+06     1.120925  \n",
       "11920  2.370651e+06     0.464007  \n",
       "12076  4.700574e+06     1.099157  "
      ]
     },
     "execution_count": 36,
     "metadata": {},
     "output_type": "execute_result"
    }
   ],
   "source": [
    "final_df = merged_df[['PLAYER', 'SEASON', 'AAV', 'PRED/ACTUAL', 'SENTIMENT', 'COUNT']].copy()\n",
    "final_df.loc[:, 'PREDICTION'] = final_df['PRED/ACTUAL'] * final_df['AAV']\n",
    "final_df.loc[:, 'ACTUAL/PRED'] = final_df['AAV'] / final_df['PREDICTION']\n",
    "final_df = final_df.query('SEASON == \"2023-24\"')\n",
    "final_df = final_df.sort_values(by='SENTIMENT', ascending=False)\n",
    "final_df = final_df[final_df['SENTIMENT'].notna()]\n",
    "\n",
    "final_df\n",
    "\n",
    "# fig = px.scatter(\n",
    "#     final_df,\n",
    "#     y='SENTIMENT',\n",
    "#     x='PRED/ACTUAL',\n",
    "#     title='Scatter Plot of SENTIMENT vs. PRED/ACTUAL',\n",
    "#     hover_name='PLAYER'\n",
    "# )\n",
    "\n",
    "# fig.update_layout(\n",
    "#     yaxis_title='SENTIMENT',\n",
    "#     xaxis_title='PRED/ACTUAL'\n",
    "# )\n",
    "# fig.update_layout(width=600, height=600, showlegend=False)\n",
    "# fig.update_xaxes(range=[0, 3])\n",
    "# fig.show()"
   ]
  },
  {
   "cell_type": "code",
   "execution_count": 43,
   "metadata": {},
   "outputs": [
    {
     "data": {
      "application/vnd.plotly.v1+json": {
       "config": {
        "plotlyServerURL": "https://plot.ly"
       },
       "data": [
        {
         "hovertemplate": "<b>%{hovertext}</b><br><br>AAV=%{x}<br>SENTIMENT=%{y}<extra></extra>",
         "hovertext": [
          "connor mcdavid",
          "auston matthews",
          "zach hyman",
          "evgeny kuznetsov",
          "brayden schenn",
          "sidney crosby",
          "nikita kucherov",
          "jason robertson",
          "ryan reaves",
          "brad marchand",
          "noah hanifin",
          "tomas hertl",
          "claude giroux",
          "matt rempe",
          "jeff skinner",
          "ryan hartman",
          "connor bedard",
          "aaron ekblad",
          "nick cousins",
          "tom wilson"
         ],
         "legendgroup": "",
         "marker": {
          "color": "#636efa",
          "symbol": "circle"
         },
         "mode": "markers",
         "name": "",
         "orientation": "v",
         "showlegend": false,
         "type": "scatter",
         "x": [
          12500000,
          11640250,
          5500000,
          7800000,
          6500000,
          8700000,
          9500000,
          7750000,
          1350000,
          6125000,
          4950000,
          8137500,
          6500000,
          820000,
          9000000,
          1700000,
          4450000,
          7500000,
          1100000,
          5166667
         ],
         "xaxis": "x",
         "y": [
          1,
          0.8800000000000001,
          0.6666666666666666,
          0.5,
          0.4,
          0.39285714285714285,
          0.275,
          0.1,
          0.05,
          0.04999999999999999,
          0,
          0,
          -0.09999999999999998,
          -0.09999999999999999,
          -0.1,
          -0.19999999999999998,
          -0.26666666666666666,
          -0.6,
          -0.775,
          -0.85
         ],
         "yaxis": "y"
        },
        {
         "hovertemplate": "<b>OLS trendline</b><br>SENTIMENT = 8.98099e-08 * AAV + -0.502755<br>R<sup>2</sup>=0.366341<br><br>AAV=%{x}<br>SENTIMENT=%{y} <b>(trend)</b><extra></extra>",
         "legendgroup": "",
         "marker": {
          "color": "#636efa",
          "symbol": "circle"
         },
         "mode": "lines",
         "name": "",
         "showlegend": false,
         "type": "scatter",
         "x": [
          820000,
          1100000,
          1350000,
          1700000,
          4450000,
          4950000,
          5166667,
          5500000,
          6125000,
          6500000,
          6500000,
          7500000,
          7750000,
          7800000,
          8137500,
          8700000,
          9000000,
          9500000,
          11640250,
          12500000
         ],
         "xaxis": "x",
         "y": [
          -0.4291110635152649,
          -0.4039642993820799,
          -0.3815118314060219,
          -0.35007837623954063,
          -0.1031012285029023,
          -0.058196292550786254,
          -0.03873745703491199,
          -0.008800863003458585,
          0.04733030693668649,
          0.08100900890077353,
          0.08100900890077353,
          0.17081888080500565,
          0.1932713487810637,
          0.19776184237627528,
          0.22807267414395363,
          0.2785907270900842,
          0.30553368866135383,
          0.3504386246134699,
          0.5426542029565027,
          0.6198682403261663
         ],
         "yaxis": "y"
        }
       ],
       "layout": {
        "height": 600,
        "legend": {
         "tracegroupgap": 0
        },
        "showlegend": false,
        "template": {
         "data": {
          "bar": [
           {
            "error_x": {
             "color": "#2a3f5f"
            },
            "error_y": {
             "color": "#2a3f5f"
            },
            "marker": {
             "line": {
              "color": "#E5ECF6",
              "width": 0.5
             },
             "pattern": {
              "fillmode": "overlay",
              "size": 10,
              "solidity": 0.2
             }
            },
            "type": "bar"
           }
          ],
          "barpolar": [
           {
            "marker": {
             "line": {
              "color": "#E5ECF6",
              "width": 0.5
             },
             "pattern": {
              "fillmode": "overlay",
              "size": 10,
              "solidity": 0.2
             }
            },
            "type": "barpolar"
           }
          ],
          "carpet": [
           {
            "aaxis": {
             "endlinecolor": "#2a3f5f",
             "gridcolor": "white",
             "linecolor": "white",
             "minorgridcolor": "white",
             "startlinecolor": "#2a3f5f"
            },
            "baxis": {
             "endlinecolor": "#2a3f5f",
             "gridcolor": "white",
             "linecolor": "white",
             "minorgridcolor": "white",
             "startlinecolor": "#2a3f5f"
            },
            "type": "carpet"
           }
          ],
          "choropleth": [
           {
            "colorbar": {
             "outlinewidth": 0,
             "ticks": ""
            },
            "type": "choropleth"
           }
          ],
          "contour": [
           {
            "colorbar": {
             "outlinewidth": 0,
             "ticks": ""
            },
            "colorscale": [
             [
              0,
              "#0d0887"
             ],
             [
              0.1111111111111111,
              "#46039f"
             ],
             [
              0.2222222222222222,
              "#7201a8"
             ],
             [
              0.3333333333333333,
              "#9c179e"
             ],
             [
              0.4444444444444444,
              "#bd3786"
             ],
             [
              0.5555555555555556,
              "#d8576b"
             ],
             [
              0.6666666666666666,
              "#ed7953"
             ],
             [
              0.7777777777777778,
              "#fb9f3a"
             ],
             [
              0.8888888888888888,
              "#fdca26"
             ],
             [
              1,
              "#f0f921"
             ]
            ],
            "type": "contour"
           }
          ],
          "contourcarpet": [
           {
            "colorbar": {
             "outlinewidth": 0,
             "ticks": ""
            },
            "type": "contourcarpet"
           }
          ],
          "heatmap": [
           {
            "colorbar": {
             "outlinewidth": 0,
             "ticks": ""
            },
            "colorscale": [
             [
              0,
              "#0d0887"
             ],
             [
              0.1111111111111111,
              "#46039f"
             ],
             [
              0.2222222222222222,
              "#7201a8"
             ],
             [
              0.3333333333333333,
              "#9c179e"
             ],
             [
              0.4444444444444444,
              "#bd3786"
             ],
             [
              0.5555555555555556,
              "#d8576b"
             ],
             [
              0.6666666666666666,
              "#ed7953"
             ],
             [
              0.7777777777777778,
              "#fb9f3a"
             ],
             [
              0.8888888888888888,
              "#fdca26"
             ],
             [
              1,
              "#f0f921"
             ]
            ],
            "type": "heatmap"
           }
          ],
          "heatmapgl": [
           {
            "colorbar": {
             "outlinewidth": 0,
             "ticks": ""
            },
            "colorscale": [
             [
              0,
              "#0d0887"
             ],
             [
              0.1111111111111111,
              "#46039f"
             ],
             [
              0.2222222222222222,
              "#7201a8"
             ],
             [
              0.3333333333333333,
              "#9c179e"
             ],
             [
              0.4444444444444444,
              "#bd3786"
             ],
             [
              0.5555555555555556,
              "#d8576b"
             ],
             [
              0.6666666666666666,
              "#ed7953"
             ],
             [
              0.7777777777777778,
              "#fb9f3a"
             ],
             [
              0.8888888888888888,
              "#fdca26"
             ],
             [
              1,
              "#f0f921"
             ]
            ],
            "type": "heatmapgl"
           }
          ],
          "histogram": [
           {
            "marker": {
             "pattern": {
              "fillmode": "overlay",
              "size": 10,
              "solidity": 0.2
             }
            },
            "type": "histogram"
           }
          ],
          "histogram2d": [
           {
            "colorbar": {
             "outlinewidth": 0,
             "ticks": ""
            },
            "colorscale": [
             [
              0,
              "#0d0887"
             ],
             [
              0.1111111111111111,
              "#46039f"
             ],
             [
              0.2222222222222222,
              "#7201a8"
             ],
             [
              0.3333333333333333,
              "#9c179e"
             ],
             [
              0.4444444444444444,
              "#bd3786"
             ],
             [
              0.5555555555555556,
              "#d8576b"
             ],
             [
              0.6666666666666666,
              "#ed7953"
             ],
             [
              0.7777777777777778,
              "#fb9f3a"
             ],
             [
              0.8888888888888888,
              "#fdca26"
             ],
             [
              1,
              "#f0f921"
             ]
            ],
            "type": "histogram2d"
           }
          ],
          "histogram2dcontour": [
           {
            "colorbar": {
             "outlinewidth": 0,
             "ticks": ""
            },
            "colorscale": [
             [
              0,
              "#0d0887"
             ],
             [
              0.1111111111111111,
              "#46039f"
             ],
             [
              0.2222222222222222,
              "#7201a8"
             ],
             [
              0.3333333333333333,
              "#9c179e"
             ],
             [
              0.4444444444444444,
              "#bd3786"
             ],
             [
              0.5555555555555556,
              "#d8576b"
             ],
             [
              0.6666666666666666,
              "#ed7953"
             ],
             [
              0.7777777777777778,
              "#fb9f3a"
             ],
             [
              0.8888888888888888,
              "#fdca26"
             ],
             [
              1,
              "#f0f921"
             ]
            ],
            "type": "histogram2dcontour"
           }
          ],
          "mesh3d": [
           {
            "colorbar": {
             "outlinewidth": 0,
             "ticks": ""
            },
            "type": "mesh3d"
           }
          ],
          "parcoords": [
           {
            "line": {
             "colorbar": {
              "outlinewidth": 0,
              "ticks": ""
             }
            },
            "type": "parcoords"
           }
          ],
          "pie": [
           {
            "automargin": true,
            "type": "pie"
           }
          ],
          "scatter": [
           {
            "fillpattern": {
             "fillmode": "overlay",
             "size": 10,
             "solidity": 0.2
            },
            "type": "scatter"
           }
          ],
          "scatter3d": [
           {
            "line": {
             "colorbar": {
              "outlinewidth": 0,
              "ticks": ""
             }
            },
            "marker": {
             "colorbar": {
              "outlinewidth": 0,
              "ticks": ""
             }
            },
            "type": "scatter3d"
           }
          ],
          "scattercarpet": [
           {
            "marker": {
             "colorbar": {
              "outlinewidth": 0,
              "ticks": ""
             }
            },
            "type": "scattercarpet"
           }
          ],
          "scattergeo": [
           {
            "marker": {
             "colorbar": {
              "outlinewidth": 0,
              "ticks": ""
             }
            },
            "type": "scattergeo"
           }
          ],
          "scattergl": [
           {
            "marker": {
             "colorbar": {
              "outlinewidth": 0,
              "ticks": ""
             }
            },
            "type": "scattergl"
           }
          ],
          "scattermapbox": [
           {
            "marker": {
             "colorbar": {
              "outlinewidth": 0,
              "ticks": ""
             }
            },
            "type": "scattermapbox"
           }
          ],
          "scatterpolar": [
           {
            "marker": {
             "colorbar": {
              "outlinewidth": 0,
              "ticks": ""
             }
            },
            "type": "scatterpolar"
           }
          ],
          "scatterpolargl": [
           {
            "marker": {
             "colorbar": {
              "outlinewidth": 0,
              "ticks": ""
             }
            },
            "type": "scatterpolargl"
           }
          ],
          "scatterternary": [
           {
            "marker": {
             "colorbar": {
              "outlinewidth": 0,
              "ticks": ""
             }
            },
            "type": "scatterternary"
           }
          ],
          "surface": [
           {
            "colorbar": {
             "outlinewidth": 0,
             "ticks": ""
            },
            "colorscale": [
             [
              0,
              "#0d0887"
             ],
             [
              0.1111111111111111,
              "#46039f"
             ],
             [
              0.2222222222222222,
              "#7201a8"
             ],
             [
              0.3333333333333333,
              "#9c179e"
             ],
             [
              0.4444444444444444,
              "#bd3786"
             ],
             [
              0.5555555555555556,
              "#d8576b"
             ],
             [
              0.6666666666666666,
              "#ed7953"
             ],
             [
              0.7777777777777778,
              "#fb9f3a"
             ],
             [
              0.8888888888888888,
              "#fdca26"
             ],
             [
              1,
              "#f0f921"
             ]
            ],
            "type": "surface"
           }
          ],
          "table": [
           {
            "cells": {
             "fill": {
              "color": "#EBF0F8"
             },
             "line": {
              "color": "white"
             }
            },
            "header": {
             "fill": {
              "color": "#C8D4E3"
             },
             "line": {
              "color": "white"
             }
            },
            "type": "table"
           }
          ]
         },
         "layout": {
          "annotationdefaults": {
           "arrowcolor": "#2a3f5f",
           "arrowhead": 0,
           "arrowwidth": 1
          },
          "autotypenumbers": "strict",
          "coloraxis": {
           "colorbar": {
            "outlinewidth": 0,
            "ticks": ""
           }
          },
          "colorscale": {
           "diverging": [
            [
             0,
             "#8e0152"
            ],
            [
             0.1,
             "#c51b7d"
            ],
            [
             0.2,
             "#de77ae"
            ],
            [
             0.3,
             "#f1b6da"
            ],
            [
             0.4,
             "#fde0ef"
            ],
            [
             0.5,
             "#f7f7f7"
            ],
            [
             0.6,
             "#e6f5d0"
            ],
            [
             0.7,
             "#b8e186"
            ],
            [
             0.8,
             "#7fbc41"
            ],
            [
             0.9,
             "#4d9221"
            ],
            [
             1,
             "#276419"
            ]
           ],
           "sequential": [
            [
             0,
             "#0d0887"
            ],
            [
             0.1111111111111111,
             "#46039f"
            ],
            [
             0.2222222222222222,
             "#7201a8"
            ],
            [
             0.3333333333333333,
             "#9c179e"
            ],
            [
             0.4444444444444444,
             "#bd3786"
            ],
            [
             0.5555555555555556,
             "#d8576b"
            ],
            [
             0.6666666666666666,
             "#ed7953"
            ],
            [
             0.7777777777777778,
             "#fb9f3a"
            ],
            [
             0.8888888888888888,
             "#fdca26"
            ],
            [
             1,
             "#f0f921"
            ]
           ],
           "sequentialminus": [
            [
             0,
             "#0d0887"
            ],
            [
             0.1111111111111111,
             "#46039f"
            ],
            [
             0.2222222222222222,
             "#7201a8"
            ],
            [
             0.3333333333333333,
             "#9c179e"
            ],
            [
             0.4444444444444444,
             "#bd3786"
            ],
            [
             0.5555555555555556,
             "#d8576b"
            ],
            [
             0.6666666666666666,
             "#ed7953"
            ],
            [
             0.7777777777777778,
             "#fb9f3a"
            ],
            [
             0.8888888888888888,
             "#fdca26"
            ],
            [
             1,
             "#f0f921"
            ]
           ]
          },
          "colorway": [
           "#636efa",
           "#EF553B",
           "#00cc96",
           "#ab63fa",
           "#FFA15A",
           "#19d3f3",
           "#FF6692",
           "#B6E880",
           "#FF97FF",
           "#FECB52"
          ],
          "font": {
           "color": "#2a3f5f"
          },
          "geo": {
           "bgcolor": "white",
           "lakecolor": "white",
           "landcolor": "#E5ECF6",
           "showlakes": true,
           "showland": true,
           "subunitcolor": "white"
          },
          "hoverlabel": {
           "align": "left"
          },
          "hovermode": "closest",
          "mapbox": {
           "style": "light"
          },
          "paper_bgcolor": "white",
          "plot_bgcolor": "#E5ECF6",
          "polar": {
           "angularaxis": {
            "gridcolor": "white",
            "linecolor": "white",
            "ticks": ""
           },
           "bgcolor": "#E5ECF6",
           "radialaxis": {
            "gridcolor": "white",
            "linecolor": "white",
            "ticks": ""
           }
          },
          "scene": {
           "xaxis": {
            "backgroundcolor": "#E5ECF6",
            "gridcolor": "white",
            "gridwidth": 2,
            "linecolor": "white",
            "showbackground": true,
            "ticks": "",
            "zerolinecolor": "white"
           },
           "yaxis": {
            "backgroundcolor": "#E5ECF6",
            "gridcolor": "white",
            "gridwidth": 2,
            "linecolor": "white",
            "showbackground": true,
            "ticks": "",
            "zerolinecolor": "white"
           },
           "zaxis": {
            "backgroundcolor": "#E5ECF6",
            "gridcolor": "white",
            "gridwidth": 2,
            "linecolor": "white",
            "showbackground": true,
            "ticks": "",
            "zerolinecolor": "white"
           }
          },
          "shapedefaults": {
           "line": {
            "color": "#2a3f5f"
           }
          },
          "ternary": {
           "aaxis": {
            "gridcolor": "white",
            "linecolor": "white",
            "ticks": ""
           },
           "baxis": {
            "gridcolor": "white",
            "linecolor": "white",
            "ticks": ""
           },
           "bgcolor": "#E5ECF6",
           "caxis": {
            "gridcolor": "white",
            "linecolor": "white",
            "ticks": ""
           }
          },
          "title": {
           "x": 0.05
          },
          "xaxis": {
           "automargin": true,
           "gridcolor": "white",
           "linecolor": "white",
           "ticks": "",
           "title": {
            "standoff": 15
           },
           "zerolinecolor": "white",
           "zerolinewidth": 2
          },
          "yaxis": {
           "automargin": true,
           "gridcolor": "white",
           "linecolor": "white",
           "ticks": "",
           "title": {
            "standoff": 15
           },
           "zerolinecolor": "white",
           "zerolinewidth": 2
          }
         }
        },
        "title": {
         "text": "Scatter Plot of SENTIMENT vs. ACTUAL SALARY"
        },
        "width": 580,
        "xaxis": {
         "anchor": "y",
         "domain": [
          0,
          1
         ],
         "title": {
          "text": "SALARY"
         }
        },
        "yaxis": {
         "anchor": "x",
         "domain": [
          0,
          1
         ],
         "range": [
          -1.1,
          1.1
         ],
         "title": {
          "text": "SENTIMENT"
         }
        }
       }
      }
     },
     "metadata": {},
     "output_type": "display_data"
    },
    {
     "name": "stdout",
     "output_type": "stream",
     "text": [
      "Pearson correlation coefficient (Sentiment & Salary): 0.6052613072041721\n"
     ]
    }
   ],
   "source": [
    "fig = px.scatter(\n",
    "    final_df,\n",
    "    y='SENTIMENT',\n",
    "    x='AAV',\n",
    "    title='Scatter Plot of SENTIMENT vs. ACTUAL SALARY',\n",
    "    hover_name='PLAYER',\n",
    "    # size='COUNT',\n",
    "    trendline='ols',\n",
    ")\n",
    "\n",
    "fig.update_layout(\n",
    "    yaxis_title='SENTIMENT',\n",
    "    xaxis_title='SALARY',\n",
    "    width=580,\n",
    "    height=600,\n",
    "    showlegend=False\n",
    ")\n",
    "\n",
    "# fig.update_xaxes(range=[0.75, 1.25])\n",
    "fig.update_yaxes(range=[-1.1, 1.1])\n",
    "fig.show()\n",
    "\n",
    "correlation = final_df['SENTIMENT'].corr(final_df['AAV'])\n",
    "print(f\"Pearson correlation coefficient (Sentiment & Salary): {correlation}\")"
   ]
  },
  {
   "cell_type": "code",
   "execution_count": 18,
   "metadata": {},
   "outputs": [
    {
     "data": {
      "application/vnd.plotly.v1+json": {
       "config": {
        "plotlyServerURL": "https://plot.ly"
       },
       "data": [
        {
         "hovertemplate": "<b>%{hovertext}</b><br><br>PREDICTION=%{x}<br>SENTIMENT=%{y}<extra></extra>",
         "hovertext": [
          "auston matthews",
          "zach hyman",
          "sidney crosby",
          "nikita kucherov",
          "matt rempe",
          "connor bedard",
          "nick cousins"
         ],
         "legendgroup": "",
         "marker": {
          "color": "#636efa",
          "symbol": "circle"
         },
         "mode": "markers",
         "name": "",
         "orientation": "v",
         "showlegend": false,
         "type": "scatter",
         "x": [
          11400478.780000005,
          5830388.335000001,
          8696420.625000006,
          9734168.645000003,
          992304.0635000027,
          12680700.911842145,
          2370651.422500014
         ],
         "xaxis": "x",
         "y": [
          0.8800000000000001,
          0.6666666666666666,
          0.39285714285714285,
          0.275,
          -0.09999999999999999,
          -0.26666666666666666,
          -0.775
         ],
         "yaxis": "y"
        }
       ],
       "layout": {
        "height": 600,
        "legend": {
         "tracegroupgap": 0
        },
        "showlegend": false,
        "template": {
         "data": {
          "bar": [
           {
            "error_x": {
             "color": "#2a3f5f"
            },
            "error_y": {
             "color": "#2a3f5f"
            },
            "marker": {
             "line": {
              "color": "#E5ECF6",
              "width": 0.5
             },
             "pattern": {
              "fillmode": "overlay",
              "size": 10,
              "solidity": 0.2
             }
            },
            "type": "bar"
           }
          ],
          "barpolar": [
           {
            "marker": {
             "line": {
              "color": "#E5ECF6",
              "width": 0.5
             },
             "pattern": {
              "fillmode": "overlay",
              "size": 10,
              "solidity": 0.2
             }
            },
            "type": "barpolar"
           }
          ],
          "carpet": [
           {
            "aaxis": {
             "endlinecolor": "#2a3f5f",
             "gridcolor": "white",
             "linecolor": "white",
             "minorgridcolor": "white",
             "startlinecolor": "#2a3f5f"
            },
            "baxis": {
             "endlinecolor": "#2a3f5f",
             "gridcolor": "white",
             "linecolor": "white",
             "minorgridcolor": "white",
             "startlinecolor": "#2a3f5f"
            },
            "type": "carpet"
           }
          ],
          "choropleth": [
           {
            "colorbar": {
             "outlinewidth": 0,
             "ticks": ""
            },
            "type": "choropleth"
           }
          ],
          "contour": [
           {
            "colorbar": {
             "outlinewidth": 0,
             "ticks": ""
            },
            "colorscale": [
             [
              0,
              "#0d0887"
             ],
             [
              0.1111111111111111,
              "#46039f"
             ],
             [
              0.2222222222222222,
              "#7201a8"
             ],
             [
              0.3333333333333333,
              "#9c179e"
             ],
             [
              0.4444444444444444,
              "#bd3786"
             ],
             [
              0.5555555555555556,
              "#d8576b"
             ],
             [
              0.6666666666666666,
              "#ed7953"
             ],
             [
              0.7777777777777778,
              "#fb9f3a"
             ],
             [
              0.8888888888888888,
              "#fdca26"
             ],
             [
              1,
              "#f0f921"
             ]
            ],
            "type": "contour"
           }
          ],
          "contourcarpet": [
           {
            "colorbar": {
             "outlinewidth": 0,
             "ticks": ""
            },
            "type": "contourcarpet"
           }
          ],
          "heatmap": [
           {
            "colorbar": {
             "outlinewidth": 0,
             "ticks": ""
            },
            "colorscale": [
             [
              0,
              "#0d0887"
             ],
             [
              0.1111111111111111,
              "#46039f"
             ],
             [
              0.2222222222222222,
              "#7201a8"
             ],
             [
              0.3333333333333333,
              "#9c179e"
             ],
             [
              0.4444444444444444,
              "#bd3786"
             ],
             [
              0.5555555555555556,
              "#d8576b"
             ],
             [
              0.6666666666666666,
              "#ed7953"
             ],
             [
              0.7777777777777778,
              "#fb9f3a"
             ],
             [
              0.8888888888888888,
              "#fdca26"
             ],
             [
              1,
              "#f0f921"
             ]
            ],
            "type": "heatmap"
           }
          ],
          "heatmapgl": [
           {
            "colorbar": {
             "outlinewidth": 0,
             "ticks": ""
            },
            "colorscale": [
             [
              0,
              "#0d0887"
             ],
             [
              0.1111111111111111,
              "#46039f"
             ],
             [
              0.2222222222222222,
              "#7201a8"
             ],
             [
              0.3333333333333333,
              "#9c179e"
             ],
             [
              0.4444444444444444,
              "#bd3786"
             ],
             [
              0.5555555555555556,
              "#d8576b"
             ],
             [
              0.6666666666666666,
              "#ed7953"
             ],
             [
              0.7777777777777778,
              "#fb9f3a"
             ],
             [
              0.8888888888888888,
              "#fdca26"
             ],
             [
              1,
              "#f0f921"
             ]
            ],
            "type": "heatmapgl"
           }
          ],
          "histogram": [
           {
            "marker": {
             "pattern": {
              "fillmode": "overlay",
              "size": 10,
              "solidity": 0.2
             }
            },
            "type": "histogram"
           }
          ],
          "histogram2d": [
           {
            "colorbar": {
             "outlinewidth": 0,
             "ticks": ""
            },
            "colorscale": [
             [
              0,
              "#0d0887"
             ],
             [
              0.1111111111111111,
              "#46039f"
             ],
             [
              0.2222222222222222,
              "#7201a8"
             ],
             [
              0.3333333333333333,
              "#9c179e"
             ],
             [
              0.4444444444444444,
              "#bd3786"
             ],
             [
              0.5555555555555556,
              "#d8576b"
             ],
             [
              0.6666666666666666,
              "#ed7953"
             ],
             [
              0.7777777777777778,
              "#fb9f3a"
             ],
             [
              0.8888888888888888,
              "#fdca26"
             ],
             [
              1,
              "#f0f921"
             ]
            ],
            "type": "histogram2d"
           }
          ],
          "histogram2dcontour": [
           {
            "colorbar": {
             "outlinewidth": 0,
             "ticks": ""
            },
            "colorscale": [
             [
              0,
              "#0d0887"
             ],
             [
              0.1111111111111111,
              "#46039f"
             ],
             [
              0.2222222222222222,
              "#7201a8"
             ],
             [
              0.3333333333333333,
              "#9c179e"
             ],
             [
              0.4444444444444444,
              "#bd3786"
             ],
             [
              0.5555555555555556,
              "#d8576b"
             ],
             [
              0.6666666666666666,
              "#ed7953"
             ],
             [
              0.7777777777777778,
              "#fb9f3a"
             ],
             [
              0.8888888888888888,
              "#fdca26"
             ],
             [
              1,
              "#f0f921"
             ]
            ],
            "type": "histogram2dcontour"
           }
          ],
          "mesh3d": [
           {
            "colorbar": {
             "outlinewidth": 0,
             "ticks": ""
            },
            "type": "mesh3d"
           }
          ],
          "parcoords": [
           {
            "line": {
             "colorbar": {
              "outlinewidth": 0,
              "ticks": ""
             }
            },
            "type": "parcoords"
           }
          ],
          "pie": [
           {
            "automargin": true,
            "type": "pie"
           }
          ],
          "scatter": [
           {
            "fillpattern": {
             "fillmode": "overlay",
             "size": 10,
             "solidity": 0.2
            },
            "type": "scatter"
           }
          ],
          "scatter3d": [
           {
            "line": {
             "colorbar": {
              "outlinewidth": 0,
              "ticks": ""
             }
            },
            "marker": {
             "colorbar": {
              "outlinewidth": 0,
              "ticks": ""
             }
            },
            "type": "scatter3d"
           }
          ],
          "scattercarpet": [
           {
            "marker": {
             "colorbar": {
              "outlinewidth": 0,
              "ticks": ""
             }
            },
            "type": "scattercarpet"
           }
          ],
          "scattergeo": [
           {
            "marker": {
             "colorbar": {
              "outlinewidth": 0,
              "ticks": ""
             }
            },
            "type": "scattergeo"
           }
          ],
          "scattergl": [
           {
            "marker": {
             "colorbar": {
              "outlinewidth": 0,
              "ticks": ""
             }
            },
            "type": "scattergl"
           }
          ],
          "scattermapbox": [
           {
            "marker": {
             "colorbar": {
              "outlinewidth": 0,
              "ticks": ""
             }
            },
            "type": "scattermapbox"
           }
          ],
          "scatterpolar": [
           {
            "marker": {
             "colorbar": {
              "outlinewidth": 0,
              "ticks": ""
             }
            },
            "type": "scatterpolar"
           }
          ],
          "scatterpolargl": [
           {
            "marker": {
             "colorbar": {
              "outlinewidth": 0,
              "ticks": ""
             }
            },
            "type": "scatterpolargl"
           }
          ],
          "scatterternary": [
           {
            "marker": {
             "colorbar": {
              "outlinewidth": 0,
              "ticks": ""
             }
            },
            "type": "scatterternary"
           }
          ],
          "surface": [
           {
            "colorbar": {
             "outlinewidth": 0,
             "ticks": ""
            },
            "colorscale": [
             [
              0,
              "#0d0887"
             ],
             [
              0.1111111111111111,
              "#46039f"
             ],
             [
              0.2222222222222222,
              "#7201a8"
             ],
             [
              0.3333333333333333,
              "#9c179e"
             ],
             [
              0.4444444444444444,
              "#bd3786"
             ],
             [
              0.5555555555555556,
              "#d8576b"
             ],
             [
              0.6666666666666666,
              "#ed7953"
             ],
             [
              0.7777777777777778,
              "#fb9f3a"
             ],
             [
              0.8888888888888888,
              "#fdca26"
             ],
             [
              1,
              "#f0f921"
             ]
            ],
            "type": "surface"
           }
          ],
          "table": [
           {
            "cells": {
             "fill": {
              "color": "#EBF0F8"
             },
             "line": {
              "color": "white"
             }
            },
            "header": {
             "fill": {
              "color": "#C8D4E3"
             },
             "line": {
              "color": "white"
             }
            },
            "type": "table"
           }
          ]
         },
         "layout": {
          "annotationdefaults": {
           "arrowcolor": "#2a3f5f",
           "arrowhead": 0,
           "arrowwidth": 1
          },
          "autotypenumbers": "strict",
          "coloraxis": {
           "colorbar": {
            "outlinewidth": 0,
            "ticks": ""
           }
          },
          "colorscale": {
           "diverging": [
            [
             0,
             "#8e0152"
            ],
            [
             0.1,
             "#c51b7d"
            ],
            [
             0.2,
             "#de77ae"
            ],
            [
             0.3,
             "#f1b6da"
            ],
            [
             0.4,
             "#fde0ef"
            ],
            [
             0.5,
             "#f7f7f7"
            ],
            [
             0.6,
             "#e6f5d0"
            ],
            [
             0.7,
             "#b8e186"
            ],
            [
             0.8,
             "#7fbc41"
            ],
            [
             0.9,
             "#4d9221"
            ],
            [
             1,
             "#276419"
            ]
           ],
           "sequential": [
            [
             0,
             "#0d0887"
            ],
            [
             0.1111111111111111,
             "#46039f"
            ],
            [
             0.2222222222222222,
             "#7201a8"
            ],
            [
             0.3333333333333333,
             "#9c179e"
            ],
            [
             0.4444444444444444,
             "#bd3786"
            ],
            [
             0.5555555555555556,
             "#d8576b"
            ],
            [
             0.6666666666666666,
             "#ed7953"
            ],
            [
             0.7777777777777778,
             "#fb9f3a"
            ],
            [
             0.8888888888888888,
             "#fdca26"
            ],
            [
             1,
             "#f0f921"
            ]
           ],
           "sequentialminus": [
            [
             0,
             "#0d0887"
            ],
            [
             0.1111111111111111,
             "#46039f"
            ],
            [
             0.2222222222222222,
             "#7201a8"
            ],
            [
             0.3333333333333333,
             "#9c179e"
            ],
            [
             0.4444444444444444,
             "#bd3786"
            ],
            [
             0.5555555555555556,
             "#d8576b"
            ],
            [
             0.6666666666666666,
             "#ed7953"
            ],
            [
             0.7777777777777778,
             "#fb9f3a"
            ],
            [
             0.8888888888888888,
             "#fdca26"
            ],
            [
             1,
             "#f0f921"
            ]
           ]
          },
          "colorway": [
           "#636efa",
           "#EF553B",
           "#00cc96",
           "#ab63fa",
           "#FFA15A",
           "#19d3f3",
           "#FF6692",
           "#B6E880",
           "#FF97FF",
           "#FECB52"
          ],
          "font": {
           "color": "#2a3f5f"
          },
          "geo": {
           "bgcolor": "white",
           "lakecolor": "white",
           "landcolor": "#E5ECF6",
           "showlakes": true,
           "showland": true,
           "subunitcolor": "white"
          },
          "hoverlabel": {
           "align": "left"
          },
          "hovermode": "closest",
          "mapbox": {
           "style": "light"
          },
          "paper_bgcolor": "white",
          "plot_bgcolor": "#E5ECF6",
          "polar": {
           "angularaxis": {
            "gridcolor": "white",
            "linecolor": "white",
            "ticks": ""
           },
           "bgcolor": "#E5ECF6",
           "radialaxis": {
            "gridcolor": "white",
            "linecolor": "white",
            "ticks": ""
           }
          },
          "scene": {
           "xaxis": {
            "backgroundcolor": "#E5ECF6",
            "gridcolor": "white",
            "gridwidth": 2,
            "linecolor": "white",
            "showbackground": true,
            "ticks": "",
            "zerolinecolor": "white"
           },
           "yaxis": {
            "backgroundcolor": "#E5ECF6",
            "gridcolor": "white",
            "gridwidth": 2,
            "linecolor": "white",
            "showbackground": true,
            "ticks": "",
            "zerolinecolor": "white"
           },
           "zaxis": {
            "backgroundcolor": "#E5ECF6",
            "gridcolor": "white",
            "gridwidth": 2,
            "linecolor": "white",
            "showbackground": true,
            "ticks": "",
            "zerolinecolor": "white"
           }
          },
          "shapedefaults": {
           "line": {
            "color": "#2a3f5f"
           }
          },
          "ternary": {
           "aaxis": {
            "gridcolor": "white",
            "linecolor": "white",
            "ticks": ""
           },
           "baxis": {
            "gridcolor": "white",
            "linecolor": "white",
            "ticks": ""
           },
           "bgcolor": "#E5ECF6",
           "caxis": {
            "gridcolor": "white",
            "linecolor": "white",
            "ticks": ""
           }
          },
          "title": {
           "x": 0.05
          },
          "xaxis": {
           "automargin": true,
           "gridcolor": "white",
           "linecolor": "white",
           "ticks": "",
           "title": {
            "standoff": 15
           },
           "zerolinecolor": "white",
           "zerolinewidth": 2
          },
          "yaxis": {
           "automargin": true,
           "gridcolor": "white",
           "linecolor": "white",
           "ticks": "",
           "title": {
            "standoff": 15
           },
           "zerolinecolor": "white",
           "zerolinewidth": 2
          }
         }
        },
        "title": {
         "text": "Scatter Plot of SENTIMENT vs. PREDICTION"
        },
        "width": 600,
        "xaxis": {
         "anchor": "y",
         "domain": [
          0,
          1
         ],
         "title": {
          "text": "PREDICTION"
         }
        },
        "yaxis": {
         "anchor": "x",
         "domain": [
          0,
          1
         ],
         "range": [
          -1.2,
          1.2
         ],
         "title": {
          "text": "SENTIMENT"
         }
        }
       }
      }
     },
     "metadata": {},
     "output_type": "display_data"
    }
   ],
   "source": [
    "fig = px.scatter(\n",
    "    final_df,\n",
    "    y='SENTIMENT',\n",
    "    x='PREDICTION',\n",
    "    title='Scatter Plot of SENTIMENT vs. PREDICTION',\n",
    "    hover_name='PLAYER',\n",
    "    # size='COUNT',  # This determines the size of each bubble\n",
    ")\n",
    "\n",
    "fig.update_layout(\n",
    "    yaxis_title='SENTIMENT',\n",
    "    xaxis_title='PREDICTION',\n",
    "    width=600,\n",
    "    height=600,\n",
    "    showlegend=False\n",
    ")\n",
    "\n",
    "# fig.update_xaxes(range=[0.75, 1.25])\n",
    "fig.update_yaxes(range=[-1.2, 1.2])\n",
    "fig.show()"
   ]
  },
  {
   "cell_type": "code",
   "execution_count": 25,
   "metadata": {},
   "outputs": [
    {
     "data": {
      "application/vnd.plotly.v1+json": {
       "config": {
        "plotlyServerURL": "https://plot.ly"
       },
       "data": [
        {
         "hovertemplate": "<b>%{hovertext}</b><br><br>PRED/ACTUAL=%{x}<br>SENTIMENT=%{y}<br>AAV=%{marker.size}<extra></extra>",
         "hovertext": [
          "connor mcdavid",
          "auston matthews",
          "zach hyman",
          "evgeny kuznetsov",
          "brayden schenn",
          "sidney crosby",
          "nikita kucherov",
          "jason robertson",
          "ryan reaves",
          "brad marchand",
          "noah hanifin",
          "tomas hertl",
          "claude giroux",
          "matt rempe",
          "jeff skinner",
          "ryan hartman",
          "connor bedard",
          "aaron ekblad",
          "nick cousins",
          "tom wilson"
         ],
         "legendgroup": "",
         "marker": {
          "color": "#636efa",
          "size": [
           12500000,
           11640250,
           5500000,
           7800000,
           6500000,
           8700000,
           9500000,
           7750000,
           1350000,
           6125000,
           4950000,
           8137500,
           6500000,
           820000,
           9000000,
           1700000,
           4450000,
           7500000,
           1100000,
           5166667
          ],
          "sizemode": "area",
          "sizeref": 31250,
          "symbol": "circle"
         },
         "mode": "markers",
         "name": "",
         "orientation": "v",
         "showlegend": false,
         "type": "scatter",
         "x": [
          0.8011390132,
          0.9794015403449242,
          1.0600706063636365,
          0.923784800641026,
          0.9277491023076924,
          0.9995885775862074,
          1.024649331052632,
          0.9752804309677422,
          0.907205171481486,
          1.0261828814693883,
          1.0175021208080808,
          0.955807440860216,
          0.9690006715384616,
          1.2101269067073204,
          0.8607272777777781,
          1.6568853426470629,
          2.8495957105263248,
          0.8921206800000002,
          2.1551376568181944,
          0.9097884671104228
         ],
         "xaxis": "x",
         "y": [
          1,
          0.8800000000000001,
          0.6666666666666666,
          0.5,
          0.4,
          0.39285714285714285,
          0.275,
          0.1,
          0.05,
          0.04999999999999999,
          0,
          0,
          -0.09999999999999998,
          -0.09999999999999999,
          -0.1,
          -0.19999999999999998,
          -0.26666666666666666,
          -0.6,
          -0.775,
          -0.85
         ],
         "yaxis": "y"
        }
       ],
       "layout": {
        "height": 600,
        "legend": {
         "itemsizing": "constant",
         "tracegroupgap": 0
        },
        "showlegend": false,
        "template": {
         "data": {
          "bar": [
           {
            "error_x": {
             "color": "#2a3f5f"
            },
            "error_y": {
             "color": "#2a3f5f"
            },
            "marker": {
             "line": {
              "color": "#E5ECF6",
              "width": 0.5
             },
             "pattern": {
              "fillmode": "overlay",
              "size": 10,
              "solidity": 0.2
             }
            },
            "type": "bar"
           }
          ],
          "barpolar": [
           {
            "marker": {
             "line": {
              "color": "#E5ECF6",
              "width": 0.5
             },
             "pattern": {
              "fillmode": "overlay",
              "size": 10,
              "solidity": 0.2
             }
            },
            "type": "barpolar"
           }
          ],
          "carpet": [
           {
            "aaxis": {
             "endlinecolor": "#2a3f5f",
             "gridcolor": "white",
             "linecolor": "white",
             "minorgridcolor": "white",
             "startlinecolor": "#2a3f5f"
            },
            "baxis": {
             "endlinecolor": "#2a3f5f",
             "gridcolor": "white",
             "linecolor": "white",
             "minorgridcolor": "white",
             "startlinecolor": "#2a3f5f"
            },
            "type": "carpet"
           }
          ],
          "choropleth": [
           {
            "colorbar": {
             "outlinewidth": 0,
             "ticks": ""
            },
            "type": "choropleth"
           }
          ],
          "contour": [
           {
            "colorbar": {
             "outlinewidth": 0,
             "ticks": ""
            },
            "colorscale": [
             [
              0,
              "#0d0887"
             ],
             [
              0.1111111111111111,
              "#46039f"
             ],
             [
              0.2222222222222222,
              "#7201a8"
             ],
             [
              0.3333333333333333,
              "#9c179e"
             ],
             [
              0.4444444444444444,
              "#bd3786"
             ],
             [
              0.5555555555555556,
              "#d8576b"
             ],
             [
              0.6666666666666666,
              "#ed7953"
             ],
             [
              0.7777777777777778,
              "#fb9f3a"
             ],
             [
              0.8888888888888888,
              "#fdca26"
             ],
             [
              1,
              "#f0f921"
             ]
            ],
            "type": "contour"
           }
          ],
          "contourcarpet": [
           {
            "colorbar": {
             "outlinewidth": 0,
             "ticks": ""
            },
            "type": "contourcarpet"
           }
          ],
          "heatmap": [
           {
            "colorbar": {
             "outlinewidth": 0,
             "ticks": ""
            },
            "colorscale": [
             [
              0,
              "#0d0887"
             ],
             [
              0.1111111111111111,
              "#46039f"
             ],
             [
              0.2222222222222222,
              "#7201a8"
             ],
             [
              0.3333333333333333,
              "#9c179e"
             ],
             [
              0.4444444444444444,
              "#bd3786"
             ],
             [
              0.5555555555555556,
              "#d8576b"
             ],
             [
              0.6666666666666666,
              "#ed7953"
             ],
             [
              0.7777777777777778,
              "#fb9f3a"
             ],
             [
              0.8888888888888888,
              "#fdca26"
             ],
             [
              1,
              "#f0f921"
             ]
            ],
            "type": "heatmap"
           }
          ],
          "heatmapgl": [
           {
            "colorbar": {
             "outlinewidth": 0,
             "ticks": ""
            },
            "colorscale": [
             [
              0,
              "#0d0887"
             ],
             [
              0.1111111111111111,
              "#46039f"
             ],
             [
              0.2222222222222222,
              "#7201a8"
             ],
             [
              0.3333333333333333,
              "#9c179e"
             ],
             [
              0.4444444444444444,
              "#bd3786"
             ],
             [
              0.5555555555555556,
              "#d8576b"
             ],
             [
              0.6666666666666666,
              "#ed7953"
             ],
             [
              0.7777777777777778,
              "#fb9f3a"
             ],
             [
              0.8888888888888888,
              "#fdca26"
             ],
             [
              1,
              "#f0f921"
             ]
            ],
            "type": "heatmapgl"
           }
          ],
          "histogram": [
           {
            "marker": {
             "pattern": {
              "fillmode": "overlay",
              "size": 10,
              "solidity": 0.2
             }
            },
            "type": "histogram"
           }
          ],
          "histogram2d": [
           {
            "colorbar": {
             "outlinewidth": 0,
             "ticks": ""
            },
            "colorscale": [
             [
              0,
              "#0d0887"
             ],
             [
              0.1111111111111111,
              "#46039f"
             ],
             [
              0.2222222222222222,
              "#7201a8"
             ],
             [
              0.3333333333333333,
              "#9c179e"
             ],
             [
              0.4444444444444444,
              "#bd3786"
             ],
             [
              0.5555555555555556,
              "#d8576b"
             ],
             [
              0.6666666666666666,
              "#ed7953"
             ],
             [
              0.7777777777777778,
              "#fb9f3a"
             ],
             [
              0.8888888888888888,
              "#fdca26"
             ],
             [
              1,
              "#f0f921"
             ]
            ],
            "type": "histogram2d"
           }
          ],
          "histogram2dcontour": [
           {
            "colorbar": {
             "outlinewidth": 0,
             "ticks": ""
            },
            "colorscale": [
             [
              0,
              "#0d0887"
             ],
             [
              0.1111111111111111,
              "#46039f"
             ],
             [
              0.2222222222222222,
              "#7201a8"
             ],
             [
              0.3333333333333333,
              "#9c179e"
             ],
             [
              0.4444444444444444,
              "#bd3786"
             ],
             [
              0.5555555555555556,
              "#d8576b"
             ],
             [
              0.6666666666666666,
              "#ed7953"
             ],
             [
              0.7777777777777778,
              "#fb9f3a"
             ],
             [
              0.8888888888888888,
              "#fdca26"
             ],
             [
              1,
              "#f0f921"
             ]
            ],
            "type": "histogram2dcontour"
           }
          ],
          "mesh3d": [
           {
            "colorbar": {
             "outlinewidth": 0,
             "ticks": ""
            },
            "type": "mesh3d"
           }
          ],
          "parcoords": [
           {
            "line": {
             "colorbar": {
              "outlinewidth": 0,
              "ticks": ""
             }
            },
            "type": "parcoords"
           }
          ],
          "pie": [
           {
            "automargin": true,
            "type": "pie"
           }
          ],
          "scatter": [
           {
            "fillpattern": {
             "fillmode": "overlay",
             "size": 10,
             "solidity": 0.2
            },
            "type": "scatter"
           }
          ],
          "scatter3d": [
           {
            "line": {
             "colorbar": {
              "outlinewidth": 0,
              "ticks": ""
             }
            },
            "marker": {
             "colorbar": {
              "outlinewidth": 0,
              "ticks": ""
             }
            },
            "type": "scatter3d"
           }
          ],
          "scattercarpet": [
           {
            "marker": {
             "colorbar": {
              "outlinewidth": 0,
              "ticks": ""
             }
            },
            "type": "scattercarpet"
           }
          ],
          "scattergeo": [
           {
            "marker": {
             "colorbar": {
              "outlinewidth": 0,
              "ticks": ""
             }
            },
            "type": "scattergeo"
           }
          ],
          "scattergl": [
           {
            "marker": {
             "colorbar": {
              "outlinewidth": 0,
              "ticks": ""
             }
            },
            "type": "scattergl"
           }
          ],
          "scattermapbox": [
           {
            "marker": {
             "colorbar": {
              "outlinewidth": 0,
              "ticks": ""
             }
            },
            "type": "scattermapbox"
           }
          ],
          "scatterpolar": [
           {
            "marker": {
             "colorbar": {
              "outlinewidth": 0,
              "ticks": ""
             }
            },
            "type": "scatterpolar"
           }
          ],
          "scatterpolargl": [
           {
            "marker": {
             "colorbar": {
              "outlinewidth": 0,
              "ticks": ""
             }
            },
            "type": "scatterpolargl"
           }
          ],
          "scatterternary": [
           {
            "marker": {
             "colorbar": {
              "outlinewidth": 0,
              "ticks": ""
             }
            },
            "type": "scatterternary"
           }
          ],
          "surface": [
           {
            "colorbar": {
             "outlinewidth": 0,
             "ticks": ""
            },
            "colorscale": [
             [
              0,
              "#0d0887"
             ],
             [
              0.1111111111111111,
              "#46039f"
             ],
             [
              0.2222222222222222,
              "#7201a8"
             ],
             [
              0.3333333333333333,
              "#9c179e"
             ],
             [
              0.4444444444444444,
              "#bd3786"
             ],
             [
              0.5555555555555556,
              "#d8576b"
             ],
             [
              0.6666666666666666,
              "#ed7953"
             ],
             [
              0.7777777777777778,
              "#fb9f3a"
             ],
             [
              0.8888888888888888,
              "#fdca26"
             ],
             [
              1,
              "#f0f921"
             ]
            ],
            "type": "surface"
           }
          ],
          "table": [
           {
            "cells": {
             "fill": {
              "color": "#EBF0F8"
             },
             "line": {
              "color": "white"
             }
            },
            "header": {
             "fill": {
              "color": "#C8D4E3"
             },
             "line": {
              "color": "white"
             }
            },
            "type": "table"
           }
          ]
         },
         "layout": {
          "annotationdefaults": {
           "arrowcolor": "#2a3f5f",
           "arrowhead": 0,
           "arrowwidth": 1
          },
          "autotypenumbers": "strict",
          "coloraxis": {
           "colorbar": {
            "outlinewidth": 0,
            "ticks": ""
           }
          },
          "colorscale": {
           "diverging": [
            [
             0,
             "#8e0152"
            ],
            [
             0.1,
             "#c51b7d"
            ],
            [
             0.2,
             "#de77ae"
            ],
            [
             0.3,
             "#f1b6da"
            ],
            [
             0.4,
             "#fde0ef"
            ],
            [
             0.5,
             "#f7f7f7"
            ],
            [
             0.6,
             "#e6f5d0"
            ],
            [
             0.7,
             "#b8e186"
            ],
            [
             0.8,
             "#7fbc41"
            ],
            [
             0.9,
             "#4d9221"
            ],
            [
             1,
             "#276419"
            ]
           ],
           "sequential": [
            [
             0,
             "#0d0887"
            ],
            [
             0.1111111111111111,
             "#46039f"
            ],
            [
             0.2222222222222222,
             "#7201a8"
            ],
            [
             0.3333333333333333,
             "#9c179e"
            ],
            [
             0.4444444444444444,
             "#bd3786"
            ],
            [
             0.5555555555555556,
             "#d8576b"
            ],
            [
             0.6666666666666666,
             "#ed7953"
            ],
            [
             0.7777777777777778,
             "#fb9f3a"
            ],
            [
             0.8888888888888888,
             "#fdca26"
            ],
            [
             1,
             "#f0f921"
            ]
           ],
           "sequentialminus": [
            [
             0,
             "#0d0887"
            ],
            [
             0.1111111111111111,
             "#46039f"
            ],
            [
             0.2222222222222222,
             "#7201a8"
            ],
            [
             0.3333333333333333,
             "#9c179e"
            ],
            [
             0.4444444444444444,
             "#bd3786"
            ],
            [
             0.5555555555555556,
             "#d8576b"
            ],
            [
             0.6666666666666666,
             "#ed7953"
            ],
            [
             0.7777777777777778,
             "#fb9f3a"
            ],
            [
             0.8888888888888888,
             "#fdca26"
            ],
            [
             1,
             "#f0f921"
            ]
           ]
          },
          "colorway": [
           "#636efa",
           "#EF553B",
           "#00cc96",
           "#ab63fa",
           "#FFA15A",
           "#19d3f3",
           "#FF6692",
           "#B6E880",
           "#FF97FF",
           "#FECB52"
          ],
          "font": {
           "color": "#2a3f5f"
          },
          "geo": {
           "bgcolor": "white",
           "lakecolor": "white",
           "landcolor": "#E5ECF6",
           "showlakes": true,
           "showland": true,
           "subunitcolor": "white"
          },
          "hoverlabel": {
           "align": "left"
          },
          "hovermode": "closest",
          "mapbox": {
           "style": "light"
          },
          "paper_bgcolor": "white",
          "plot_bgcolor": "#E5ECF6",
          "polar": {
           "angularaxis": {
            "gridcolor": "white",
            "linecolor": "white",
            "ticks": ""
           },
           "bgcolor": "#E5ECF6",
           "radialaxis": {
            "gridcolor": "white",
            "linecolor": "white",
            "ticks": ""
           }
          },
          "scene": {
           "xaxis": {
            "backgroundcolor": "#E5ECF6",
            "gridcolor": "white",
            "gridwidth": 2,
            "linecolor": "white",
            "showbackground": true,
            "ticks": "",
            "zerolinecolor": "white"
           },
           "yaxis": {
            "backgroundcolor": "#E5ECF6",
            "gridcolor": "white",
            "gridwidth": 2,
            "linecolor": "white",
            "showbackground": true,
            "ticks": "",
            "zerolinecolor": "white"
           },
           "zaxis": {
            "backgroundcolor": "#E5ECF6",
            "gridcolor": "white",
            "gridwidth": 2,
            "linecolor": "white",
            "showbackground": true,
            "ticks": "",
            "zerolinecolor": "white"
           }
          },
          "shapedefaults": {
           "line": {
            "color": "#2a3f5f"
           }
          },
          "ternary": {
           "aaxis": {
            "gridcolor": "white",
            "linecolor": "white",
            "ticks": ""
           },
           "baxis": {
            "gridcolor": "white",
            "linecolor": "white",
            "ticks": ""
           },
           "bgcolor": "#E5ECF6",
           "caxis": {
            "gridcolor": "white",
            "linecolor": "white",
            "ticks": ""
           }
          },
          "title": {
           "x": 0.05
          },
          "xaxis": {
           "automargin": true,
           "gridcolor": "white",
           "linecolor": "white",
           "ticks": "",
           "title": {
            "standoff": 15
           },
           "zerolinecolor": "white",
           "zerolinewidth": 2
          },
          "yaxis": {
           "automargin": true,
           "gridcolor": "white",
           "linecolor": "white",
           "ticks": "",
           "title": {
            "standoff": 15
           },
           "zerolinecolor": "white",
           "zerolinewidth": 2
          }
         }
        },
        "title": {
         "text": "Scatter Plot of SENTIMENT vs. PREDICTION/ACTUAL"
        },
        "width": 600,
        "xaxis": {
         "anchor": "y",
         "domain": [
          0,
          1
         ],
         "range": [
          0.5,
          1.5
         ],
         "title": {
          "text": "PRED/ACTUAL"
         }
        },
        "yaxis": {
         "anchor": "x",
         "domain": [
          0,
          1
         ],
         "range": [
          -1.1,
          1.1
         ],
         "title": {
          "text": "SENTIMENT"
         }
        }
       }
      }
     },
     "metadata": {},
     "output_type": "display_data"
    }
   ],
   "source": [
    "fig = px.scatter(\n",
    "    final_df,\n",
    "    y='SENTIMENT',\n",
    "    x='PRED/ACTUAL',\n",
    "    title='Scatter Plot of SENTIMENT vs. PREDICTION/ACTUAL',\n",
    "    hover_name='PLAYER',\n",
    "    size='AAV',\n",
    ")\n",
    "\n",
    "fig.update_layout(\n",
    "    yaxis_title='SENTIMENT',\n",
    "    xaxis_title='PRED/ACTUAL',\n",
    "    width=600,\n",
    "    height=600,\n",
    "    showlegend=False\n",
    ")\n",
    "\n",
    "fig.update_xaxes(range=[0.5, 1.5])\n",
    "fig.update_yaxes(range=[-1.1, 1.1])\n",
    "fig.show()"
   ]
  },
  {
   "cell_type": "code",
   "execution_count": 101,
   "metadata": {},
   "outputs": [
    {
     "data": {
      "application/vnd.plotly.v1+json": {
       "config": {
        "plotlyServerURL": "https://plot.ly"
       },
       "data": [
        {
         "hovertemplate": "<b>%{hovertext}</b><br><br>AAV=%{x}<br>SENTIMENT=%{y}<extra></extra>",
         "hovertext": [
          "connor mcdavid",
          "auston matthews",
          "zach hyman",
          "evgeny kuznetsov",
          "brayden schenn",
          "sidney crosby",
          "nikita kucherov",
          "jason robertson",
          "ryan reaves",
          "brad marchand",
          "noah hanifin",
          "tomas hertl",
          "claude giroux",
          "matt rempe",
          "jeff skinner",
          "ryan hartman",
          "connor bedard",
          "aaron ekblad",
          "nick cousins",
          "tom wilson"
         ],
         "legendgroup": "",
         "marker": {
          "color": "blue",
          "symbol": "circle"
         },
         "mode": "markers",
         "name": "",
         "orientation": "v",
         "showlegend": false,
         "type": "scatter",
         "x": [
          12500000,
          11640250,
          5500000,
          7800000,
          6500000,
          8700000,
          9500000,
          7750000,
          1350000,
          6125000,
          4950000,
          8137500,
          6500000,
          820000,
          9000000,
          1700000,
          4450000,
          7500000,
          1100000,
          5166667
         ],
         "xaxis": "x",
         "y": [
          1,
          0.8800000000000001,
          0.6666666666666666,
          0.5,
          0.4,
          0.39285714285714285,
          0.275,
          0.1,
          0.05,
          0.04999999999999999,
          0,
          0,
          -0.09999999999999998,
          -0.09999999999999999,
          -0.1,
          -0.19999999999999998,
          -0.26666666666666666,
          -0.6,
          -0.775,
          -0.85
         ],
         "yaxis": "y"
        },
        {
         "marker": {
          "color": "red"
         },
         "mode": "markers",
         "name": "PREDICTION",
         "type": "scatter",
         "x": [
          10014237.665000001,
          11400478.780000005,
          5830388.335000001,
          7205521.445000002,
          6030369.165,
          8696420.625000006,
          9734168.645000003,
          7558423.340000002,
          1224726.9815000063,
          6285370.149000003,
          5036635.498,
          7777883.050000007,
          6298504.365,
          992304.0635000027,
          7746545.500000003,
          2816705.082500007,
          12680700.911842145,
          6690905.1000000015,
          2370651.422500014,
          4700574.050000007
         ],
         "y": [
          1,
          0.8800000000000001,
          0.6666666666666666,
          0.5,
          0.4,
          0.39285714285714285,
          0.275,
          0.1,
          0.05,
          0.04999999999999999,
          0,
          0,
          -0.09999999999999998,
          -0.09999999999999999,
          -0.1,
          -0.19999999999999998,
          -0.26666666666666666,
          -0.6,
          -0.775,
          -0.85
         ]
        }
       ],
       "layout": {
        "height": 600,
        "legend": {
         "tracegroupgap": 0
        },
        "showlegend": true,
        "template": {
         "data": {
          "bar": [
           {
            "error_x": {
             "color": "#2a3f5f"
            },
            "error_y": {
             "color": "#2a3f5f"
            },
            "marker": {
             "line": {
              "color": "#E5ECF6",
              "width": 0.5
             },
             "pattern": {
              "fillmode": "overlay",
              "size": 10,
              "solidity": 0.2
             }
            },
            "type": "bar"
           }
          ],
          "barpolar": [
           {
            "marker": {
             "line": {
              "color": "#E5ECF6",
              "width": 0.5
             },
             "pattern": {
              "fillmode": "overlay",
              "size": 10,
              "solidity": 0.2
             }
            },
            "type": "barpolar"
           }
          ],
          "carpet": [
           {
            "aaxis": {
             "endlinecolor": "#2a3f5f",
             "gridcolor": "white",
             "linecolor": "white",
             "minorgridcolor": "white",
             "startlinecolor": "#2a3f5f"
            },
            "baxis": {
             "endlinecolor": "#2a3f5f",
             "gridcolor": "white",
             "linecolor": "white",
             "minorgridcolor": "white",
             "startlinecolor": "#2a3f5f"
            },
            "type": "carpet"
           }
          ],
          "choropleth": [
           {
            "colorbar": {
             "outlinewidth": 0,
             "ticks": ""
            },
            "type": "choropleth"
           }
          ],
          "contour": [
           {
            "colorbar": {
             "outlinewidth": 0,
             "ticks": ""
            },
            "colorscale": [
             [
              0,
              "#0d0887"
             ],
             [
              0.1111111111111111,
              "#46039f"
             ],
             [
              0.2222222222222222,
              "#7201a8"
             ],
             [
              0.3333333333333333,
              "#9c179e"
             ],
             [
              0.4444444444444444,
              "#bd3786"
             ],
             [
              0.5555555555555556,
              "#d8576b"
             ],
             [
              0.6666666666666666,
              "#ed7953"
             ],
             [
              0.7777777777777778,
              "#fb9f3a"
             ],
             [
              0.8888888888888888,
              "#fdca26"
             ],
             [
              1,
              "#f0f921"
             ]
            ],
            "type": "contour"
           }
          ],
          "contourcarpet": [
           {
            "colorbar": {
             "outlinewidth": 0,
             "ticks": ""
            },
            "type": "contourcarpet"
           }
          ],
          "heatmap": [
           {
            "colorbar": {
             "outlinewidth": 0,
             "ticks": ""
            },
            "colorscale": [
             [
              0,
              "#0d0887"
             ],
             [
              0.1111111111111111,
              "#46039f"
             ],
             [
              0.2222222222222222,
              "#7201a8"
             ],
             [
              0.3333333333333333,
              "#9c179e"
             ],
             [
              0.4444444444444444,
              "#bd3786"
             ],
             [
              0.5555555555555556,
              "#d8576b"
             ],
             [
              0.6666666666666666,
              "#ed7953"
             ],
             [
              0.7777777777777778,
              "#fb9f3a"
             ],
             [
              0.8888888888888888,
              "#fdca26"
             ],
             [
              1,
              "#f0f921"
             ]
            ],
            "type": "heatmap"
           }
          ],
          "heatmapgl": [
           {
            "colorbar": {
             "outlinewidth": 0,
             "ticks": ""
            },
            "colorscale": [
             [
              0,
              "#0d0887"
             ],
             [
              0.1111111111111111,
              "#46039f"
             ],
             [
              0.2222222222222222,
              "#7201a8"
             ],
             [
              0.3333333333333333,
              "#9c179e"
             ],
             [
              0.4444444444444444,
              "#bd3786"
             ],
             [
              0.5555555555555556,
              "#d8576b"
             ],
             [
              0.6666666666666666,
              "#ed7953"
             ],
             [
              0.7777777777777778,
              "#fb9f3a"
             ],
             [
              0.8888888888888888,
              "#fdca26"
             ],
             [
              1,
              "#f0f921"
             ]
            ],
            "type": "heatmapgl"
           }
          ],
          "histogram": [
           {
            "marker": {
             "pattern": {
              "fillmode": "overlay",
              "size": 10,
              "solidity": 0.2
             }
            },
            "type": "histogram"
           }
          ],
          "histogram2d": [
           {
            "colorbar": {
             "outlinewidth": 0,
             "ticks": ""
            },
            "colorscale": [
             [
              0,
              "#0d0887"
             ],
             [
              0.1111111111111111,
              "#46039f"
             ],
             [
              0.2222222222222222,
              "#7201a8"
             ],
             [
              0.3333333333333333,
              "#9c179e"
             ],
             [
              0.4444444444444444,
              "#bd3786"
             ],
             [
              0.5555555555555556,
              "#d8576b"
             ],
             [
              0.6666666666666666,
              "#ed7953"
             ],
             [
              0.7777777777777778,
              "#fb9f3a"
             ],
             [
              0.8888888888888888,
              "#fdca26"
             ],
             [
              1,
              "#f0f921"
             ]
            ],
            "type": "histogram2d"
           }
          ],
          "histogram2dcontour": [
           {
            "colorbar": {
             "outlinewidth": 0,
             "ticks": ""
            },
            "colorscale": [
             [
              0,
              "#0d0887"
             ],
             [
              0.1111111111111111,
              "#46039f"
             ],
             [
              0.2222222222222222,
              "#7201a8"
             ],
             [
              0.3333333333333333,
              "#9c179e"
             ],
             [
              0.4444444444444444,
              "#bd3786"
             ],
             [
              0.5555555555555556,
              "#d8576b"
             ],
             [
              0.6666666666666666,
              "#ed7953"
             ],
             [
              0.7777777777777778,
              "#fb9f3a"
             ],
             [
              0.8888888888888888,
              "#fdca26"
             ],
             [
              1,
              "#f0f921"
             ]
            ],
            "type": "histogram2dcontour"
           }
          ],
          "mesh3d": [
           {
            "colorbar": {
             "outlinewidth": 0,
             "ticks": ""
            },
            "type": "mesh3d"
           }
          ],
          "parcoords": [
           {
            "line": {
             "colorbar": {
              "outlinewidth": 0,
              "ticks": ""
             }
            },
            "type": "parcoords"
           }
          ],
          "pie": [
           {
            "automargin": true,
            "type": "pie"
           }
          ],
          "scatter": [
           {
            "fillpattern": {
             "fillmode": "overlay",
             "size": 10,
             "solidity": 0.2
            },
            "type": "scatter"
           }
          ],
          "scatter3d": [
           {
            "line": {
             "colorbar": {
              "outlinewidth": 0,
              "ticks": ""
             }
            },
            "marker": {
             "colorbar": {
              "outlinewidth": 0,
              "ticks": ""
             }
            },
            "type": "scatter3d"
           }
          ],
          "scattercarpet": [
           {
            "marker": {
             "colorbar": {
              "outlinewidth": 0,
              "ticks": ""
             }
            },
            "type": "scattercarpet"
           }
          ],
          "scattergeo": [
           {
            "marker": {
             "colorbar": {
              "outlinewidth": 0,
              "ticks": ""
             }
            },
            "type": "scattergeo"
           }
          ],
          "scattergl": [
           {
            "marker": {
             "colorbar": {
              "outlinewidth": 0,
              "ticks": ""
             }
            },
            "type": "scattergl"
           }
          ],
          "scattermapbox": [
           {
            "marker": {
             "colorbar": {
              "outlinewidth": 0,
              "ticks": ""
             }
            },
            "type": "scattermapbox"
           }
          ],
          "scatterpolar": [
           {
            "marker": {
             "colorbar": {
              "outlinewidth": 0,
              "ticks": ""
             }
            },
            "type": "scatterpolar"
           }
          ],
          "scatterpolargl": [
           {
            "marker": {
             "colorbar": {
              "outlinewidth": 0,
              "ticks": ""
             }
            },
            "type": "scatterpolargl"
           }
          ],
          "scatterternary": [
           {
            "marker": {
             "colorbar": {
              "outlinewidth": 0,
              "ticks": ""
             }
            },
            "type": "scatterternary"
           }
          ],
          "surface": [
           {
            "colorbar": {
             "outlinewidth": 0,
             "ticks": ""
            },
            "colorscale": [
             [
              0,
              "#0d0887"
             ],
             [
              0.1111111111111111,
              "#46039f"
             ],
             [
              0.2222222222222222,
              "#7201a8"
             ],
             [
              0.3333333333333333,
              "#9c179e"
             ],
             [
              0.4444444444444444,
              "#bd3786"
             ],
             [
              0.5555555555555556,
              "#d8576b"
             ],
             [
              0.6666666666666666,
              "#ed7953"
             ],
             [
              0.7777777777777778,
              "#fb9f3a"
             ],
             [
              0.8888888888888888,
              "#fdca26"
             ],
             [
              1,
              "#f0f921"
             ]
            ],
            "type": "surface"
           }
          ],
          "table": [
           {
            "cells": {
             "fill": {
              "color": "#EBF0F8"
             },
             "line": {
              "color": "white"
             }
            },
            "header": {
             "fill": {
              "color": "#C8D4E3"
             },
             "line": {
              "color": "white"
             }
            },
            "type": "table"
           }
          ]
         },
         "layout": {
          "annotationdefaults": {
           "arrowcolor": "#2a3f5f",
           "arrowhead": 0,
           "arrowwidth": 1
          },
          "autotypenumbers": "strict",
          "coloraxis": {
           "colorbar": {
            "outlinewidth": 0,
            "ticks": ""
           }
          },
          "colorscale": {
           "diverging": [
            [
             0,
             "#8e0152"
            ],
            [
             0.1,
             "#c51b7d"
            ],
            [
             0.2,
             "#de77ae"
            ],
            [
             0.3,
             "#f1b6da"
            ],
            [
             0.4,
             "#fde0ef"
            ],
            [
             0.5,
             "#f7f7f7"
            ],
            [
             0.6,
             "#e6f5d0"
            ],
            [
             0.7,
             "#b8e186"
            ],
            [
             0.8,
             "#7fbc41"
            ],
            [
             0.9,
             "#4d9221"
            ],
            [
             1,
             "#276419"
            ]
           ],
           "sequential": [
            [
             0,
             "#0d0887"
            ],
            [
             0.1111111111111111,
             "#46039f"
            ],
            [
             0.2222222222222222,
             "#7201a8"
            ],
            [
             0.3333333333333333,
             "#9c179e"
            ],
            [
             0.4444444444444444,
             "#bd3786"
            ],
            [
             0.5555555555555556,
             "#d8576b"
            ],
            [
             0.6666666666666666,
             "#ed7953"
            ],
            [
             0.7777777777777778,
             "#fb9f3a"
            ],
            [
             0.8888888888888888,
             "#fdca26"
            ],
            [
             1,
             "#f0f921"
            ]
           ],
           "sequentialminus": [
            [
             0,
             "#0d0887"
            ],
            [
             0.1111111111111111,
             "#46039f"
            ],
            [
             0.2222222222222222,
             "#7201a8"
            ],
            [
             0.3333333333333333,
             "#9c179e"
            ],
            [
             0.4444444444444444,
             "#bd3786"
            ],
            [
             0.5555555555555556,
             "#d8576b"
            ],
            [
             0.6666666666666666,
             "#ed7953"
            ],
            [
             0.7777777777777778,
             "#fb9f3a"
            ],
            [
             0.8888888888888888,
             "#fdca26"
            ],
            [
             1,
             "#f0f921"
            ]
           ]
          },
          "colorway": [
           "#636efa",
           "#EF553B",
           "#00cc96",
           "#ab63fa",
           "#FFA15A",
           "#19d3f3",
           "#FF6692",
           "#B6E880",
           "#FF97FF",
           "#FECB52"
          ],
          "font": {
           "color": "#2a3f5f"
          },
          "geo": {
           "bgcolor": "white",
           "lakecolor": "white",
           "landcolor": "#E5ECF6",
           "showlakes": true,
           "showland": true,
           "subunitcolor": "white"
          },
          "hoverlabel": {
           "align": "left"
          },
          "hovermode": "closest",
          "mapbox": {
           "style": "light"
          },
          "paper_bgcolor": "white",
          "plot_bgcolor": "#E5ECF6",
          "polar": {
           "angularaxis": {
            "gridcolor": "white",
            "linecolor": "white",
            "ticks": ""
           },
           "bgcolor": "#E5ECF6",
           "radialaxis": {
            "gridcolor": "white",
            "linecolor": "white",
            "ticks": ""
           }
          },
          "scene": {
           "xaxis": {
            "backgroundcolor": "#E5ECF6",
            "gridcolor": "white",
            "gridwidth": 2,
            "linecolor": "white",
            "showbackground": true,
            "ticks": "",
            "zerolinecolor": "white"
           },
           "yaxis": {
            "backgroundcolor": "#E5ECF6",
            "gridcolor": "white",
            "gridwidth": 2,
            "linecolor": "white",
            "showbackground": true,
            "ticks": "",
            "zerolinecolor": "white"
           },
           "zaxis": {
            "backgroundcolor": "#E5ECF6",
            "gridcolor": "white",
            "gridwidth": 2,
            "linecolor": "white",
            "showbackground": true,
            "ticks": "",
            "zerolinecolor": "white"
           }
          },
          "shapedefaults": {
           "line": {
            "color": "#2a3f5f"
           }
          },
          "ternary": {
           "aaxis": {
            "gridcolor": "white",
            "linecolor": "white",
            "ticks": ""
           },
           "baxis": {
            "gridcolor": "white",
            "linecolor": "white",
            "ticks": ""
           },
           "bgcolor": "#E5ECF6",
           "caxis": {
            "gridcolor": "white",
            "linecolor": "white",
            "ticks": ""
           }
          },
          "title": {
           "x": 0.05
          },
          "xaxis": {
          },
          "yaxis": {
          }
        }
      ]
    }
 ]
}
