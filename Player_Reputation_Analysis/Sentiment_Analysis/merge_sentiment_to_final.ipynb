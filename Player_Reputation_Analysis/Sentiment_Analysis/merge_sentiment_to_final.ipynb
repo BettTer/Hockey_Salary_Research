{
 "cells": [
  {
   "cell_type": "markdown",
   "metadata": {},
   "source": [
    "#### Merge sentiment analysis result of each player to the final data after prediction"
   ]
  },
  {
   "cell_type": "code",
   "execution_count": 8,
   "metadata": {},
   "outputs": [
    {
     "data": {
      "text/html": [
       "<div>\n",
       "<style scoped>\n",
       "    .dataframe tbody tr th:only-of-type {\n",
       "        vertical-align: middle;\n",
       "    }\n",
       "\n",
       "    .dataframe tbody tr th {\n",
       "        vertical-align: top;\n",
       "    }\n",
       "\n",
       "    .dataframe thead th {\n",
       "        text-align: right;\n",
       "    }\n",
       "</style>\n",
       "<table border=\"1\" class=\"dataframe\">\n",
       "  <thead>\n",
       "    <tr style=\"text-align: right;\">\n",
       "      <th></th>\n",
       "      <th>mentioned_players</th>\n",
       "      <th>SENTIMENT</th>\n",
       "    </tr>\n",
       "  </thead>\n",
       "  <tbody>\n",
       "    <tr>\n",
       "      <th>0</th>\n",
       "      <td>aaron ekblad</td>\n",
       "      <td>-0.600000</td>\n",
       "    </tr>\n",
       "    <tr>\n",
       "      <th>1</th>\n",
       "      <td>adam larsson</td>\n",
       "      <td>0.000000</td>\n",
       "    </tr>\n",
       "    <tr>\n",
       "      <th>2</th>\n",
       "      <td>adam ruzicka</td>\n",
       "      <td>-1.000000</td>\n",
       "    </tr>\n",
       "    <tr>\n",
       "      <th>3</th>\n",
       "      <td>andrew peeke</td>\n",
       "      <td>0.000000</td>\n",
       "    </tr>\n",
       "    <tr>\n",
       "      <th>4</th>\n",
       "      <td>artemi panarin</td>\n",
       "      <td>0.000000</td>\n",
       "    </tr>\n",
       "    <tr>\n",
       "      <th>...</th>\n",
       "      <td>...</td>\n",
       "      <td>...</td>\n",
       "    </tr>\n",
       "    <tr>\n",
       "      <th>79</th>\n",
       "      <td>william eklund</td>\n",
       "      <td>1.000000</td>\n",
       "    </tr>\n",
       "    <tr>\n",
       "      <th>80</th>\n",
       "      <td>yakov trenin</td>\n",
       "      <td>0.000000</td>\n",
       "    </tr>\n",
       "    <tr>\n",
       "      <th>81</th>\n",
       "      <td>yanni gourde</td>\n",
       "      <td>0.000000</td>\n",
       "    </tr>\n",
       "    <tr>\n",
       "      <th>82</th>\n",
       "      <td>zach benson</td>\n",
       "      <td>-0.200000</td>\n",
       "    </tr>\n",
       "    <tr>\n",
       "      <th>83</th>\n",
       "      <td>zach hyman</td>\n",
       "      <td>0.666667</td>\n",
       "    </tr>\n",
       "  </tbody>\n",
       "</table>\n",
       "<p>84 rows × 2 columns</p>\n",
       "</div>"
      ],
      "text/plain": [
       "   mentioned_players  SENTIMENT\n",
       "0       aaron ekblad  -0.600000\n",
       "1       adam larsson   0.000000\n",
       "2       adam ruzicka  -1.000000\n",
       "3       andrew peeke   0.000000\n",
       "4     artemi panarin   0.000000\n",
       "..               ...        ...\n",
       "79    william eklund   1.000000\n",
       "80      yakov trenin   0.000000\n",
       "81      yanni gourde   0.000000\n",
       "82       zach benson  -0.200000\n",
       "83        zach hyman   0.666667\n",
       "\n",
       "[84 rows x 2 columns]"
      ]
     },
     "execution_count": 8,
     "metadata": {},
     "output_type": "execute_result"
    }
   ],
   "source": [
    "import pandas as pd\n",
    "import numpy as np\n",
    "import plotly.express as px\n",
    "\n",
    "\n",
    "sentiment_df = pd.read_csv('sentiment_result_raw.csv')\n",
    "sentiment_df['mentioned_players'] = sentiment_df['mentioned_players'].str.lower()\n",
    "sentiment_df = (\n",
    "    pd.to_datetime(sentiment_df['created_date'])\n",
    "    .pipe(lambda x: sentiment_df.assign(created_date=x))\n",
    "    .query('created_date.dt.year >= 2024')\n",
    "    .groupby('mentioned_players')\n",
    "    .agg(SENTIMENT=('sentiment_result', 'mean'))\n",
    "    .reset_index()\n",
    ")\n",
    "\n",
    "sentiment_df"
   ]
  },
  {
   "cell_type": "code",
   "execution_count": 3,
   "metadata": {},
   "outputs": [
    {
     "data": {
      "text/html": [
       "<div>\n",
       "<style scoped>\n",
       "    .dataframe tbody tr th:only-of-type {\n",
       "        vertical-align: middle;\n",
       "    }\n",
       "\n",
       "    .dataframe tbody tr th {\n",
       "        vertical-align: top;\n",
       "    }\n",
       "\n",
       "    .dataframe thead th {\n",
       "        text-align: right;\n",
       "    }\n",
       "</style>\n",
       "<table border=\"1\" class=\"dataframe\">\n",
       "  <thead>\n",
       "    <tr style=\"text-align: right;\">\n",
       "      <th></th>\n",
       "      <th>TEAM</th>\n",
       "      <th>PLAYER</th>\n",
       "      <th>POSITION</th>\n",
       "      <th>GP</th>\n",
       "      <th>TOI/GP</th>\n",
       "      <th>TOI</th>\n",
       "      <th>IPP</th>\n",
       "      <th>GOALS</th>\n",
       "      <th>TOTAL ASSISTS</th>\n",
       "      <th>FIRST ASSISTS</th>\n",
       "      <th>...</th>\n",
       "      <th>BASE SALARY</th>\n",
       "      <th>S.BONUS</th>\n",
       "      <th>P.BONUS</th>\n",
       "      <th>SEASON</th>\n",
       "      <th>SALARY CAP</th>\n",
       "      <th>SALARY CAP PERCENTAGE</th>\n",
       "      <th>DECEASED</th>\n",
       "      <th>PRED_SALARY_PERCENTAGE</th>\n",
       "      <th>PRED/ACTUAL</th>\n",
       "      <th>TEAM_FULL_NAMES</th>\n",
       "    </tr>\n",
       "  </thead>\n",
       "  <tbody>\n",
       "    <tr>\n",
       "      <th>0</th>\n",
       "      <td>chi</td>\n",
       "      <td>adam burish</td>\n",
       "      <td>Right Wing</td>\n",
       "      <td>81</td>\n",
       "      <td>11.748354</td>\n",
       "      <td>951.616667</td>\n",
       "      <td>40.00</td>\n",
       "      <td>4</td>\n",
       "      <td>4</td>\n",
       "      <td>3</td>\n",
       "      <td>...</td>\n",
       "      <td>500000</td>\n",
       "      <td>75000</td>\n",
       "      <td>0</td>\n",
       "      <td>2007-08</td>\n",
       "      <td>50300000</td>\n",
       "      <td>0.011431</td>\n",
       "      <td>0</td>\n",
       "      <td>0.014010</td>\n",
       "      <td>1.225597</td>\n",
       "      <td>Chicago Blackhawks</td>\n",
       "    </tr>\n",
       "    <tr>\n",
       "      <th>1</th>\n",
       "      <td>pit</td>\n",
       "      <td>adam hall</td>\n",
       "      <td>Right Wing</td>\n",
       "      <td>46</td>\n",
       "      <td>11.872826</td>\n",
       "      <td>546.150000</td>\n",
       "      <td>75.00</td>\n",
       "      <td>2</td>\n",
       "      <td>4</td>\n",
       "      <td>1</td>\n",
       "      <td>...</td>\n",
       "      <td>525000</td>\n",
       "      <td>0</td>\n",
       "      <td>0</td>\n",
       "      <td>2007-08</td>\n",
       "      <td>50300000</td>\n",
       "      <td>0.010437</td>\n",
       "      <td>0</td>\n",
       "      <td>0.015781</td>\n",
       "      <td>1.512001</td>\n",
       "      <td>Pittsburgh Penguins</td>\n",
       "    </tr>\n",
       "    <tr>\n",
       "      <th>2</th>\n",
       "      <td>edm</td>\n",
       "      <td>ales hemsky</td>\n",
       "      <td>Right Wing</td>\n",
       "      <td>74</td>\n",
       "      <td>18.574099</td>\n",
       "      <td>1374.483333</td>\n",
       "      <td>81.61</td>\n",
       "      <td>20</td>\n",
       "      <td>51</td>\n",
       "      <td>36</td>\n",
       "      <td>...</td>\n",
       "      <td>3600000</td>\n",
       "      <td>0</td>\n",
       "      <td>0</td>\n",
       "      <td>2007-08</td>\n",
       "      <td>50300000</td>\n",
       "      <td>0.081511</td>\n",
       "      <td>0</td>\n",
       "      <td>0.073371</td>\n",
       "      <td>0.900138</td>\n",
       "      <td>Edmonton Oilers</td>\n",
       "    </tr>\n",
       "    <tr>\n",
       "      <th>3</th>\n",
       "      <td>buf</td>\n",
       "      <td>ales kotalik</td>\n",
       "      <td>Right Wing</td>\n",
       "      <td>79</td>\n",
       "      <td>15.342405</td>\n",
       "      <td>1212.050000</td>\n",
       "      <td>67.19</td>\n",
       "      <td>23</td>\n",
       "      <td>20</td>\n",
       "      <td>7</td>\n",
       "      <td>...</td>\n",
       "      <td>2500000</td>\n",
       "      <td>0</td>\n",
       "      <td>0</td>\n",
       "      <td>2007-08</td>\n",
       "      <td>50300000</td>\n",
       "      <td>0.046388</td>\n",
       "      <td>0</td>\n",
       "      <td>0.045050</td>\n",
       "      <td>0.971143</td>\n",
       "      <td>Buffalo Sabres</td>\n",
       "    </tr>\n",
       "    <tr>\n",
       "      <th>4</th>\n",
       "      <td>pit</td>\n",
       "      <td>alex goligoski</td>\n",
       "      <td>Defence</td>\n",
       "      <td>3</td>\n",
       "      <td>13.938889</td>\n",
       "      <td>41.816667</td>\n",
       "      <td>100.00</td>\n",
       "      <td>0</td>\n",
       "      <td>2</td>\n",
       "      <td>1</td>\n",
       "      <td>...</td>\n",
       "      <td>500000</td>\n",
       "      <td>295300</td>\n",
       "      <td>188900</td>\n",
       "      <td>2007-08</td>\n",
       "      <td>50300000</td>\n",
       "      <td>0.016805</td>\n",
       "      <td>0</td>\n",
       "      <td>0.034137</td>\n",
       "      <td>2.031335</td>\n",
       "      <td>Pittsburgh Penguins</td>\n",
       "    </tr>\n",
       "  </tbody>\n",
       "</table>\n",
       "<p>5 rows × 176 columns</p>\n",
       "</div>"
      ],
      "text/plain": [
       "  TEAM          PLAYER    POSITION  GP     TOI/GP          TOI     IPP  GOALS  \\\n",
       "0  chi     adam burish  Right Wing  81  11.748354   951.616667   40.00      4   \n",
       "1  pit       adam hall  Right Wing  46  11.872826   546.150000   75.00      2   \n",
       "2  edm     ales hemsky  Right Wing  74  18.574099  1374.483333   81.61     20   \n",
       "3  buf    ales kotalik  Right Wing  79  15.342405  1212.050000   67.19     23   \n",
       "4  pit  alex goligoski     Defence   3  13.938889    41.816667  100.00      0   \n",
       "\n",
       "   TOTAL ASSISTS  FIRST ASSISTS  ...  BASE SALARY  S.BONUS  P.BONUS   SEASON  \\\n",
       "0              4              3  ...       500000    75000        0  2007-08   \n",
       "1              4              1  ...       525000        0        0  2007-08   \n",
       "2             51             36  ...      3600000        0        0  2007-08   \n",
       "3             20              7  ...      2500000        0        0  2007-08   \n",
       "4              2              1  ...       500000   295300   188900  2007-08   \n",
       "\n",
       "   SALARY CAP  SALARY CAP PERCENTAGE  DECEASED  PRED_SALARY_PERCENTAGE  \\\n",
       "0    50300000               0.011431         0                0.014010   \n",
       "1    50300000               0.010437         0                0.015781   \n",
       "2    50300000               0.081511         0                0.073371   \n",
       "3    50300000               0.046388         0                0.045050   \n",
       "4    50300000               0.016805         0                0.034137   \n",
       "\n",
       "   PRED/ACTUAL      TEAM_FULL_NAMES  \n",
       "0     1.225597   Chicago Blackhawks  \n",
       "1     1.512001  Pittsburgh Penguins  \n",
       "2     0.900138      Edmonton Oilers  \n",
       "3     0.971143       Buffalo Sabres  \n",
       "4     2.031335  Pittsburgh Penguins  \n",
       "\n",
       "[5 rows x 176 columns]"
      ]
     },
     "execution_count": 3,
     "metadata": {},
     "output_type": "execute_result"
    }
   ],
   "source": [
    "final_df = pd.read_csv('front_end_data.csv')\n",
    "\n",
    "\n",
    "final_df.head()"
   ]
  },
  {
   "cell_type": "code",
   "execution_count": 4,
   "metadata": {},
   "outputs": [],
   "source": [
    "merged_df = pd.merge(\n",
    "    final_df,\n",
    "    sentiment_df,\n",
    "    left_on='PLAYER',\n",
    "    right_on='mentioned_players',\n",
    "    how='left'\n",
    ")\n",
    "merged_df.drop(columns=['mentioned_players'], inplace=True)\n",
    "merged_df.loc[merged_df['SEASON'] != '2023-24', 'SENTIMENT'] = np.nan\n",
    "\n",
    "merged_df.to_csv('front_end_data_with_sentiment.csv', index=False)"
   ]
  },
  {
   "cell_type": "code",
   "execution_count": 5,
   "metadata": {},
   "outputs": [
    {
     "data": {
      "text/html": [
       "<div>\n",
       "<style scoped>\n",
       "    .dataframe tbody tr th:only-of-type {\n",
       "        vertical-align: middle;\n",
       "    }\n",
       "\n",
       "    .dataframe tbody tr th {\n",
       "        vertical-align: top;\n",
       "    }\n",
       "\n",
       "    .dataframe thead th {\n",
       "        text-align: right;\n",
       "    }\n",
       "</style>\n",
       "<table border=\"1\" class=\"dataframe\">\n",
       "  <thead>\n",
       "    <tr style=\"text-align: right;\">\n",
       "      <th></th>\n",
       "      <th>PLAYER</th>\n",
       "      <th>SEASON</th>\n",
       "      <th>AAV</th>\n",
       "      <th>PRED/ACTUAL</th>\n",
       "      <th>SENTIMENT</th>\n",
       "    </tr>\n",
       "  </thead>\n",
       "  <tbody>\n",
       "    <tr>\n",
       "      <th>11763</th>\n",
       "      <td>jordan martinook</td>\n",
       "      <td>2023-24</td>\n",
       "      <td>1800000</td>\n",
       "      <td>1.728688</td>\n",
       "      <td>1.000</td>\n",
       "    </tr>\n",
       "    <tr>\n",
       "      <th>11570</th>\n",
       "      <td>connor mcdavid</td>\n",
       "      <td>2023-24</td>\n",
       "      <td>12500000</td>\n",
       "      <td>0.801139</td>\n",
       "      <td>1.000</td>\n",
       "    </tr>\n",
       "    <tr>\n",
       "      <th>11672</th>\n",
       "      <td>jack hughes</td>\n",
       "      <td>2023-24</td>\n",
       "      <td>8000000</td>\n",
       "      <td>1.336866</td>\n",
       "      <td>1.000</td>\n",
       "    </tr>\n",
       "    <tr>\n",
       "      <th>11521</th>\n",
       "      <td>brock faber</td>\n",
       "      <td>2023-24</td>\n",
       "      <td>1008333</td>\n",
       "      <td>2.663592</td>\n",
       "      <td>1.000</td>\n",
       "    </tr>\n",
       "    <tr>\n",
       "      <th>11507</th>\n",
       "      <td>brendan lemieux</td>\n",
       "      <td>2023-24</td>\n",
       "      <td>800000</td>\n",
       "      <td>1.642169</td>\n",
       "      <td>1.000</td>\n",
       "    </tr>\n",
       "    <tr>\n",
       "      <th>...</th>\n",
       "      <td>...</td>\n",
       "      <td>...</td>\n",
       "      <td>...</td>\n",
       "      <td>...</td>\n",
       "      <td>...</td>\n",
       "    </tr>\n",
       "    <tr>\n",
       "      <th>11920</th>\n",
       "      <td>nick cousins</td>\n",
       "      <td>2023-24</td>\n",
       "      <td>1100000</td>\n",
       "      <td>2.155138</td>\n",
       "      <td>-0.775</td>\n",
       "    </tr>\n",
       "    <tr>\n",
       "      <th>11872</th>\n",
       "      <td>matthew tkachuk</td>\n",
       "      <td>2023-24</td>\n",
       "      <td>9500000</td>\n",
       "      <td>0.991646</td>\n",
       "      <td>-0.800</td>\n",
       "    </tr>\n",
       "    <tr>\n",
       "      <th>12076</th>\n",
       "      <td>tom wilson</td>\n",
       "      <td>2023-24</td>\n",
       "      <td>5166667</td>\n",
       "      <td>0.909788</td>\n",
       "      <td>-0.850</td>\n",
       "    </tr>\n",
       "    <tr>\n",
       "      <th>11484</th>\n",
       "      <td>boone jenner</td>\n",
       "      <td>2023-24</td>\n",
       "      <td>3750000</td>\n",
       "      <td>1.393707</td>\n",
       "      <td>-1.000</td>\n",
       "    </tr>\n",
       "    <tr>\n",
       "      <th>11419</th>\n",
       "      <td>adam ruzicka</td>\n",
       "      <td>2023-24</td>\n",
       "      <td>762500</td>\n",
       "      <td>1.554692</td>\n",
       "      <td>-1.000</td>\n",
       "    </tr>\n",
       "  </tbody>\n",
       "</table>\n",
       "<p>84 rows × 5 columns</p>\n",
       "</div>"
      ],
      "text/plain": [
       "                 PLAYER   SEASON       AAV  PRED/ACTUAL  SENTIMENT\n",
       "11763  jordan martinook  2023-24   1800000     1.728688      1.000\n",
       "11570    connor mcdavid  2023-24  12500000     0.801139      1.000\n",
       "11672       jack hughes  2023-24   8000000     1.336866      1.000\n",
       "11521       brock faber  2023-24   1008333     2.663592      1.000\n",
       "11507   brendan lemieux  2023-24    800000     1.642169      1.000\n",
       "...                 ...      ...       ...          ...        ...\n",
       "11920      nick cousins  2023-24   1100000     2.155138     -0.775\n",
       "11872   matthew tkachuk  2023-24   9500000     0.991646     -0.800\n",
       "12076        tom wilson  2023-24   5166667     0.909788     -0.850\n",
       "11484      boone jenner  2023-24   3750000     1.393707     -1.000\n",
       "11419      adam ruzicka  2023-24    762500     1.554692     -1.000\n",
       "\n",
       "[84 rows x 5 columns]"
      ]
     },
     "execution_count": 5,
     "metadata": {},
     "output_type": "execute_result"
    }
   ],
   "source": [
    "filtered_df = merged_df[['PLAYER', 'SEASON', 'AAV', 'PRED/ACTUAL', 'SENTIMENT']]\n",
    "filtered_df = filtered_df.query('SEASON == \"2023-24\"')\n",
    "filtered_df = filtered_df.sort_values(by='SENTIMENT', ascending=False)\n",
    "filtered_df = filtered_df[filtered_df['SENTIMENT'].notna()]\n",
    "\n",
    "filtered_df"
   ]
  },
  {
   "cell_type": "code",
   "execution_count": 6,
   "metadata": {},
   "outputs": [
    {
     "data": {
      "application/vnd.plotly.v1+json": {
       "config": {
        "plotlyServerURL": "https://plot.ly"
       },
       "data": [
        {
         "hovertemplate": "PRED/ACTUAL=%{x}<br>SENTIMENT=%{y}<extra></extra>",
         "legendgroup": "",
         "marker": {
          "color": "#636efa",
          "symbol": "circle"
         },
         "mode": "markers",
         "name": "",
         "orientation": "v",
         "showlegend": false,
         "type": "scatter",
         "x": [
          1.7286876038888896,
          0.8011390132,
          1.3368661037500007,
          2.6635919562162274,
          1.642169450000016,
          2.5262748331579026,
          0.7726961564539233,
          1.0464826210000016,
          1.6878197350000024,
          1.4611491737500144,
          2.9698660071328966,
          2.0222571376613927,
          2.7264087177253895,
          1.2776691409163592,
          0.9794015403449242,
          0.9682708381622854,
          0.8461265116363637,
          3.7032229757576074,
          2.450863346315797,
          1.0600706063636365,
          0.9501567114649692,
          0.6475347923076927,
          1.0149425,
          0.7760510215789478,
          0.923784800641026,
          0.9995885775862074,
          0.9277491023076924,
          0.9967414615873024,
          1.024649331052632,
          0.9433268369426762,
          0.9752804309677422,
          1.0619248485714328,
          1.8941696945000024,
          0.907205171481486,
          1.0049024600000014,
          1.053714630222223,
          1.0682531509090971,
          1.0840837565000014,
          0.7542775440000011,
          1.0175021208080808,
          1.0261828814693883,
          0.5563007989152553,
          0.9445329346568464,
          1.0997385775471729,
          1.0843461282352955,
          0.6750501934545464,
          0.9407302541176474,
          1.8740475836363748,
          0.719610682000001,
          0.6958617526315793,
          0.9221324641025644,
          1.971382726349227,
          0.8434665916923089,
          0.7868595987238203,
          2.8495957105263248,
          2.084655196065576,
          0.7708802873750011,
          0.7289048522857152,
          0.9387281113207558,
          0.6940526494444448,
          1.0280399968750014,
          1.284890288529415,
          0.955807440860216,
          0.9690006715384616,
          1.2101269067073204,
          0.8607272777777781,
          1.6568853426470629,
          2.7091899331579032,
          1.206745970271773,
          1.1290794660227277,
          2.6380556894037563,
          1.166377992948718,
          0.8059020071304348,
          0.8921206800000002,
          0.9354834605263164,
          1.6384371670000022,
          1.8867812993548392,
          1.010699738731708,
          0.853774814423077,
          2.1551376568181944,
          0.9916462285263165,
          0.9097884671104228,
          1.3937067386666686,
          1.5546917016393458
         ],
         "xaxis": "x",
         "y": [
          1,
          1,
          1,
          1,
          1,
          1,
          1,
          1,
          1,
          1,
          1,
          1,
          1,
          1,
          0.86,
          0.8333333333333334,
          0.8,
          0.8,
          0.8,
          0.6666666666666666,
          0.6,
          0.5,
          0.5,
          0.5,
          0.5,
          0.40714285714285714,
          0.4,
          0.3,
          0.275,
          0.2,
          0.15000000000000002,
          0.1,
          0.1,
          0.03333333333333333,
          0,
          0,
          0,
          0,
          0,
          0,
          0,
          0,
          0,
          0,
          0,
          0,
          0,
          0,
          0,
          0,
          0,
          0,
          0,
          0,
          0,
          0,
          0,
          0,
          0,
          0,
          0,
          0,
          0,
          -0.09999999999999998,
          -0.09999999999999998,
          -0.1,
          -0.19999999999999998,
          -0.2,
          -0.4,
          -0.4,
          -0.5,
          -0.5,
          -0.6,
          -0.6,
          -0.6,
          -0.6,
          -0.6,
          -0.6,
          -0.6,
          -0.775,
          -0.8,
          -0.85,
          -1,
          -1
         ],
         "yaxis": "y"
        }
       ],
       "layout": {
        "height": 600,
        "legend": {
         "tracegroupgap": 0
        },
        "showlegend": false,
        "template": {
         "data": {
          "bar": [
           {
            "error_x": {
             "color": "#2a3f5f"
            },
            "error_y": {
             "color": "#2a3f5f"
            },
            "marker": {
             "line": {
              "color": "#E5ECF6",
              "width": 0.5
             },
             "pattern": {
              "fillmode": "overlay",
              "size": 10,
              "solidity": 0.2
             }
            },
            "type": "bar"
           }
          ],
          "barpolar": [
           {
            "marker": {
             "line": {
              "color": "#E5ECF6",
              "width": 0.5
             },
             "pattern": {
              "fillmode": "overlay",
              "size": 10,
              "solidity": 0.2
             }
            },
            "type": "barpolar"
           }
          ],
          "carpet": [
           {
            "aaxis": {
             "endlinecolor": "#2a3f5f",
             "gridcolor": "white",
             "linecolor": "white",
             "minorgridcolor": "white",
             "startlinecolor": "#2a3f5f"
            },
            "baxis": {
             "endlinecolor": "#2a3f5f",
             "gridcolor": "white",
             "linecolor": "white",
             "minorgridcolor": "white",
             "startlinecolor": "#2a3f5f"
            },
            "type": "carpet"
           }
          ],
          "choropleth": [
           {
            "colorbar": {
             "outlinewidth": 0,
             "ticks": ""
            },
            "type": "choropleth"
           }
          ],
          "contour": [
           {
            "colorbar": {
             "outlinewidth": 0,
             "ticks": ""
            },
            "colorscale": [
             [
              0,
              "#0d0887"
             ],
             [
              0.1111111111111111,
              "#46039f"
             ],
             [
              0.2222222222222222,
              "#7201a8"
             ],
             [
              0.3333333333333333,
              "#9c179e"
             ],
             [
              0.4444444444444444,
              "#bd3786"
             ],
             [
              0.5555555555555556,
              "#d8576b"
             ],
             [
              0.6666666666666666,
              "#ed7953"
             ],
             [
              0.7777777777777778,
              "#fb9f3a"
             ],
             [
              0.8888888888888888,
              "#fdca26"
             ],
             [
              1,
              "#f0f921"
             ]
            ],
            "type": "contour"
           }
          ],
          "contourcarpet": [
           {
            "colorbar": {
             "outlinewidth": 0,
             "ticks": ""
            },
            "type": "contourcarpet"
           }
          ],
          "heatmap": [
           {
            "colorbar": {
             "outlinewidth": 0,
             "ticks": ""
            },
            "colorscale": [
             [
              0,
              "#0d0887"
             ],
             [
              0.1111111111111111,
              "#46039f"
             ],
             [
              0.2222222222222222,
              "#7201a8"
             ],
             [
              0.3333333333333333,
              "#9c179e"
             ],
             [
              0.4444444444444444,
              "#bd3786"
             ],
             [
              0.5555555555555556,
              "#d8576b"
             ],
             [
              0.6666666666666666,
              "#ed7953"
             ],
             [
              0.7777777777777778,
              "#fb9f3a"
             ],
             [
              0.8888888888888888,
              "#fdca26"
             ],
             [
              1,
              "#f0f921"
             ]
            ],
            "type": "heatmap"
           }
          ],
          "heatmapgl": [
           {
            "colorbar": {
             "outlinewidth": 0,
             "ticks": ""
            },
            "colorscale": [
             [
              0,
              "#0d0887"
             ],
             [
              0.1111111111111111,
              "#46039f"
             ],
             [
              0.2222222222222222,
              "#7201a8"
             ],
             [
              0.3333333333333333,
              "#9c179e"
             ],
             [
              0.4444444444444444,
              "#bd3786"
             ],
             [
              0.5555555555555556,
              "#d8576b"
             ],
             [
              0.6666666666666666,
              "#ed7953"
             ],
             [
              0.7777777777777778,
              "#fb9f3a"
             ],
             [
              0.8888888888888888,
              "#fdca26"
             ],
             [
              1,
              "#f0f921"
             ]
            ],
            "type": "heatmapgl"
           }
          ],
          "histogram": [
           {
            "marker": {
             "pattern": {
              "fillmode": "overlay",
              "size": 10,
              "solidity": 0.2
             }
            },
            "type": "histogram"
           }
          ],
          "histogram2d": [
           {
            "colorbar": {
             "outlinewidth": 0,
             "ticks": ""
            },
            "colorscale": [
             [
              0,
              "#0d0887"
             ],
             [
              0.1111111111111111,
              "#46039f"
             ],
             [
              0.2222222222222222,
              "#7201a8"
             ],
             [
              0.3333333333333333,
              "#9c179e"
             ],
             [
              0.4444444444444444,
              "#bd3786"
             ],
             [
              0.5555555555555556,
              "#d8576b"
             ],
             [
              0.6666666666666666,
              "#ed7953"
             ],
             [
              0.7777777777777778,
              "#fb9f3a"
             ],
             [
              0.8888888888888888,
              "#fdca26"
             ],
             [
              1,
              "#f0f921"
             ]
            ],
            "type": "histogram2d"
           }
          ],
          "histogram2dcontour": [
           {
            "colorbar": {
             "outlinewidth": 0,
             "ticks": ""
            },
            "colorscale": [
             [
              0,
              "#0d0887"
             ],
             [
              0.1111111111111111,
              "#46039f"
             ],
             [
              0.2222222222222222,
              "#7201a8"
             ],
             [
              0.3333333333333333,
              "#9c179e"
             ],
             [
              0.4444444444444444,
              "#bd3786"
             ],
             [
              0.5555555555555556,
              "#d8576b"
             ],
             [
              0.6666666666666666,
              "#ed7953"
             ],
             [
              0.7777777777777778,
              "#fb9f3a"
             ],
             [
              0.8888888888888888,
              "#fdca26"
             ],
             [
              1,
              "#f0f921"
             ]
            ],
            "type": "histogram2dcontour"
           }
          ],
          "mesh3d": [
           {
            "colorbar": {
             "outlinewidth": 0,
             "ticks": ""
            },
            "type": "mesh3d"
           }
          ],
          "parcoords": [
           {
            "line": {
             "colorbar": {
              "outlinewidth": 0,
              "ticks": ""
             }
            },
            "type": "parcoords"
           }
          ],
          "pie": [
           {
            "automargin": true,
            "type": "pie"
           }
          ],
          "scatter": [
           {
            "fillpattern": {
             "fillmode": "overlay",
             "size": 10,
             "solidity": 0.2
            },
            "type": "scatter"
           }
          ],
          "scatter3d": [
           {
            "line": {
             "colorbar": {
              "outlinewidth": 0,
              "ticks": ""
             }
            },
            "marker": {
             "colorbar": {
              "outlinewidth": 0,
              "ticks": ""
             }
            },
            "type": "scatter3d"
           }
          ],
          "scattercarpet": [
           {
            "marker": {
             "colorbar": {
              "outlinewidth": 0,
              "ticks": ""
             }
            },
            "type": "scattercarpet"
           }
          ],
          "scattergeo": [
           {
            "marker": {
             "colorbar": {
              "outlinewidth": 0,
              "ticks": ""
             }
            },
            "type": "scattergeo"
           }
          ],
          "scattergl": [
           {
            "marker": {
             "colorbar": {
              "outlinewidth": 0,
              "ticks": ""
             }
            },
            "type": "scattergl"
           }
          ],
          "scattermapbox": [
           {
            "marker": {
             "colorbar": {
              "outlinewidth": 0,
              "ticks": ""
             }
            },
            "type": "scattermapbox"
           }
          ],
          "scatterpolar": [
           {
            "marker": {
             "colorbar": {
              "outlinewidth": 0,
              "ticks": ""
             }
            },
            "type": "scatterpolar"
           }
          ],
          "scatterpolargl": [
           {
            "marker": {
             "colorbar": {
              "outlinewidth": 0,
              "ticks": ""
             }
            },
            "type": "scatterpolargl"
           }
          ],
          "scatterternary": [
           {
            "marker": {
             "colorbar": {
              "outlinewidth": 0,
              "ticks": ""
             }
            },
            "type": "scatterternary"
           }
          ],
          "surface": [
           {
            "colorbar": {
             "outlinewidth": 0,
             "ticks": ""
            },
            "colorscale": [
             [
              0,
              "#0d0887"
             ],
             [
              0.1111111111111111,
              "#46039f"
             ],
             [
              0.2222222222222222,
              "#7201a8"
             ],
             [
              0.3333333333333333,
              "#9c179e"
             ],
             [
              0.4444444444444444,
              "#bd3786"
             ],
             [
              0.5555555555555556,
              "#d8576b"
             ],
             [
              0.6666666666666666,
              "#ed7953"
             ],
             [
              0.7777777777777778,
              "#fb9f3a"
             ],
             [
              0.8888888888888888,
              "#fdca26"
             ],
             [
              1,
              "#f0f921"
             ]
            ],
            "type": "surface"
           }
          ],
          "table": [
           {
            "cells": {
             "fill": {
              "color": "#EBF0F8"
             },
             "line": {
              "color": "white"
             }
            },
            "header": {
             "fill": {
              "color": "#C8D4E3"
             },
             "line": {
              "color": "white"
             }
            },
            "type": "table"
           }
          ]
         },
         "layout": {
          "annotationdefaults": {
           "arrowcolor": "#2a3f5f",
           "arrowhead": 0,
           "arrowwidth": 1
          },
          "autotypenumbers": "strict",
          "coloraxis": {
           "colorbar": {
            "outlinewidth": 0,
            "ticks": ""
           }
          },
          "colorscale": {
           "diverging": [
            [
             0,
             "#8e0152"
            ],
            [
             0.1,
             "#c51b7d"
            ],
            [
             0.2,
             "#de77ae"
            ],
            [
             0.3,
             "#f1b6da"
            ],
            [
             0.4,
             "#fde0ef"
            ],
            [
             0.5,
             "#f7f7f7"
            ],
            [
             0.6,
             "#e6f5d0"
            ],
            [
             0.7,
             "#b8e186"
            ],
            [
             0.8,
             "#7fbc41"
            ],
            [
             0.9,
             "#4d9221"
            ],
            [
             1,
             "#276419"
            ]
           ],
           "sequential": [
            [
             0,
             "#0d0887"
            ],
            [
             0.1111111111111111,
             "#46039f"
            ],
            [
             0.2222222222222222,
             "#7201a8"
            ],
            [
             0.3333333333333333,
             "#9c179e"
            ],
            [
             0.4444444444444444,
             "#bd3786"
            ],
            [
             0.5555555555555556,
             "#d8576b"
            ],
            [
             0.6666666666666666,
             "#ed7953"
            ],
            [
             0.7777777777777778,
             "#fb9f3a"
            ],
            [
             0.8888888888888888,
             "#fdca26"
            ],
            [
             1,
             "#f0f921"
            ]
           ],
           "sequentialminus": [
            [
             0,
             "#0d0887"
            ],
            [
             0.1111111111111111,
             "#46039f"
            ],
            [
             0.2222222222222222,
             "#7201a8"
            ],
            [
             0.3333333333333333,
             "#9c179e"
            ],
            [
             0.4444444444444444,
             "#bd3786"
            ],
            [
             0.5555555555555556,
             "#d8576b"
            ],
            [
             0.6666666666666666,
             "#ed7953"
            ],
            [
             0.7777777777777778,
             "#fb9f3a"
            ],
            [
             0.8888888888888888,
             "#fdca26"
            ],
            [
             1,
             "#f0f921"
            ]
           ]
          },
          "colorway": [
           "#636efa",
           "#EF553B",
           "#00cc96",
           "#ab63fa",
           "#FFA15A",
           "#19d3f3",
           "#FF6692",
           "#B6E880",
           "#FF97FF",
           "#FECB52"
          ],
          "font": {
           "color": "#2a3f5f"
          },
          "geo": {
           "bgcolor": "white",
           "lakecolor": "white",
           "landcolor": "#E5ECF6",
           "showlakes": true,
           "showland": true,
           "subunitcolor": "white"
          },
          "hoverlabel": {
           "align": "left"
          },
          "hovermode": "closest",
          "mapbox": {
           "style": "light"
          },
          "paper_bgcolor": "white",
          "plot_bgcolor": "#E5ECF6",
          "polar": {
           "angularaxis": {
            "gridcolor": "white",
            "linecolor": "white",
            "ticks": ""
           },
           "bgcolor": "#E5ECF6",
           "radialaxis": {
            "gridcolor": "white",
            "linecolor": "white",
            "ticks": ""
           }
          },
          "scene": {
           "xaxis": {
            "backgroundcolor": "#E5ECF6",
            "gridcolor": "white",
            "gridwidth": 2,
            "linecolor": "white",
            "showbackground": true,
            "ticks": "",
            "zerolinecolor": "white"
           },
           "yaxis": {
            "backgroundcolor": "#E5ECF6",
            "gridcolor": "white",
            "gridwidth": 2,
            "linecolor": "white",
            "showbackground": true,
            "ticks": "",
            "zerolinecolor": "white"
           },
           "zaxis": {
            "backgroundcolor": "#E5ECF6",
            "gridcolor": "white",
            "gridwidth": 2,
            "linecolor": "white",
            "showbackground": true,
            "ticks": "",
            "zerolinecolor": "white"
           }
          },
          "shapedefaults": {
           "line": {
            "color": "#2a3f5f"
           }
          },
          "ternary": {
           "aaxis": {
            "gridcolor": "white",
            "linecolor": "white",
            "ticks": ""
           },
           "baxis": {
            "gridcolor": "white",
            "linecolor": "white",
            "ticks": ""
           },
           "bgcolor": "#E5ECF6",
           "caxis": {
            "gridcolor": "white",
            "linecolor": "white",
            "ticks": ""
           }
          },
          "title": {
           "x": 0.05
          },
          "xaxis": {
           "automargin": true,
           "gridcolor": "white",
           "linecolor": "white",
           "ticks": "",
           "title": {
            "standoff": 15
           },
           "zerolinecolor": "white",
           "zerolinewidth": 2
          },
          "yaxis": {
           "automargin": true,
           "gridcolor": "white",
           "linecolor": "white",
           "ticks": "",
           "title": {
            "standoff": 15
           },
           "zerolinecolor": "white",
           "zerolinewidth": 2
          }
         }
        },
        "title": {
         "text": "Scatter Plot of SENTIMENT vs. PRED/ACTUAL"
        },
        "width": 600,
        "xaxis": {
         "anchor": "y",
         "domain": [
          0,
          1
         ],
         "range": [
          0,
          2
         ],
         "title": {
          "text": "PRED/ACTUAL"
         }
        },
        "yaxis": {
         "anchor": "x",
         "domain": [
          0,
          1
         ],
         "title": {
          "text": "SENTIMENT"
         }
        }
       }
      }
     },
     "metadata": {},
     "output_type": "display_data"
    }
   ],
   "source": [
    "fig = px.scatter(\n",
    "    filtered_df,\n",
    "    y='SENTIMENT',\n",
    "    x='PRED/ACTUAL',\n",
    "    title='Scatter Plot of SENTIMENT vs. PRED/ACTUAL'\n",
    ")\n",
    "\n",
    "fig.update_layout(\n",
    "    yaxis_title='SENTIMENT',\n",
    "    xaxis_title='PRED/ACTUAL'\n",
    ")\n",
    "fig.update_layout(width=600, height=600, showlegend=False)\n",
    "fig.update_xaxes(range=[0, 2])\n",
    "fig.show()"
   ]
  },
  {
   "cell_type": "code",
   "execution_count": null,
   "metadata": {},
   "outputs": [],
   "source": []
  }
 ],
 "metadata": {
  "kernelspec": {
   "display_name": "py310",
   "language": "python",
   "name": "python3"
  },
  "language_info": {
   "codemirror_mode": {
    "name": "ipython",
    "version": 3
   },
   "file_extension": ".py",
   "mimetype": "text/x-python",
   "name": "python",
   "nbconvert_exporter": "python",
   "pygments_lexer": "ipython3",
   "version": "3.10.14"
  }
 },
 "nbformat": 4,
 "nbformat_minor": 2
}
