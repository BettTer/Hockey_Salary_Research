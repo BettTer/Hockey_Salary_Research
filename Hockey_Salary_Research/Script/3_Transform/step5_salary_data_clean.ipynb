{
 "cells": [
  {
   "cell_type": "markdown",
   "metadata": {},
   "source": [
    "# Assessing Our Salary Data"
   ]
  },
  {
   "cell_type": "code",
   "execution_count": 6,
   "metadata": {},
   "outputs": [],
   "source": [
    "import pandas as pd\n",
    "import os"
   ]
  },
  {
   "cell_type": "code",
   "execution_count": 7,
   "metadata": {},
   "outputs": [
    {
     "data": {
      "text/plain": [
       "(22085, 24)"
      ]
     },
     "execution_count": 7,
     "metadata": {},
     "output_type": "execute_result"
    }
   ],
   "source": [
    "# Import all Y data from 2007-08 to 2023-24\n",
    "Y_file_path = '../../Data/Lake/1B_Output_Salary/dataframe'\n",
    "\n",
    "# Y_file_path contains csv files for each year from 2007-08 to 2023-24\n",
    "salary_data = pd.DataFrame()\n",
    "for year in range(2008, 2025):\n",
    "    this_year = pd.read_csv(Y_file_path + '/season=' + str(year) + '.csv')\n",
    "    salary_data = pd.concat([salary_data, this_year])\n",
    "\n",
    "salary_data.shape"
   ]
  },
  {
   "cell_type": "code",
   "execution_count": 8,
   "metadata": {},
   "outputs": [
    {
     "data": {
      "text/plain": [
       "['PLAYER',\n",
       " 'TEAM',\n",
       " 'AGE',\n",
       " 'DATE OF BIRTH',\n",
       " 'COUNTRY',\n",
       " 'POS',\n",
       " 'HANDED',\n",
       " 'DRAFTED',\n",
       " 'SIGNING TEAM',\n",
       " 'TYPE',\n",
       " 'SIGNING AGE',\n",
       " 'CLAUSE',\n",
       " 'LENGTH',\n",
       " 'EXPIRY',\n",
       " 'EXP. YEAR',\n",
       " 'CAP HIT',\n",
       " 'AAV',\n",
       " 'SALARY',\n",
       " 'BASE SALARY',\n",
       " 'S.BONUS',\n",
       " 'P.BONUS',\n",
       " 'season',\n",
       " 'Y_Salary_Cap',\n",
       " 'Y_Salary_Cap_Percentage']"
      ]
     },
     "execution_count": 8,
     "metadata": {},
     "output_type": "execute_result"
    }
   ],
   "source": [
    "salary_data.columns.tolist()"
   ]
  },
  {
   "cell_type": "code",
   "execution_count": 9,
   "metadata": {},
   "outputs": [],
   "source": [
    "# View players that show up twice in one year in our salary data\n",
    "indices = salary_data[salary_data.duplicated(subset=['PLAYER', 'season'], keep=False)].sort_values(by=['PLAYER', 'POS', 'season']).index"
   ]
  },
  {
   "cell_type": "code",
   "execution_count": 10,
   "metadata": {},
   "outputs": [],
   "source": [
    "# drop all records based on indices\n",
    "salary_data.drop(index=indices, inplace=True)"
   ]
  },
  {
   "cell_type": "code",
   "execution_count": 11,
   "metadata": {},
   "outputs": [
    {
     "data": {
      "text/html": [
       "<div>\n",
       "<style scoped>\n",
       "    .dataframe tbody tr th:only-of-type {\n",
       "        vertical-align: middle;\n",
       "    }\n",
       "\n",
       "    .dataframe tbody tr th {\n",
       "        vertical-align: top;\n",
       "    }\n",
       "\n",
       "    .dataframe thead th {\n",
       "        text-align: right;\n",
       "    }\n",
       "</style>\n",
       "<table border=\"1\" class=\"dataframe\">\n",
       "  <thead>\n",
       "    <tr style=\"text-align: right;\">\n",
       "      <th></th>\n",
       "      <th>SIGNING AGE</th>\n",
       "      <th>LENGTH</th>\n",
       "      <th>EXP. YEAR</th>\n",
       "      <th>Y_Salary_Cap</th>\n",
       "      <th>Y_Salary_Cap_Percentage</th>\n",
       "    </tr>\n",
       "  </thead>\n",
       "  <tbody>\n",
       "    <tr>\n",
       "      <th>count</th>\n",
       "      <td>20719.000000</td>\n",
       "      <td>20719.000000</td>\n",
       "      <td>20719.000000</td>\n",
       "      <td>2.071900e+04</td>\n",
       "      <td>20719.000000</td>\n",
       "    </tr>\n",
       "    <tr>\n",
       "      <th>mean</th>\n",
       "      <td>23.839423</td>\n",
       "      <td>2.908731</td>\n",
       "      <td>2018.207925</td>\n",
       "      <td>7.231779e+07</td>\n",
       "      <td>0.025804</td>\n",
       "    </tr>\n",
       "    <tr>\n",
       "      <th>std</th>\n",
       "      <td>4.440089</td>\n",
       "      <td>1.724880</td>\n",
       "      <td>4.718979</td>\n",
       "      <td>9.612829e+06</td>\n",
       "      <td>0.026796</td>\n",
       "    </tr>\n",
       "    <tr>\n",
       "      <th>min</th>\n",
       "      <td>0.000000</td>\n",
       "      <td>1.000000</td>\n",
       "      <td>2008.000000</td>\n",
       "      <td>5.030000e+07</td>\n",
       "      <td>0.007850</td>\n",
       "    </tr>\n",
       "    <tr>\n",
       "      <th>25%</th>\n",
       "      <td>20.000000</td>\n",
       "      <td>2.000000</td>\n",
       "      <td>2015.000000</td>\n",
       "      <td>6.430000e+07</td>\n",
       "      <td>0.009576</td>\n",
       "    </tr>\n",
       "    <tr>\n",
       "      <th>50%</th>\n",
       "      <td>23.000000</td>\n",
       "      <td>3.000000</td>\n",
       "      <td>2019.000000</td>\n",
       "      <td>7.300000e+07</td>\n",
       "      <td>0.011597</td>\n",
       "    </tr>\n",
       "    <tr>\n",
       "      <th>75%</th>\n",
       "      <td>27.000000</td>\n",
       "      <td>3.000000</td>\n",
       "      <td>2022.000000</td>\n",
       "      <td>8.150000e+07</td>\n",
       "      <td>0.033444</td>\n",
       "    </tr>\n",
       "    <tr>\n",
       "      <th>max</th>\n",
       "      <td>48.000000</td>\n",
       "      <td>15.000000</td>\n",
       "      <td>2031.000000</td>\n",
       "      <td>8.350000e+07</td>\n",
       "      <td>0.279082</td>\n",
       "    </tr>\n",
       "  </tbody>\n",
       "</table>\n",
       "</div>"
      ],
      "text/plain": [
       "        SIGNING AGE        LENGTH     EXP. YEAR  Y_Salary_Cap  \\\n",
       "count  20719.000000  20719.000000  20719.000000  2.071900e+04   \n",
       "mean      23.839423      2.908731   2018.207925  7.231779e+07   \n",
       "std        4.440089      1.724880      4.718979  9.612829e+06   \n",
       "min        0.000000      1.000000   2008.000000  5.030000e+07   \n",
       "25%       20.000000      2.000000   2015.000000  6.430000e+07   \n",
       "50%       23.000000      3.000000   2019.000000  7.300000e+07   \n",
       "75%       27.000000      3.000000   2022.000000  8.150000e+07   \n",
       "max       48.000000     15.000000   2031.000000  8.350000e+07   \n",
       "\n",
       "       Y_Salary_Cap_Percentage  \n",
       "count             20719.000000  \n",
       "mean                  0.025804  \n",
       "std                   0.026796  \n",
       "min                   0.007850  \n",
       "25%                   0.009576  \n",
       "50%                   0.011597  \n",
       "75%                   0.033444  \n",
       "max                   0.279082  "
      ]
     },
     "execution_count": 11,
     "metadata": {},
     "output_type": "execute_result"
    }
   ],
   "source": [
    "salary_data.describe()"
   ]
  },
  {
   "cell_type": "code",
   "execution_count": 14,
   "metadata": {},
   "outputs": [],
   "source": [
    "# Save salary data to the warehouse\n",
    "outdir = '../../Data/Warehouse/SalaryData/'\n",
    "outfile = 'salary_data.csv' \n",
    "if not os.path.exists(outdir):\n",
    "    os.mkdir(outdir)\n",
    "salary_data.to_csv(outdir + '/' + outfile, index=False)"
   ]
  },
  {
   "cell_type": "code",
   "execution_count": 15,
   "metadata": {},
   "outputs": [],
   "source": []
  },
  {
   "cell_type": "code",
   "execution_count": 16,
   "metadata": {},
   "outputs": [
    {
     "data": {
      "text/html": [
       "<div>\n",
       "<style scoped>\n",
       "    .dataframe tbody tr th:only-of-type {\n",
       "        vertical-align: middle;\n",
       "    }\n",
       "\n",
       "    .dataframe tbody tr th {\n",
       "        vertical-align: top;\n",
       "    }\n",
       "\n",
       "    .dataframe thead th {\n",
       "        text-align: right;\n",
       "    }\n",
       "</style>\n",
       "<table border=\"1\" class=\"dataframe\">\n",
       "  <thead>\n",
       "    <tr style=\"text-align: right;\">\n",
       "      <th></th>\n",
       "      <th>SIGNING AGE</th>\n",
       "      <th>LENGTH</th>\n",
       "      <th>EXP. YEAR</th>\n",
       "      <th>Y_Salary_Cap</th>\n",
       "      <th>Y_Salary_Cap_Percentage</th>\n",
       "    </tr>\n",
       "  </thead>\n",
       "  <tbody>\n",
       "    <tr>\n",
       "      <th>count</th>\n",
       "      <td>20718.000000</td>\n",
       "      <td>20718.000000</td>\n",
       "      <td>20718.000000</td>\n",
       "      <td>2.071800e+04</td>\n",
       "      <td>20718.000000</td>\n",
       "    </tr>\n",
       "    <tr>\n",
       "      <th>mean</th>\n",
       "      <td>23.839463</td>\n",
       "      <td>2.908823</td>\n",
       "      <td>2018.208225</td>\n",
       "      <td>7.231817e+07</td>\n",
       "      <td>0.025792</td>\n",
       "    </tr>\n",
       "    <tr>\n",
       "      <th>std</th>\n",
       "      <td>4.440192</td>\n",
       "      <td>1.724870</td>\n",
       "      <td>4.718896</td>\n",
       "      <td>9.612899e+06</td>\n",
       "      <td>0.026739</td>\n",
       "    </tr>\n",
       "    <tr>\n",
       "      <th>min</th>\n",
       "      <td>0.000000</td>\n",
       "      <td>1.000000</td>\n",
       "      <td>2008.000000</td>\n",
       "      <td>5.030000e+07</td>\n",
       "      <td>0.007850</td>\n",
       "    </tr>\n",
       "    <tr>\n",
       "      <th>25%</th>\n",
       "      <td>20.000000</td>\n",
       "      <td>2.000000</td>\n",
       "      <td>2015.000000</td>\n",
       "      <td>6.430000e+07</td>\n",
       "      <td>0.009576</td>\n",
       "    </tr>\n",
       "    <tr>\n",
       "      <th>50%</th>\n",
       "      <td>23.000000</td>\n",
       "      <td>3.000000</td>\n",
       "      <td>2019.000000</td>\n",
       "      <td>7.300000e+07</td>\n",
       "      <td>0.011596</td>\n",
       "    </tr>\n",
       "    <tr>\n",
       "      <th>75%</th>\n",
       "      <td>27.000000</td>\n",
       "      <td>3.000000</td>\n",
       "      <td>2022.000000</td>\n",
       "      <td>8.150000e+07</td>\n",
       "      <td>0.033437</td>\n",
       "    </tr>\n",
       "    <tr>\n",
       "      <th>max</th>\n",
       "      <td>48.000000</td>\n",
       "      <td>15.000000</td>\n",
       "      <td>2031.000000</td>\n",
       "      <td>8.350000e+07</td>\n",
       "      <td>0.168227</td>\n",
       "    </tr>\n",
       "  </tbody>\n",
       "</table>\n",
       "</div>"
      ],
      "text/plain": [
       "        SIGNING AGE        LENGTH     EXP. YEAR  Y_Salary_Cap  \\\n",
       "count  20718.000000  20718.000000  20718.000000  2.071800e+04   \n",
       "mean      23.839463      2.908823   2018.208225  7.231817e+07   \n",
       "std        4.440192      1.724870      4.718896  9.612899e+06   \n",
       "min        0.000000      1.000000   2008.000000  5.030000e+07   \n",
       "25%       20.000000      2.000000   2015.000000  6.430000e+07   \n",
       "50%       23.000000      3.000000   2019.000000  7.300000e+07   \n",
       "75%       27.000000      3.000000   2022.000000  8.150000e+07   \n",
       "max       48.000000     15.000000   2031.000000  8.350000e+07   \n",
       "\n",
       "       Y_Salary_Cap_Percentage  \n",
       "count             20718.000000  \n",
       "mean                  0.025792  \n",
       "std                   0.026739  \n",
       "min                   0.007850  \n",
       "25%                   0.009576  \n",
       "50%                   0.011596  \n",
       "75%                   0.033437  \n",
       "max                   0.168227  "
      ]
     },
     "execution_count": 16,
     "metadata": {},
     "output_type": "execute_result"
    }
   ],
   "source": []
  },
  {
   "cell_type": "code",
   "execution_count": null,
   "metadata": {},
   "outputs": [],
   "source": []
  }
 ],
 "metadata": {
  "kernelspec": {
   "display_name": "dataScienceEnv",
   "language": "python",
   "name": "python3"
  },
  "language_info": {
   "codemirror_mode": {
    "name": "ipython",
    "version": 3
   },
   "file_extension": ".py",
   "mimetype": "text/x-python",
   "name": "python",
   "nbconvert_exporter": "python",
   "pygments_lexer": "ipython3",
   "version": "3.12.2"
  }
 },
 "nbformat": 4,
 "nbformat_minor": 2
}
