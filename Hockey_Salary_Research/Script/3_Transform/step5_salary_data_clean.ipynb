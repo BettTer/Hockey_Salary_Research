{
 "cells": [
  {
   "cell_type": "markdown",
   "metadata": {},
   "source": [
    "# Assessing Our Salary Data"
   ]
  },
  {
   "cell_type": "code",
   "execution_count": 3,
   "metadata": {},
   "outputs": [],
   "source": [
    "import pandas as pd\n",
    "import os"
   ]
  },
  {
   "cell_type": "code",
   "execution_count": 4,
   "metadata": {},
   "outputs": [
    {
     "data": {
      "text/plain": [
       "(22085, 24)"
      ]
     },
     "execution_count": 4,
     "metadata": {},
     "output_type": "execute_result"
    }
   ],
   "source": [
    "# Import all Y data from 2007-08 to 2023-24\n",
    "Y_file_path = '../../Data/Lake/1B_Output_Salary/dataframe'\n",
    "\n",
    "# Y_file_path contains csv files for each year from 2007-08 to 2023-24\n",
    "salary_data = pd.DataFrame()\n",
    "for year in range(2008, 2025):\n",
    "    this_year = pd.read_csv(Y_file_path + '/season=' + str(year) + '.csv')\n",
    "    salary_data = pd.concat([salary_data, this_year])\n",
    "\n",
    "salary_data.shape"
   ]
  },
  {
   "cell_type": "code",
   "execution_count": 5,
   "metadata": {},
   "outputs": [
    {
     "data": {
      "text/plain": [
       "['PLAYER',\n",
       " 'TEAM',\n",
       " 'AGE',\n",
       " 'DATE OF BIRTH',\n",
       " 'COUNTRY',\n",
       " 'POS',\n",
       " 'HANDED',\n",
       " 'DRAFTED',\n",
       " 'SIGNING TEAM',\n",
       " 'TYPE',\n",
       " 'SIGNING AGE',\n",
       " 'CLAUSE',\n",
       " 'LENGTH',\n",
       " 'EXPIRY',\n",
       " 'EXP. YEAR',\n",
       " 'CAP HIT',\n",
       " 'AAV',\n",
       " 'SALARY',\n",
       " 'BASE SALARY',\n",
       " 'S.BONUS',\n",
       " 'P.BONUS',\n",
       " 'season',\n",
       " 'Y_Salary_Cap',\n",
       " 'Y_Salary_Cap_Percentage']"
      ]
     },
     "execution_count": 5,
     "metadata": {},
     "output_type": "execute_result"
    }
   ],
   "source": [
    "salary_data.columns.tolist()"
   ]
  },
  {
   "cell_type": "code",
   "execution_count": 8,
   "metadata": {},
   "outputs": [],
   "source": [
    "# View players that show up twice in one year in our salary data\n",
    "indices = salary_data[salary_data.duplicated(subset=['PLAYER', 'season'], keep=False)].sort_values(by=['PLAYER', 'POS', 'season']).index"
   ]
  },
  {
   "cell_type": "code",
   "execution_count": 10,
   "metadata": {},
   "outputs": [],
   "source": [
    "# drop all records based on indices\n",
    "salary_data.drop(index=indices, inplace=True)"
   ]
  },
  {
   "cell_type": "code",
   "execution_count": 14,
   "metadata": {},
   "outputs": [],
   "source": [
    "# Save salary data to the warehouse\n",
    "outdir = '../../Data/Warehouse/SalaryData/'\n",
    "outfile = 'salary_data.csv' \n",
    "if not os.path.exists(outdir):\n",
    "    os.mkdir(outdir)\n",
    "salary_data.to_csv(outdir + '/' + outfile, index=False)"
   ]
  },
  {
   "cell_type": "code",
   "execution_count": null,
   "metadata": {},
   "outputs": [],
   "source": []
  }
 ],
 "metadata": {
  "kernelspec": {
   "display_name": "dataScienceEnv",
   "language": "python",
   "name": "python3"
  },
  "language_info": {
   "codemirror_mode": {
    "name": "ipython",
    "version": 3
   },
   "file_extension": ".py",
   "mimetype": "text/x-python",
   "name": "python",
   "nbconvert_exporter": "python",
   "pygments_lexer": "ipython3",
   "version": "3.12.2"
  }
 },
 "nbformat": 4,
 "nbformat_minor": 2
}
