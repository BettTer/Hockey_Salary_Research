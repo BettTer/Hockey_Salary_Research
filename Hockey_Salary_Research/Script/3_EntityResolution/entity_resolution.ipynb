{
 "cells": [
  {
   "cell_type": "markdown",
   "metadata": {},
   "source": [
    "# Entity Resolution of Player Metrics with Salary Data for NHL Hockey Players#\n",
    "\n",
    "Before we can do any real work on our ML project, we need to merge our X and Y data which was obtained from different sources. Lets do that now."
   ]
  },
  {
   "cell_type": "code",
   "execution_count": 37,
   "metadata": {},
   "outputs": [],
   "source": [
    "import pandas as pd\n",
    "import os"
   ]
  },
  {
   "cell_type": "markdown",
   "metadata": {},
   "source": [
    "Step 1 will be to load in our data. Lets get our X's and check the shape. Recall that our X data is NHL performance data, with metrics like Goals, Assists, Games Played, for each player for each year from 2007-08 until 2023-24."
   ]
  },
  {
   "cell_type": "code",
   "execution_count": 38,
   "metadata": {},
   "outputs": [
    {
     "data": {
      "text/plain": [
       "(16108, 97)"
      ]
     },
     "execution_count": 38,
     "metadata": {},
     "output_type": "execute_result"
    }
   ],
   "source": [
    "# Import all X data from 2007-08 to 2023-24\n",
    "X_file_path = '../../Data/NHL_PlayerData_NaturalStatTrick/parquet'\n",
    "player_metrics = pd.read_parquet(X_file_path)\n",
    "\n",
    "# Change year column from 2007 to 2006-07 for year 2007 to 2024\n",
    "player_metrics['Year'] = player_metrics['Year'].apply(lambda x: str(x - 1) + '-' + str(x)[2:])\n",
    "\n",
    "player_metrics.shape"
   ]
  },
  {
   "cell_type": "markdown",
   "metadata": {},
   "source": [
    "Continuing with step 1, now lets load in our Y values and again check the shape."
   ]
  },
  {
   "cell_type": "code",
   "execution_count": 39,
   "metadata": {},
   "outputs": [
    {
     "data": {
      "text/plain": [
       "(22082, 24)"
      ]
     },
     "execution_count": 39,
     "metadata": {},
     "output_type": "execute_result"
    }
   ],
   "source": [
    "# Import all Y data from 2007-08 to 2023-24\n",
    "Y_file_path = '../../Data/Salary/dataframe'\n",
    "\n",
    "# Y_file_path contains csv files for each year from 2007-08 to 2023-24\n",
    "salary_data = pd.DataFrame()\n",
    "for year in range(2008, 2025):\n",
    "    this_year = pd.read_csv(Y_file_path + '/season=' + str(year) + '.csv')\n",
    "    salary_data = pd.concat([salary_data, this_year])\n",
    "\n",
    "salary_data.shape"
   ]
  },
  {
   "cell_type": "code",
   "execution_count": 40,
   "metadata": {},
   "outputs": [
    {
     "name": "stdout",
     "output_type": "stream",
     "text": [
      "Player Metrics Columns: \n",
      " Index(['Position', 'Team', 'Player', 'TOI', 'GP', 'TOI/GP', 'Goals/60',\n",
      "       'Total Assists/60', 'First Assists/60', 'Second Assists/60',\n",
      "       'Total Points/60', 'IPP', 'Shots/60', 'SH%', 'ixG/60', 'iCF/60',\n",
      "       'iFF/60', 'iSCF/60', 'iHDCF/60', 'Rush Attempts/60',\n",
      "       'Rebounds Created/60', 'PIM/60', 'Total Penalties/60', 'Minor/60',\n",
      "       'Major/60', 'Misconduct/60', 'Penalties Drawn/60', 'Giveaways/60',\n",
      "       'Takeaways/60', 'Hits/60', 'Hits Taken/60', 'Shots Blocked/60',\n",
      "       'Faceoffs Won/60', 'Faceoffs Lost/60', 'Faceoffs %', 'CF/60', 'CA/60',\n",
      "       'CF%', 'FF/60', 'FA/60', 'FF%', 'SF/60', 'SA/60', 'SF%', 'GF/60',\n",
      "       'GA/60', 'GF%', 'xGF/60', 'xGA/60', 'xGF%', 'SCF/60', 'SCA/60', 'SCF%',\n",
      "       'HDCF/60', 'HDCA/60', 'HDCF%', 'HDGF/60', 'HDGA/60', 'HDGF%', 'MDCF/60',\n",
      "       'MDCA/60', 'MDCF%', 'MDGF/60', 'MDGA/60', 'MDGF%', 'LDCF/60', 'LDCA/60',\n",
      "       'LDCF%', 'LDGF/60', 'LDGA/60', 'LDGF%', 'On-Ice SH%', 'On-Ice SV%',\n",
      "       'PDO', 'Off. Zone Starts/60', 'Neu. Zone Starts/60',\n",
      "       'Def. Zone Starts/60', 'On The Fly Starts/60', 'Off. Zone Start %',\n",
      "       'Off. Zone Faceoffs/60', 'Neu. Zone Faceoffs/60',\n",
      "       'Def. Zone Faceoffs/60', 'Off. Zone Faceoff %', 'Age', 'Date of Birth',\n",
      "       'Birth City', 'Birth State/Province', 'Birth Country', 'Nationality',\n",
      "       'Height (in)', 'Weight (lbs)', 'Draft Year', 'Draft Team',\n",
      "       'Draft Round', 'Round Pick', 'Overall Draft Position', 'Year'],\n",
      "      dtype='object')\n",
      "\n",
      "Salary Data Columns: \n",
      " Index(['PLAYER', 'TEAM', 'AGE', 'DATE OF BIRTH', 'COUNTRY', 'POS', 'HANDED',\n",
      "       'DRAFTED', 'SIGNING TEAM', 'TYPE', 'SIGNING AGE', 'CLAUSE', 'LENGTH',\n",
      "       'EXPIRY', 'EXP. YEAR', 'CAP HIT', 'AAV', 'SALARY', 'BASE SALARY',\n",
      "       'S.BONUS', 'P.BONUS', 'season', 'Y_Salary_Cap',\n",
      "       'Y_Salary_Cap_Percentage'],\n",
      "      dtype='object')\n"
     ]
    }
   ],
   "source": [
    "print(f'Player Metrics Columns: \\n {player_metrics.columns}')\n",
    "print()\n",
    "print(f'Salary Data Columns: \\n {salary_data.columns}')"
   ]
  },
  {
   "cell_type": "markdown",
   "metadata": {},
   "source": [
    "As we can see, the maximum number of similar rows we can hope to find is 16108 as determined by our X's, since we were able to acquire more Y records than X."
   ]
  },
  {
   "cell_type": "markdown",
   "metadata": {},
   "source": [
    "# Trivial Join #\n",
    "player_metrics.columns includes Team, Player, Birth City, Birth Country, Nationality, Date of Birth, Year, Round Pick, Position \\\n",
    "salary_data.columns includes PLAYER, TEAM, AGE, POS, Date of Birth\n",
    "\n",
    "We absolutely must join on Player and Year, but it would be nice to also join on another column in the event that two players with the exact same name are in the league at the same time. Date of Birth is also common to these two tables, and it would be awfully unlikely for two people to be in the league at the same time with the exact same names and birthdates. "
   ]
  },
  {
   "cell_type": "code",
   "execution_count": 41,
   "metadata": {},
   "outputs": [],
   "source": [
    "# Merge player_metrics and salary_data on columns Player, Year, Birth Date\n",
    "\n",
    "# Convert all columns to lower case\n",
    "player_metrics['Player'] = player_metrics['Player'].str.lower()\n",
    "player_metrics['Team'] = player_metrics['Team'].str.lower()\n",
    "player_metrics['Year'] = player_metrics['Year'].str.lower()\n",
    "player_metrics['Position'] = player_metrics['Position'].str.lower()\n",
    "\n",
    "salary_data['PLAYER'] = salary_data['PLAYER'].str.lower()\n",
    "salary_data['TEAM'] = salary_data['TEAM'].str.lower()\n",
    "salary_data['season'] = salary_data['season'].str.lower()\n",
    "salary_data['POS'] = salary_data['POS'].str.lower()"
   ]
  },
  {
   "cell_type": "markdown",
   "metadata": {},
   "source": [
    "We need to check if the data types and structure of both Birth Date columns align."
   ]
  },
  {
   "cell_type": "code",
   "execution_count": 42,
   "metadata": {},
   "outputs": [
    {
     "name": "stdout",
     "output_type": "stream",
     "text": [
      "0        1974-08-27\n",
      "1        1983-04-30\n",
      "2        1971-08-11\n",
      "3        1983-09-27\n",
      "4        1981-07-02\n",
      "            ...    \n",
      "16103    1996-11-28\n",
      "16104    2003-02-24\n",
      "16105    1996-07-08\n",
      "16106    2003-05-29\n",
      "16107    1994-01-05\n",
      "Name: Date of Birth, Length: 16108, dtype: object\n",
      "0       Feb. 15, 1972\n",
      "1         May 2, 1980\n",
      "2       Apr. 28, 1970\n",
      "3       Mar. 18, 1977\n",
      "4       Dec. 23, 1979\n",
      "            ...      \n",
      "1555    Feb. 15, 1998\n",
      "1556     May 21, 1997\n",
      "1557    Feb. 18, 1998\n",
      "1558    Jun. 18, 1998\n",
      "1559    Mar. 30, 2001\n",
      "Name: DATE OF BIRTH, Length: 22082, dtype: object\n"
     ]
    }
   ],
   "source": [
    "print(player_metrics[\"Date of Birth\"])\n",
    "print(salary_data[\"DATE OF BIRTH\"])"
   ]
  },
  {
   "cell_type": "markdown",
   "metadata": {},
   "source": [
    "The above shows that they are clearly different, so we need to convert one to have the same format as the other. Lets modify salary_data to have year-month-day formatting."
   ]
  },
  {
   "cell_type": "code",
   "execution_count": 44,
   "metadata": {},
   "outputs": [
    {
     "data": {
      "text/plain": [
       "0       1972-02-15\n",
       "1       1980-05-02\n",
       "2       1970-04-28\n",
       "3       1977-03-18\n",
       "4       1979-12-23\n",
       "           ...    \n",
       "1555    1998-02-15\n",
       "1556    1997-05-21\n",
       "1557    1998-02-18\n",
       "1558    1998-06-18\n",
       "1559    2001-03-30\n",
       "Name: DATE OF BIRTH, Length: 22082, dtype: object"
      ]
     },
     "execution_count": 44,
     "metadata": {},
     "output_type": "execute_result"
    }
   ],
   "source": [
    "# Convert salary_data[\"DATE OF BIRTH\"] to year-month-day format\n",
    "\n",
    "# Preprocess dates to ensure consistency: add a period after each month if it is missing\n",
    "salary_data[\"DATE OF BIRTH\"] = salary_data[\"DATE OF BIRTH\"].apply(lambda x: x[:3] + '.' + x[3:] if x[3] != '.' else x)\n",
    "\n",
    "# Convert date to datetime format\n",
    "salary_data[\"DATE OF BIRTH\"] = pd.to_datetime(salary_data[\"DATE OF BIRTH\"], format='%b. %d, %Y')\n",
    "\n",
    "# Convert date to year-month-day format\n",
    "salary_data[\"DATE OF BIRTH\"] = salary_data[\"DATE OF BIRTH\"].dt.strftime('%Y-%m-%d')\n",
    "\n",
    "salary_data[\"DATE OF BIRTH\"]"
   ]
  },
  {
   "cell_type": "markdown",
   "metadata": {},
   "source": [
    "That looks good! After a bit preprocessing to make sure the formatting was consistent, we now have consistent birth date formats for each of our dataframes. It seems that we should be about ready to join.\n",
    "\n",
    "## Merging X and Y's ##\n",
    "\n",
    "We can now try to merge our Player_Metrics dataframe with our Salary_data df on columns [Player, Year, DOB]"
   ]
  },
  {
   "cell_type": "code",
   "execution_count": 45,
   "metadata": {},
   "outputs": [
    {
     "data": {
      "text/plain": [
       "(12357, 121)"
      ]
     },
     "execution_count": 45,
     "metadata": {},
     "output_type": "execute_result"
    }
   ],
   "source": [
    "# Merge player_metrics and salary_data on columns Player, Year, Birth Date\n",
    "merged_data = pd.merge(player_metrics, salary_data, how='inner', left_on=['Player', 'Year', 'Date of Birth'], right_on=['PLAYER', 'season', 'DATE OF BIRTH'])\n",
    "merged_data.shape"
   ]
  },
  {
   "cell_type": "code",
   "execution_count": 47,
   "metadata": {},
   "outputs": [
    {
     "data": {
      "text/plain": [
       "0.7671343431835113"
      ]
     },
     "execution_count": 47,
     "metadata": {},
     "output_type": "execute_result"
    }
   ],
   "source": [
    "# Compute the percentage of records we were able to join on\n",
    "percentage_joined = merged_data.shape[0] / player_metrics.shape[0]\n",
    "percentage_joined"
   ]
  },
  {
   "cell_type": "markdown",
   "metadata": {},
   "source": [
    "Not bad! Looks like we were able to join on 12357 / 16108 possible records, which is about 77% of our player performance data.\n",
    "\n",
    "## Saving this data back to disk ##\n",
    "\n",
    "Our final step for the entity resolution process is going to be to save the merged data to disk."
   ]
  },
  {
   "cell_type": "code",
   "execution_count": 49,
   "metadata": {},
   "outputs": [],
   "source": [
    "# Save the merged data to a csv file\n",
    "output_dir = '../../Data/entitiesResolved'\n",
    "if not os.path.exists(output_dir):\n",
    "    os.makedirs(output_dir)\n",
    "\n",
    "output_file = output_dir + '/merged_data.csv'\n",
    "merged_data.to_csv(output_file, index=False)"
   ]
  }
 ],
 "metadata": {
  "kernelspec": {
   "display_name": "dataScienceEnv",
   "language": "python",
   "name": "python3"
  },
  "language_info": {
   "codemirror_mode": {
    "name": "ipython",
    "version": 3
   },
   "file_extension": ".py",
   "mimetype": "text/x-python",
   "name": "python",
   "nbconvert_exporter": "python",
   "pygments_lexer": "ipython3",
   "version": "3.11.7"
  }
 },
 "nbformat": 4,
 "nbformat_minor": 2
}
