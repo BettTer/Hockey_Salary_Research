{
 "cells": [
  {
   "cell_type": "markdown",
   "metadata": {},
   "source": [
    "# Converting Rates to Totals\n",
    "\n",
    "The features of our data are all in rate form, and it occurs to me that it may be useful to utilize the totals for our features, instead of the rates. Here I will convert all features that are in a rate format \"feature/60\" back to simply \"feature\"."
   ]
  },
  {
   "cell_type": "code",
   "execution_count": 7,
   "metadata": {},
   "outputs": [],
   "source": [
    "import pandas as pd\n",
    "import numpy as np\n",
    "import os"
   ]
  },
  {
   "cell_type": "code",
   "execution_count": 8,
   "metadata": {},
   "outputs": [],
   "source": [
    "# Load in our data\n",
    "filepath = '../../Data/entitiesResolved/merged_data_clean.csv'\n",
    "data = pd.read_csv(filepath)"
   ]
  },
  {
   "cell_type": "markdown",
   "metadata": {},
   "source": [
    "Something convenient that I noticed is that TOI is already in the correct format. As opposed to minutes:seconds it has already been converted to total minutes"
   ]
  },
  {
   "cell_type": "code",
   "execution_count": 9,
   "metadata": {},
   "outputs": [
    {
     "data": {
      "text/plain": [
       "0         951.616667\n",
       "1        1754.250000\n",
       "2         546.150000\n",
       "3        1374.483333\n",
       "4        1212.050000\n",
       "            ...     \n",
       "12947       6.350000\n",
       "12948     876.383333\n",
       "12949     964.033333\n",
       "12950       8.683333\n",
       "12951    1292.750000\n",
       "Name: TOI, Length: 12952, dtype: float64"
      ]
     },
     "execution_count": 9,
     "metadata": {},
     "output_type": "execute_result"
    }
   ],
   "source": [
    "data['TOI'].head(-5)"
   ]
  },
  {
   "cell_type": "markdown",
   "metadata": {},
   "source": [
    "The second step is to find all columns that are in a rate format."
   ]
  },
  {
   "cell_type": "code",
   "execution_count": 10,
   "metadata": {},
   "outputs": [],
   "source": [
    "filtered_columns = data.filter(like='/60')"
   ]
  },
  {
   "cell_type": "markdown",
   "metadata": {},
   "source": [
    "The third step is to convert each of these columns back to their totals."
   ]
  },
  {
   "cell_type": "code",
   "execution_count": 11,
   "metadata": {},
   "outputs": [],
   "source": [
    "for column in filtered_columns.columns:\n",
    "    new_col = column[:-3]\n",
    "    data[new_col] = np.round(data[column] * (data['TOI'] / 60)).astype('int')"
   ]
  },
  {
   "cell_type": "code",
   "execution_count": 12,
   "metadata": {},
   "outputs": [],
   "source": [
    "# Save the merged data to a csv file\n",
    "output_dir = '../../Data/entitiesResolved'\n",
    "if not os.path.exists(output_dir):\n",
    "    os.makedirs(output_dir)\n",
    "\n",
    "output_file = output_dir + '/merged_data_final.csv'\n",
    "data.to_csv(output_file, index=False)"
   ]
  },
  {
   "cell_type": "code",
   "execution_count": null,
   "metadata": {},
   "outputs": [],
   "source": []
  }
 ],
 "metadata": {
  "kernelspec": {
   "display_name": "dataScienceEnv",
   "language": "python",
   "name": "python3"
  },
  "language_info": {
   "codemirror_mode": {
    "name": "ipython",
    "version": 3
   },
   "file_extension": ".py",
   "mimetype": "text/x-python",
   "name": "python",
   "nbconvert_exporter": "python",
   "pygments_lexer": "ipython3",
   "version": "3.12.2"
  }
 },
 "nbformat": 4,
 "nbformat_minor": 2
}
