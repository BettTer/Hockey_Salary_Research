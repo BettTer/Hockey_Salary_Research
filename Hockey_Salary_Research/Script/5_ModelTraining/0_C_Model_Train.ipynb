{
 "cells": [
  {
   "cell_type": "markdown",
   "metadata": {},
   "source": [
    "# Model Training: Centers\n",
    "\n",
    "The task here will be to train a model to predict that value of NHL players who play the Center position. Choice of features is based on the EDA done in 01_C_EDA.ipynb (Folder 4_ExploratoryDataAnalysis)"
   ]
  },
  {
   "cell_type": "markdown",
   "metadata": {},
   "source": [
    "## Import our data"
   ]
  },
  {
   "cell_type": "code",
   "execution_count": 250,
   "metadata": {},
   "outputs": [],
   "source": [
    "import pandas as pd\n",
    "import matplotlib.pyplot as plt\n",
    "from sklearn.model_selection import train_test_split\n",
    "from sklearn.pipeline import Pipeline\n",
    "from sklearn.preprocessing import StandardScaler, OneHotEncoder\n",
    "from sklearn.decomposition import PCA\n",
    "from sklearn.compose import ColumnTransformer\n",
    "from sklearn.linear_model import LinearRegression\n",
    "from sklearn.metrics import mean_squared_error"
   ]
  },
  {
   "cell_type": "code",
   "execution_count": 496,
   "metadata": {},
   "outputs": [],
   "source": [
    "# Load in our data\n",
    "filepath = '../../Data/entitiesResolved/merged_data_clean.csv'\n",
    "data = pd.read_csv(filepath)"
   ]
  },
  {
   "cell_type": "markdown",
   "metadata": {},
   "source": [
    "## Features to try:\n",
    "\n",
    "Recall that the EDA done revealed that we should try to use the following features:\n",
    "\n",
    "1. TOI/GP\n",
    "2. XGF/60 - and possibly combining it with SCF/60, FF/60, HDCF/60, CF/60, SF/60, and MDCF/60 to create a new feature.\n",
    "3. GF/60\n",
    "4. TOTAL ASSISTS/60 - But possibly using FIRST ASSISTS/60 and SECOND_ASSISTS/60 instead.\n",
    "5. GOALS/60\n",
    "6. Handedness"
   ]
  },
  {
   "cell_type": "code",
   "execution_count": 590,
   "metadata": {},
   "outputs": [
    {
     "name": "stdout",
     "output_type": "stream",
     "text": [
      "Mean Squared Error: 0.000786153785078385\n"
     ]
    }
   ],
   "source": [
    "# Select all rows were the 'Position' is 'c' or 'c,l' or 'c,r'\n",
    "centers = data[data['POSITION'].isin(['c', 'c, l', 'c, r'])]\n",
    "\n",
    "# Select only players with 65 or more games played\n",
    "centers = centers[(centers['GP'] >= 60)]\n",
    "\n",
    "# Select only players with a salary cap percentage in the interquartile range\n",
    "q1 = centers['Y_SALARY_CAP_PERCENTAGE'].quantile(0.25)\n",
    "q3 = centers['Y_SALARY_CAP_PERCENTAGE'].quantile(0.75)\n",
    "iqr = q3 - q1\n",
    "\n",
    "# Remove outliers\n",
    "test_train_data = centers[(centers['Y_SALARY_CAP_PERCENTAGE'] >= q1 - 1.5 * iqr) & (centers['Y_SALARY_CAP_PERCENTAGE'] <= q3 + 1.5 * iqr)]\n",
    "\n",
    "# Select the features we want to use\n",
    "numerical_features = ['TOTAL ASSISTS/60', 'GOALS/60', 'GF/60'] # Removed 'TOI/GP', 'FIRST ASSISTS/60', 'SECOND ASSISTS/60',\n",
    "categorical_features = []\n",
    "\n",
    "preprocessor = ColumnTransformer(\n",
    "    transformers=[\n",
    "        ('num', StandardScaler(), numerical_features),\n",
    "        ('cat', OneHotEncoder(), categorical_features)\n",
    "    ]\n",
    ")\n",
    "\n",
    "pipeline = Pipeline(steps=[('preprocessor', preprocessor),\n",
    "                           ('regressor', LinearRegression())])\n",
    "\n",
    "X = test_train_data\n",
    "y = test_train_data['Y_SALARY_CAP_PERCENTAGE']\n",
    "\n",
    "X_train, X_test, y_train, y_test = train_test_split(X, y, test_size=0.2, random_state=42)\n",
    "\n",
    "pipeline.fit(X_train, y_train)\n",
    "\n",
    "y_pred = pipeline.predict(X_test)\n",
    "\n",
    "mse = mean_squared_error(y_test, y_pred)\n",
    "print(f'Mean Squared Error: {mse}')"
   ]
  },
  {
   "cell_type": "code",
   "execution_count": 591,
   "metadata": {},
   "outputs": [
    {
     "name": "stdout",
     "output_type": "stream",
     "text": [
      "{'TOTAL ASSISTS/60': 0.0103, 'GOALS/60': 0.00199, 'GF/60': 0.00874}\n"
     ]
    }
   ],
   "source": [
    "# View the coefficients of the model with the name of the features\n",
    "features = numerical_features + categorical_features\n",
    "coefficients = pipeline.named_steps['regressor'].coef_\n",
    "coefficients = [round(coef, 5) for coef in coefficients]\n",
    "print(dict(zip(features, coefficients)))"
   ]
  },
  {
   "cell_type": "code",
   "execution_count": 592,
   "metadata": {},
   "outputs": [],
   "source": [
    "def convert_to_dollars(df, col):\n",
    "    return df[col].map('${:,.2f}'.format)"
   ]
  },
  {
   "cell_type": "code",
   "execution_count": 593,
   "metadata": {},
   "outputs": [],
   "source": [
    "# Create a feature column in Centers for the predicted salary\n",
    "centers['PRED_SALARY_PERCENTAGE'] = pipeline.predict(centers)\n",
    "\n",
    "# Create a column for the actual predicted salary\n",
    "centers['PRED_SALARY_CAP_AAV'] = centers['PRED_SALARY_PERCENTAGE'] * centers['Y_SALARY_CAP']\n",
    "\n",
    "centers['PRED_SALARY_CAP_AAV'] = centers['PRED_SALARY_CAP_AAV'].astype(int)\n",
    "\n",
    "# Convert Predicted_salary_cap_aav to $\n",
    "centers['PRED_SALARY_CAP_AAV'] = convert_to_dollars(centers, 'PRED_SALARY_CAP_AAV')\n",
    "\n",
    "# Convert 'AAV' to $\n",
    "centers['AAV'] = convert_to_dollars(centers, 'AAV')"
   ]
  },
  {
   "cell_type": "code",
   "execution_count": 594,
   "metadata": {},
   "outputs": [],
   "source": [
    "# Step 1: Group the data by 'SEASON' and find the minimum value of 'Y_SALARY_CAP_PERCENTAGE' for each season\n",
    "min_salary_by_season = centers.groupby('SEASON')['Y_SALARY_CAP_PERCENTAGE'].min()\n",
    "\n",
    "# Step 2: Merge the minimum values back into the original dataframe based on the 'SEASON' column\n",
    "centers = centers.merge(min_salary_by_season, on='SEASON', suffixes=('', '_MIN'))\n",
    "\n",
    "# Step 3: Update the predictions in 'PRED_SALARY_PERCENTAGE' column if they are lower than the minimum value\n",
    "centers['PRED_SALARY_PERCENTAGE'] = centers.apply(lambda row: max(row['PRED_SALARY_PERCENTAGE'], row['Y_SALARY_CAP_PERCENTAGE_MIN']), axis=1)\n",
    "\n",
    "# Step 4: Update the 'PRED_SALARY_PERCENTAGE' column in the dataframe with the updated predictions\n",
    "centers['PRED_SALARY_PERCENTAGE'] = centers['PRED_SALARY_PERCENTAGE']\n"
   ]
  },
  {
   "cell_type": "code",
   "execution_count": 595,
   "metadata": {},
   "outputs": [
    {
     "data": {
      "text/html": [
       "<div>\n",
       "<style scoped>\n",
       "    .dataframe tbody tr th:only-of-type {\n",
       "        vertical-align: middle;\n",
       "    }\n",
       "\n",
       "    .dataframe tbody tr th {\n",
       "        vertical-align: top;\n",
       "    }\n",
       "\n",
       "    .dataframe thead th {\n",
       "        text-align: right;\n",
       "    }\n",
       "</style>\n",
       "<table border=\"1\" class=\"dataframe\">\n",
       "  <thead>\n",
       "    <tr style=\"text-align: right;\">\n",
       "      <th></th>\n",
       "      <th>PLAYER</th>\n",
       "      <th>SEASON</th>\n",
       "      <th>TOTAL ASSISTS/60</th>\n",
       "      <th>GOALS/60</th>\n",
       "      <th>GF/60</th>\n",
       "      <th>Y_SALARY_CAP_PERCENTAGE</th>\n",
       "      <th>PRED_SALARY_PERCENTAGE</th>\n",
       "      <th>AAV</th>\n",
       "      <th>PRED_SALARY_CAP_AAV</th>\n",
       "    </tr>\n",
       "  </thead>\n",
       "  <tbody>\n",
       "    <tr>\n",
       "      <th>1846</th>\n",
       "      <td>connor mcdavid</td>\n",
       "      <td>2023-24</td>\n",
       "      <td>3.68</td>\n",
       "      <td>1.11</td>\n",
       "      <td>6.12</td>\n",
       "      <td>0.149701</td>\n",
       "      <td>0.125906</td>\n",
       "      <td>$12,500,000.00</td>\n",
       "      <td>$10,513,174.00</td>\n",
       "    </tr>\n",
       "    <tr>\n",
       "      <th>1892</th>\n",
       "      <td>nathan mackinnon</td>\n",
       "      <td>2023-24</td>\n",
       "      <td>2.85</td>\n",
       "      <td>1.60</td>\n",
       "      <td>6.04</td>\n",
       "      <td>0.150898</td>\n",
       "      <td>0.110888</td>\n",
       "      <td>$12,600,000.00</td>\n",
       "      <td>$9,259,148.00</td>\n",
       "    </tr>\n",
       "    <tr>\n",
       "      <th>1875</th>\n",
       "      <td>leon draisaitl</td>\n",
       "      <td>2023-24</td>\n",
       "      <td>2.37</td>\n",
       "      <td>1.51</td>\n",
       "      <td>5.51</td>\n",
       "      <td>0.101796</td>\n",
       "      <td>0.095686</td>\n",
       "      <td>$8,500,000.00</td>\n",
       "      <td>$7,989,773.00</td>\n",
       "    </tr>\n",
       "    <tr>\n",
       "      <th>1861</th>\n",
       "      <td>j.t. miller</td>\n",
       "      <td>2023-24</td>\n",
       "      <td>2.45</td>\n",
       "      <td>1.44</td>\n",
       "      <td>5.29</td>\n",
       "      <td>0.095808</td>\n",
       "      <td>0.094966</td>\n",
       "      <td>$8,000,000.00</td>\n",
       "      <td>$7,929,632.00</td>\n",
       "    </tr>\n",
       "    <tr>\n",
       "      <th>1856</th>\n",
       "      <td>elias pettersson</td>\n",
       "      <td>2023-24</td>\n",
       "      <td>2.14</td>\n",
       "      <td>1.44</td>\n",
       "      <td>5.25</td>\n",
       "      <td>0.088024</td>\n",
       "      <td>0.088190</td>\n",
       "      <td>$7,350,000.00</td>\n",
       "      <td>$7,363,825.00</td>\n",
       "    </tr>\n",
       "    <tr>\n",
       "      <th>1823</th>\n",
       "      <td>aleksander barkov</td>\n",
       "      <td>2023-24</td>\n",
       "      <td>2.38</td>\n",
       "      <td>0.89</td>\n",
       "      <td>4.80</td>\n",
       "      <td>0.119760</td>\n",
       "      <td>0.085905</td>\n",
       "      <td>$10,000,000.00</td>\n",
       "      <td>$7,173,025.00</td>\n",
       "    </tr>\n",
       "    <tr>\n",
       "      <th>1925</th>\n",
       "      <td>sebastian aho</td>\n",
       "      <td>2023-24</td>\n",
       "      <td>2.24</td>\n",
       "      <td>1.24</td>\n",
       "      <td>4.80</td>\n",
       "      <td>0.101320</td>\n",
       "      <td>0.085064</td>\n",
       "      <td>$8,460,250.00</td>\n",
       "      <td>$7,102,879.00</td>\n",
       "    </tr>\n",
       "    <tr>\n",
       "      <th>1835</th>\n",
       "      <td>brayden point</td>\n",
       "      <td>2023-24</td>\n",
       "      <td>1.64</td>\n",
       "      <td>1.73</td>\n",
       "      <td>5.41</td>\n",
       "      <td>0.113772</td>\n",
       "      <td>0.080971</td>\n",
       "      <td>$9,500,000.00</td>\n",
       "      <td>$6,761,113.00</td>\n",
       "    </tr>\n",
       "    <tr>\n",
       "      <th>1914</th>\n",
       "      <td>ryan nugent-hopkins</td>\n",
       "      <td>2023-24</td>\n",
       "      <td>1.98</td>\n",
       "      <td>0.74</td>\n",
       "      <td>5.11</td>\n",
       "      <td>0.061377</td>\n",
       "      <td>0.079509</td>\n",
       "      <td>$5,125,000.00</td>\n",
       "      <td>$6,638,967.00</td>\n",
       "    </tr>\n",
       "    <tr>\n",
       "      <th>1838</th>\n",
       "      <td>carter verhaeghe</td>\n",
       "      <td>2023-24</td>\n",
       "      <td>1.74</td>\n",
       "      <td>1.45</td>\n",
       "      <td>5.08</td>\n",
       "      <td>0.049900</td>\n",
       "      <td>0.078448</td>\n",
       "      <td>$4,166,667.00</td>\n",
       "      <td>$6,550,369.00</td>\n",
       "    </tr>\n",
       "    <tr>\n",
       "      <th>1831</th>\n",
       "      <td>auston matthews</td>\n",
       "      <td>2023-24</td>\n",
       "      <td>1.36</td>\n",
       "      <td>2.42</td>\n",
       "      <td>5.31</td>\n",
       "      <td>0.139404</td>\n",
       "      <td>0.078339</td>\n",
       "      <td>$11,640,250.00</td>\n",
       "      <td>$6,541,327.00</td>\n",
       "    </tr>\n",
       "    <tr>\n",
       "      <th>1883</th>\n",
       "      <td>mathew barzal</td>\n",
       "      <td>2023-24</td>\n",
       "      <td>2.15</td>\n",
       "      <td>0.92</td>\n",
       "      <td>4.34</td>\n",
       "      <td>0.109581</td>\n",
       "      <td>0.077210</td>\n",
       "      <td>$9,150,000.00</td>\n",
       "      <td>$6,447,034.00</td>\n",
       "    </tr>\n",
       "    <tr>\n",
       "      <th>1859</th>\n",
       "      <td>gustav nyquist</td>\n",
       "      <td>2023-24</td>\n",
       "      <td>2.09</td>\n",
       "      <td>0.92</td>\n",
       "      <td>4.38</td>\n",
       "      <td>0.038144</td>\n",
       "      <td>0.076325</td>\n",
       "      <td>$3,185,000.00</td>\n",
       "      <td>$6,373,128.00</td>\n",
       "    </tr>\n",
       "    <tr>\n",
       "      <th>1928</th>\n",
       "      <td>steven stamkos</td>\n",
       "      <td>2023-24</td>\n",
       "      <td>1.79</td>\n",
       "      <td>1.34</td>\n",
       "      <td>4.76</td>\n",
       "      <td>0.101796</td>\n",
       "      <td>0.075978</td>\n",
       "      <td>$8,500,000.00</td>\n",
       "      <td>$6,344,134.00</td>\n",
       "    </tr>\n",
       "    <tr>\n",
       "      <th>1880</th>\n",
       "      <td>mark scheifele</td>\n",
       "      <td>2023-24</td>\n",
       "      <td>1.96</td>\n",
       "      <td>1.05</td>\n",
       "      <td>4.50</td>\n",
       "      <td>0.073353</td>\n",
       "      <td>0.075470</td>\n",
       "      <td>$6,125,000.00</td>\n",
       "      <td>$6,301,711.00</td>\n",
       "    </tr>\n",
       "  </tbody>\n",
       "</table>\n",
       "</div>"
      ],
      "text/plain": [
       "                   PLAYER   SEASON  TOTAL ASSISTS/60  GOALS/60  GF/60  \\\n",
       "1846       connor mcdavid  2023-24              3.68      1.11   6.12   \n",
       "1892     nathan mackinnon  2023-24              2.85      1.60   6.04   \n",
       "1875       leon draisaitl  2023-24              2.37      1.51   5.51   \n",
       "1861          j.t. miller  2023-24              2.45      1.44   5.29   \n",
       "1856     elias pettersson  2023-24              2.14      1.44   5.25   \n",
       "1823    aleksander barkov  2023-24              2.38      0.89   4.80   \n",
       "1925        sebastian aho  2023-24              2.24      1.24   4.80   \n",
       "1835        brayden point  2023-24              1.64      1.73   5.41   \n",
       "1914  ryan nugent-hopkins  2023-24              1.98      0.74   5.11   \n",
       "1838     carter verhaeghe  2023-24              1.74      1.45   5.08   \n",
       "1831      auston matthews  2023-24              1.36      2.42   5.31   \n",
       "1883        mathew barzal  2023-24              2.15      0.92   4.34   \n",
       "1859       gustav nyquist  2023-24              2.09      0.92   4.38   \n",
       "1928       steven stamkos  2023-24              1.79      1.34   4.76   \n",
       "1880       mark scheifele  2023-24              1.96      1.05   4.50   \n",
       "\n",
       "      Y_SALARY_CAP_PERCENTAGE  PRED_SALARY_PERCENTAGE             AAV  \\\n",
       "1846                 0.149701                0.125906  $12,500,000.00   \n",
       "1892                 0.150898                0.110888  $12,600,000.00   \n",
       "1875                 0.101796                0.095686   $8,500,000.00   \n",
       "1861                 0.095808                0.094966   $8,000,000.00   \n",
       "1856                 0.088024                0.088190   $7,350,000.00   \n",
       "1823                 0.119760                0.085905  $10,000,000.00   \n",
       "1925                 0.101320                0.085064   $8,460,250.00   \n",
       "1835                 0.113772                0.080971   $9,500,000.00   \n",
       "1914                 0.061377                0.079509   $5,125,000.00   \n",
       "1838                 0.049900                0.078448   $4,166,667.00   \n",
       "1831                 0.139404                0.078339  $11,640,250.00   \n",
       "1883                 0.109581                0.077210   $9,150,000.00   \n",
       "1859                 0.038144                0.076325   $3,185,000.00   \n",
       "1928                 0.101796                0.075978   $8,500,000.00   \n",
       "1880                 0.073353                0.075470   $6,125,000.00   \n",
       "\n",
       "     PRED_SALARY_CAP_AAV  \n",
       "1846      $10,513,174.00  \n",
       "1892       $9,259,148.00  \n",
       "1875       $7,989,773.00  \n",
       "1861       $7,929,632.00  \n",
       "1856       $7,363,825.00  \n",
       "1823       $7,173,025.00  \n",
       "1925       $7,102,879.00  \n",
       "1835       $6,761,113.00  \n",
       "1914       $6,638,967.00  \n",
       "1838       $6,550,369.00  \n",
       "1831       $6,541,327.00  \n",
       "1883       $6,447,034.00  \n",
       "1859       $6,373,128.00  \n",
       "1928       $6,344,134.00  \n",
       "1880       $6,301,711.00  "
      ]
     },
     "execution_count": 595,
     "metadata": {},
     "output_type": "execute_result"
    }
   ],
   "source": [
    "# Select the top 15 centers by predicted salary\n",
    "top_centers = centers[centers['SEASON'] == '2023-24'].sort_values(by='PRED_SALARY_PERCENTAGE', ascending=False).head(15)\n",
    "top_centers[['PLAYER', 'SEASON'] + numerical_features + categorical_features + ['Y_SALARY_CAP_PERCENTAGE', 'PRED_SALARY_PERCENTAGE', 'AAV', 'PRED_SALARY_CAP_AAV']]"
   ]
  },
  {
   "cell_type": "code",
   "execution_count": 515,
   "metadata": {},
   "outputs": [
    {
     "data": {
      "text/plain": [
       "Text(0.5, 1.0, 'Distribution of Predicted Salary Percentage for Centers')"
      ]
     },
     "execution_count": 515,
     "metadata": {},
     "output_type": "execute_result"
    },
    {
     "data": {
      "image/png": "[encoded data removed]",
      "text/plain": [
       "<Figure size 640x480 with 1 Axes>"
      ]
     },
     "metadata": {},
     "output_type": "display_data"
    }
   ],
   "source": [
    "# Plot the distribution of PRED_SALARY_PERCENTAGE\n",
    "plt.hist(centers['PRED_SALARY_PERCENTAGE'], bins=30)\n",
    "plt.xlabel('Predicted Salary Percentage')\n",
    "plt.ylabel('Frequency')\n",
    "plt.title('Distribution of Predicted Salary Percentage for Centers')"
   ]
  },
  {
   "cell_type": "code",
   "execution_count": 506,
   "metadata": {},
   "outputs": [
    {
     "data": {
      "text/plain": [
       "Text(0.5, 1.0, 'Distribution of Actual Salary Percentage for Centers')"
      ]
     },
     "execution_count": 506,
     "metadata": {},
     "output_type": "execute_result"
    },
    {
     "data": {
      "image/png": "[encoded data removed]",
      "text/plain": [
       "<Figure size 640x480 with 1 Axes>"
      ]
     },
     "metadata": {},
     "output_type": "display_data"
    }
   ],
   "source": [
    "# Plot the distribution of Y_SALARY_CAP_PERCENTAGE\n",
    "plt.hist(centers['Y_SALARY_CAP_PERCENTAGE'], bins=30)\n",
    "plt.xlabel('Actual Salary Percentage')\n",
    "plt.ylabel('Frequency')\n",
    "plt.title('Distribution of Actual Salary Percentage for Centers')"
   ]
  },
  {
   "cell_type": "markdown",
   "metadata": {},
   "source": [
    "# Preliminary Conclusions\n",
    "It seems like we need to make some tweaks. I can see two ways to think about this:\n",
    "1. We're missing something in our feature set that predicts how valuable players like Connor Mcdavid and Nathan Mackinnon really are.\n",
    "2. Our model thinks that the highest paid players are significantly overpaid considering how well they produce on the ice."
   ]
  },
  {
   "cell_type": "markdown",
   "metadata": {},
   "source": []
  }
 ],
 "metadata": {
  "kernelspec": {
   "display_name": "base",
   "language": "python",
   "name": "python3"
  },
  "language_info": {
   "codemirror_mode": {
    "name": "ipython",
    "version": 3
   },
   "file_extension": ".py",
   "mimetype": "text/x-python",
   "name": "python",
   "nbconvert_exporter": "python",
   "pygments_lexer": "ipython3",
   "version": "3.12.2"
  }
 },
 "nbformat": 4,
 "nbformat_minor": 2
}
